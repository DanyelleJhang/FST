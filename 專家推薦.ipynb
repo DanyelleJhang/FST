{
 "cells": [
  {
   "cell_type": "code",
   "execution_count": null,
   "metadata": {},
   "outputs": [],
   "source": [
    "import optuna\n",
    "\n",
    "# 假设这是你的模型训练函数，返回一个损失值\n",
    "def train_model(hyperparameters, tolerance):\n",
    "    # 模拟一个损失函数，这里你可以替换为实际的模型训练和验证代码\n",
    "    loss = (hyperparameters['param1'] - 2)**2 + (hyperparameters['param2'] - 3)**2\n",
    "    # 加入容忍度\n",
    "    loss += tolerance\n",
    "    return loss\n",
    "\n",
    "# 定义一个优化目标函数\n",
    "def objective(trial, tolerance):\n",
    "    # 这里定义你要优化的超参数\n",
    "    hyperparameters = {\n",
    "        'param1': trial.suggest_float('param1', 0, 5),\n",
    "        'param2': trial.suggest_float('param2', 0, 5),\n",
    "    }\n",
    "    # 训练模型并获取损失\n",
    "    loss = train_model(hyperparameters, tolerance)\n",
    "    return loss\n",
    "\n",
    "# 设定不同的误差容忍度\n",
    "tolerances = [1, 2, 3]\n",
    "\n",
    "# 用于存储不同容忍度下的最佳超参数\n",
    "best_params = {}\n",
    "\n",
    "for tolerance in tolerances:\n",
    "    study = optuna.create_study(direction='minimize')\n",
    "    study.optimize(lambda trial: objective(trial, tolerance), n_trials=50)\n",
    "    best_params[tolerance] = study.best_params\n",
    "\n",
    "print(best_params)\n"
   ]
  },
  {
   "cell_type": "code",
   "execution_count": 1,
   "metadata": {},
   "outputs": [
    {
     "name": "stdout",
     "output_type": "stream",
     "text": [
      "隨機猜測值: [22.11185135 27.10142851 27.17688156 20.14708842 24.26189968]\n",
      "隨機猜測值的MAE: 13.525482040623263\n"
     ]
    }
   ],
   "source": [
    "import numpy as np\n",
    "\n",
    "# 假設這是你的實際觀測值\n",
    "y_true = np.array([10, 20, 30, 40, 50])\n",
    "\n",
    "# 生成隨機猜測值，範圍可以根據你的需求調整\n",
    "# 這裡我們假設猜測值的範圍在實際觀測值的範圍內\n",
    "y_pred_random = np.random.uniform(low=y_true.min(), high=y_true.max(), size=len(y_true))\n",
    "\n",
    "print(\"隨機猜測值:\", y_pred_random)\n",
    "\n",
    "# 計算MAE\n",
    "mae_random = np.mean(np.abs(y_true - y_pred_random))\n",
    "print(\"隨機猜測值的MAE:\", mae_random)\n"
   ]
  },
  {
   "cell_type": "code",
   "execution_count": null,
   "metadata": {},
   "outputs": [],
   "source": [
    "import numpy as np\n",
    "from sklearn.metrics import mean_absolute_error, mean_squared_error, r2_score, mean_squared_log_error,mean_absolute_percentage_error\n",
    "\n",
    "\n",
    "\n",
    "# 將所有度量值放入一個列表，以便計算信賴區間\n",
    "metric_values = [mae, mape, mse, r2, deviance, rmsle]\n",
    "\n",
    "# 計算每個度量的 95% 信賴區間\n",
    "import scipy.stats\n",
    "for i, metric in enumerate(['MAE', 'MAPE', 'MSE', 'R2', 'Deviance', 'RMSLE']):\n",
    "    mean_value, lower_bound, upper_bound = confidence_interval(metric_values[i])\n",
    "    print(f'{metric}:')\n",
    "    print(f'Mean Value: {mean_value:.4f}')\n",
    "    print(f'95% Confidence Interval: [{lower_bound:.4f}, {upper_bound:.4f}]')\n",
    "    print()\n",
    "\n"
   ]
  },
  {
   "cell_type": "code",
   "execution_count": null,
   "metadata": {},
   "outputs": [],
   "source": [
    "import numpy as np\n",
    "from sklearn.metrics import mean_squared_error\n",
    "\n",
    "# 生成隨機猜測的預測值\n",
    "y_pred_random = np.random.rand(len(y_test))\n",
    "\n",
    "# 評估隨機猜測的效果，例如使用均方誤差（Mean Squared Error）\n",
    "mse_random = mean_squared_error(y_test, y_pred_random)\n",
    "print(f\"Mean Squared Error for Random Predictions: {mse_random}\")\n"
   ]
  },
  {
   "cell_type": "code",
   "execution_count": 2,
   "metadata": {},
   "outputs": [
    {
     "data": {
      "text/plain": [
       "array([0.19626717, 0.65019263, 0.2861661 , 0.33040347, 0.30019241,\n",
       "       0.42413155, 0.29358728, 0.76188848, 0.88881912, 0.5140633 ])"
      ]
     },
     "execution_count": 2,
     "metadata": {},
     "output_type": "execute_result"
    }
   ],
   "source": [
    "import numpy as np\n"
   ]
  },
  {
   "cell_type": "code",
   "execution_count": 8,
   "metadata": {},
   "outputs": [
    {
     "ename": "TypeError",
     "evalue": "object of type 'int' has no len()",
     "output_type": "error",
     "traceback": [
      "\u001b[1;31m---------------------------------------------------------------------------\u001b[0m",
      "\u001b[1;31mTypeError\u001b[0m                                 Traceback (most recent call last)",
      "Cell \u001b[1;32mIn[8], line 3\u001b[0m\n\u001b[0;32m      1\u001b[0m y_true \u001b[38;5;241m=\u001b[39m np\u001b[38;5;241m.\u001b[39mrandom\u001b[38;5;241m.\u001b[39mrandint(\u001b[38;5;241m10\u001b[39m)\n\u001b[1;32m----> 3\u001b[0m y_pred_random \u001b[38;5;241m=\u001b[39m np\u001b[38;5;241m.\u001b[39mrandom\u001b[38;5;241m.\u001b[39mrand(\u001b[38;5;28;43mlen\u001b[39;49m\u001b[43m(\u001b[49m\u001b[43my_true\u001b[49m\u001b[43m)\u001b[49m) \u001b[38;5;241m*\u001b[39m (\u001b[38;5;28mmax\u001b[39m(y_true) \u001b[38;5;241m-\u001b[39m \u001b[38;5;28mmin\u001b[39m(y_true)) \u001b[38;5;241m+\u001b[39m \u001b[38;5;28mmin\u001b[39m(y_true)\n",
      "\u001b[1;31mTypeError\u001b[0m: object of type 'int' has no len()"
     ]
    }
   ],
   "source": [
    "y_true = np.random.randint(10)\n",
    "\n",
    "y_pred_random = np.random.rand(len(y_true)) * (max(y_true) - min(y_true)) + min(y_true)\n"
   ]
  },
  {
   "cell_type": "code",
   "execution_count": null,
   "metadata": {},
   "outputs": [],
   "source": []
  },
  {
   "cell_type": "code",
   "execution_count": null,
   "metadata": {},
   "outputs": [],
   "source": [
    "import numpy as np \n",
    "import scipy.stats as st \n",
    "  \n",
    "# define sample data \n",
    "gfg_data = np.random.randint(5, 10, 100) \n",
    "  \n",
    "# create 99% confidence interval \n",
    "# for population mean weight \n",
    "st.norm.interval(alpha=0.99,  \n",
    "                 loc=np.mean(gfg_data), \n",
    "                 scale=st.sem(gfg_data)) "
   ]
  },
  {
   "cell_type": "code",
   "execution_count": null,
   "metadata": {},
   "outputs": [],
   "source": [
    "import numpy as np\n",
    "from sklearn.metrics import mean_absolute_error, mean_squared_error, r2_score, mean_squared_log_error\n",
    "import scipy.stats\n",
    "\n",
    "# 給定的真實值 y_true\n",
    "y_true = [0.1, -1, 6, 31, 199, 0.001, -0.08]  # 替換為你的真實值列表\n",
    "\n",
    "# 蒙特卡羅模擬次數\n",
    "n_simulations = 1000\n",
    "\n",
    "# 初始化列表保存每次模擬的隨機猜測值\n",
    "y_preds = []\n",
    "\n",
    "# 執行蒙特卡羅模擬\n",
    "for _ in range(n_simulations):\n",
    "    y_pred_random = np.random.uniform(low=min(y_true), high=max(y_true), size=len(y_true))\n",
    "    y_preds.append(y_pred_random)\n",
    "\n",
    "# 將隨機猜測值轉換為 numpy 陣列\n",
    "y_preds = np.array(y_preds)\n",
    "\n",
    "# 計算評估指標\n",
    "mae_values = [mean_absolute_error(y_true, y_pred) for y_pred in y_preds]\n",
    "mape_values = [np.mean(np.abs((np.array(y_true) - y_pred) / np.array(y_true))) * 100 for y_pred in y_preds]\n",
    "mse_values = [mean_squared_error(y_true, y_pred) for y_pred in y_preds]\n",
    "r2_values = [r2_score(y_true, y_pred) for y_pred in y_preds]\n",
    "deviance_values = [2 * (mean_squared_error(y_true, y_pred) - mean_absolute_error(y_true, y_pred)) for y_pred in y_preds]\n",
    "rmsle_values = [np.sqrt(mean_squared_log_error(y_true, y_pred)) for y_pred in y_preds]\n",
    "\n",
    "# 計算 95% 信賴區間\n",
    "def confidence_interval(data, confidence=0.95):\n",
    "    n = len(data)\n",
    "    mean_value = np.mean(data)\n",
    "    std_error = np.std(data, ddof=1) / np.sqrt(n)\n",
    "    margin_error = std_error * scipy.stats.t.ppf((1 + confidence) / 2., n - 1)\n",
    "    return mean_value, mean_value - margin_error, mean_value + margin_error\n",
    "\n",
    "# 計算每個評估指標的 95% 信賴區間\n",
    "for metric, values in zip(['MAE', 'MAPE', 'MSE', 'R2', 'Deviance', 'RMSLE'], \n",
    "                          [mae_values, mape_values, mse_values, r2_values, deviance_values, rmsle_values]):\n",
    "    mean_value, lower_bound, upper_bound = confidence_interval(values)\n",
    "    print(f'{metric}:')\n",
    "    print(f'Mean Value: {mean_value:.4f}')\n",
    "    print(f'95% Confidence Interval: [{lower_bound:.4f}, {upper_bound:.4f}]')\n"
   ]
  },
  {
   "cell_type": "code",
   "execution_count": null,
   "metadata": {},
   "outputs": [],
   "source": []
  },
  {
   "cell_type": "code",
   "execution_count": null,
   "metadata": {},
   "outputs": [],
   "source": []
  },
  {
   "cell_type": "code",
   "execution_count": null,
   "metadata": {},
   "outputs": [],
   "source": []
  }
 ],
 "metadata": {
  "kernelspec": {
   "display_name": "base",
   "language": "python",
   "name": "python3"
  },
  "language_info": {
   "codemirror_mode": {
    "name": "ipython",
    "version": 3
   },
   "file_extension": ".py",
   "mimetype": "text/x-python",
   "name": "python",
   "nbconvert_exporter": "python",
   "pygments_lexer": "ipython3",
   "version": "3.9.13"
  }
 },
 "nbformat": 4,
 "nbformat_minor": 2
}
