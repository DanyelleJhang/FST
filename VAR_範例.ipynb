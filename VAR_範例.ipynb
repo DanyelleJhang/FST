{
 "cells": [
  {
   "cell_type": "code",
   "execution_count": 56,
   "metadata": {},
   "outputs": [],
   "source": [
    "# some example data\n",
    "import pandas as pd\n",
    "from typing import Union\n",
    "from statsmodels.tsa.vector_ar.var_model import VARResultsWrapper\n",
    "from statsmodels.tsa.api import VAR\n",
    "\n",
    "from statsmodels.tsa.base.datetools import dates_from_str\n",
    "import numpy as np"
   ]
  },
  {
   "cell_type": "code",
<<<<<<< HEAD
   "execution_count": 34,
   "metadata": {},
   "outputs": [],
   "source": [
    "data = pd.read_csv(dir+\"National Stock Exchange/infy_stock.csv\")"
   ]
  },
  {
   "cell_type": "code",
   "execution_count": 35,
=======
   "execution_count": 157,
>>>>>>> b0c46cb850495780e86800cd97566bfd37d74a33
   "metadata": {},
   "outputs": [
    {
     "data": {
      "text/html": [
       "<div>\n",
       "<style scoped>\n",
       "    .dataframe tbody tr th:only-of-type {\n",
       "        vertical-align: middle;\n",
       "    }\n",
       "\n",
       "    .dataframe tbody tr th {\n",
       "        vertical-align: top;\n",
       "    }\n",
       "\n",
       "    .dataframe thead th {\n",
       "        text-align: right;\n",
       "    }\n",
       "</style>\n",
       "<table border=\"1\" class=\"dataframe\">\n",
       "  <thead>\n",
       "    <tr style=\"text-align: right;\">\n",
       "      <th></th>\n",
       "      <th>Open</th>\n",
       "      <th>High</th>\n",
       "      <th>Low</th>\n",
       "      <th>Close</th>\n",
       "      <th>Volume</th>\n",
       "      <th>Dividends</th>\n",
       "      <th>Stock Splits</th>\n",
       "    </tr>\n",
       "    <tr>\n",
       "      <th>Date</th>\n",
       "      <th></th>\n",
       "      <th></th>\n",
       "      <th></th>\n",
       "      <th></th>\n",
       "      <th></th>\n",
       "      <th></th>\n",
       "      <th></th>\n",
       "    </tr>\n",
       "  </thead>\n",
       "  <tbody>\n",
       "    <tr>\n",
       "      <th>2016-01-04 00:00:00+08:00</th>\n",
       "      <td>13.072967</td>\n",
       "      <td>13.072967</td>\n",
       "      <td>12.709829</td>\n",
       "      <td>12.709829</td>\n",
       "      <td>24549000</td>\n",
       "      <td>0.00</td>\n",
       "      <td>0.0</td>\n",
       "    </tr>\n",
       "    <tr>\n",
       "      <th>2016-01-05 00:00:00+08:00</th>\n",
       "      <td>12.709828</td>\n",
       "      <td>12.964025</td>\n",
       "      <td>12.564573</td>\n",
       "      <td>12.600887</td>\n",
       "      <td>27544000</td>\n",
       "      <td>0.00</td>\n",
       "      <td>0.0</td>\n",
       "    </tr>\n",
       "    <tr>\n",
       "      <th>2016-01-06 00:00:00+08:00</th>\n",
       "      <td>12.637202</td>\n",
       "      <td>12.709830</td>\n",
       "      <td>12.564574</td>\n",
       "      <td>12.564574</td>\n",
       "      <td>18716000</td>\n",
       "      <td>0.00</td>\n",
       "      <td>0.0</td>\n",
       "    </tr>\n",
       "    <tr>\n",
       "      <th>2016-01-07 00:00:00+08:00</th>\n",
       "      <td>12.564574</td>\n",
       "      <td>12.709830</td>\n",
       "      <td>12.383005</td>\n",
       "      <td>12.673516</td>\n",
       "      <td>24452000</td>\n",
       "      <td>0.00</td>\n",
       "      <td>0.0</td>\n",
       "    </tr>\n",
       "    <tr>\n",
       "      <th>2016-01-08 00:00:00+08:00</th>\n",
       "      <td>12.564573</td>\n",
       "      <td>12.746142</td>\n",
       "      <td>12.455632</td>\n",
       "      <td>12.637201</td>\n",
       "      <td>20183000</td>\n",
       "      <td>0.00</td>\n",
       "      <td>0.0</td>\n",
       "    </tr>\n",
       "    <tr>\n",
       "      <th>...</th>\n",
       "      <td>...</td>\n",
       "      <td>...</td>\n",
       "      <td>...</td>\n",
       "      <td>...</td>\n",
       "      <td>...</td>\n",
       "      <td>...</td>\n",
       "      <td>...</td>\n",
       "    </tr>\n",
       "    <tr>\n",
       "      <th>2024-07-18 00:00:00+08:00</th>\n",
       "      <td>23.094698</td>\n",
       "      <td>23.242425</td>\n",
       "      <td>22.946970</td>\n",
       "      <td>23.143940</td>\n",
       "      <td>28548483</td>\n",
       "      <td>0.00</td>\n",
       "      <td>0.0</td>\n",
       "    </tr>\n",
       "    <tr>\n",
       "      <th>2024-07-19 00:00:00+08:00</th>\n",
       "      <td>23.094697</td>\n",
       "      <td>23.143939</td>\n",
       "      <td>22.750000</td>\n",
       "      <td>22.996212</td>\n",
       "      <td>22809555</td>\n",
       "      <td>0.00</td>\n",
       "      <td>0.0</td>\n",
       "    </tr>\n",
       "    <tr>\n",
       "      <th>2024-07-22 00:00:00+08:00</th>\n",
       "      <td>22.897727</td>\n",
       "      <td>22.946969</td>\n",
       "      <td>22.651515</td>\n",
       "      <td>22.750000</td>\n",
       "      <td>26506583</td>\n",
       "      <td>0.00</td>\n",
       "      <td>0.0</td>\n",
       "    </tr>\n",
       "    <tr>\n",
       "      <th>2024-07-23 00:00:00+08:00</th>\n",
       "      <td>23.100000</td>\n",
       "      <td>23.250000</td>\n",
       "      <td>23.100000</td>\n",
       "      <td>23.150000</td>\n",
       "      <td>15851825</td>\n",
       "      <td>0.35</td>\n",
       "      <td>0.0</td>\n",
       "    </tr>\n",
       "    <tr>\n",
       "      <th>2024-07-26 00:00:00+08:00</th>\n",
       "      <td>23.049999</td>\n",
       "      <td>23.049999</td>\n",
       "      <td>22.799999</td>\n",
       "      <td>22.900000</td>\n",
       "      <td>36155689</td>\n",
       "      <td>0.00</td>\n",
       "      <td>0.0</td>\n",
       "    </tr>\n",
       "  </tbody>\n",
       "</table>\n",
       "<p>2081 rows × 7 columns</p>\n",
       "</div>"
      ],
      "text/plain": [
       "                                Open       High        Low      Close  \\\n",
       "Date                                                                    \n",
       "2016-01-04 00:00:00+08:00  13.072967  13.072967  12.709829  12.709829   \n",
       "2016-01-05 00:00:00+08:00  12.709828  12.964025  12.564573  12.600887   \n",
       "2016-01-06 00:00:00+08:00  12.637202  12.709830  12.564574  12.564574   \n",
       "2016-01-07 00:00:00+08:00  12.564574  12.709830  12.383005  12.673516   \n",
       "2016-01-08 00:00:00+08:00  12.564573  12.746142  12.455632  12.637201   \n",
       "...                              ...        ...        ...        ...   \n",
       "2024-07-18 00:00:00+08:00  23.094698  23.242425  22.946970  23.143940   \n",
       "2024-07-19 00:00:00+08:00  23.094697  23.143939  22.750000  22.996212   \n",
       "2024-07-22 00:00:00+08:00  22.897727  22.946969  22.651515  22.750000   \n",
       "2024-07-23 00:00:00+08:00  23.100000  23.250000  23.100000  23.150000   \n",
       "2024-07-26 00:00:00+08:00  23.049999  23.049999  22.799999  22.900000   \n",
       "\n",
       "                             Volume  Dividends  Stock Splits  \n",
       "Date                                                          \n",
       "2016-01-04 00:00:00+08:00  24549000       0.00           0.0  \n",
       "2016-01-05 00:00:00+08:00  27544000       0.00           0.0  \n",
       "2016-01-06 00:00:00+08:00  18716000       0.00           0.0  \n",
       "2016-01-07 00:00:00+08:00  24452000       0.00           0.0  \n",
       "2016-01-08 00:00:00+08:00  20183000       0.00           0.0  \n",
       "...                             ...        ...           ...  \n",
       "2024-07-18 00:00:00+08:00  28548483       0.00           0.0  \n",
       "2024-07-19 00:00:00+08:00  22809555       0.00           0.0  \n",
       "2024-07-22 00:00:00+08:00  26506583       0.00           0.0  \n",
       "2024-07-23 00:00:00+08:00  15851825       0.35           0.0  \n",
       "2024-07-26 00:00:00+08:00  36155689       0.00           0.0  \n",
       "\n",
       "[2081 rows x 7 columns]"
      ]
     },
<<<<<<< HEAD
     "execution_count": 35,
=======
     "execution_count": 157,
>>>>>>> b0c46cb850495780e86800cd97566bfd37d74a33
     "metadata": {},
     "output_type": "execute_result"
    }
   ],
   "source": [
    "import yfinance as yf\n",
    "\n",
    "# 2023.TW 燁輝\n",
    "# 2002.TW 中鋼\n",
    "# 2006.TW 中和鋼鐵\n",
    "# 2007.TW 燁興\n",
    "date = '2016-01-01'\n",
    "stock_no = '2002.TW'\n",
    "\n",
    "stock = yf.Ticker(stock_no)\n",
    "data = stock.history(start=date)\n",
    "\n",
    "data#.head()"
   ]
  },
  {
   "cell_type": "code",
   "execution_count": 7,
   "metadata": {},
   "outputs": [],
   "source": [
    "#data = pd.read_csv(dir+\"National Stock Exchange/infy_stock.csv\")"
   ]
  },
  {
   "cell_type": "code",
   "execution_count": 58,
   "metadata": {},
   "outputs": [],
   "source": [
    "# \"\"\"\n",
    "# 要把 dataframe 的格式清理成以下格式\n",
    "# dates_from_str 要放入 index\n",
    "# 剩下的資料只能保留 feature\n",
    "# \"\"\"\n",
    "# # statsmodels的範例資料\n",
    "# import statsmodels.api as sm\n",
    "# mdata = sm.datasets.macrodata.load_pandas().data\n",
    "# mdata\n",
    "# dates = mdata[['year', 'quarter']].astype(int).astype(str)\n",
    "# quarterly = dates[\"year\"] + \"Q\" + dates[\"quarter\"]\n",
    "# quarterly = dates_from_str(quarterly)\n",
    "# mdata.index = pd.DatetimeIndex(quarterly)\n",
    "# data = mdata.drop(columns=[\"year\",\"quarter\"])\n",
    "# data\n",
    "\n",
    "# # KAGGLE 範例資料 1 \n",
    "# dir = \"C:/Users/foresight_User/Desktop/公司文件/9.產品/AIUPS/\"\n",
    "# data = pd.read_csv(dir+\"National Stock Exchange/infy_stock.csv\")\n",
    "# data.index =pd.DatetimeIndex(dates_from_str(data[\"Date\"]))\n",
    "# data = data.drop(columns=[\"Date\",\"Symbol\",\"Series\"])\n",
    "# data\n",
    "\n",
    "# # KAGGLE 範例資料 2\n",
    "# data = pd.read_csv(dir+\"National Stock Exchange/nifty_it_index.csv\")\n",
    "# data.index =pd.DatetimeIndex(dates_from_str(data[\"Date\"]))\n",
    "# data = data.drop(columns=[\"Date\"])\n",
    "# data\n",
    "\n",
    "# # KAGGLE 範例資料 3\n",
    "# data = pd.read_csv(dir+\"National Stock Exchange/tcs_stock.csv\")\n",
    "# data.index =pd.DatetimeIndex(dates_from_str(data[\"Date\"]))\n",
    "# data = data.drop(columns=[\"Date\",\"Symbol\",\"Series\"])\n",
    "# data"
   ]
  },
  {
   "cell_type": "code",
   "execution_count": null,
   "metadata": {},
   "outputs": [],
   "source": []
  },
  {
   "cell_type": "code",
<<<<<<< HEAD
   "execution_count": 2,
=======
   "execution_count": 59,
>>>>>>> b0c46cb850495780e86800cd97566bfd37d74a33
   "metadata": {},
   "outputs": [],
   "source": [
    "def time_series_format_preprocessing(df:pd.DataFrame, datetime_col:str):\n",
    "    #\n",
    "    # YS(年初), MS(月初), W(周), D(日), H(小時), T(分鐘), S(秒),\n",
    "    #\n",
    "    # df = df.copy()\n",
    "    # df[datetime_col] = pd.to_datetime(df[datetime_col], format='%Y-%m-%d %H:%M:%S')\n",
    "    # df = df.set_index(datetime_col)\n",
    "    # df = df.asfreq(interval)\n",
    "    # return df if set_index_flag else df.reset_index(drop=False)\n",
    "    df.index =pd.DatetimeIndex(dates_from_str(data[datetime_col]))\n",
    "    df = df.drop(columns=[datetime_col])\n",
    "    \"\"\"\n",
    "    Imputes missing values in a time series DataFrame using the specified function.\n",
    "\n",
    "    Args:\n",
    "        df (pd.DataFrame): The input DataFrame containing the time series data.\n",
    "        func (str): The imputation function to be applied. Supported options are:\n",
    "                    - 'forward_fill': Forward fill missing values.\n",
    "                    - 'backward_fill': Backward fill missing values.\n",
    "                    - 'moving_average': Impute missing values using moving average.\n",
    "                    - 'interpolation': Perform linear interpolation to fill missing values.\n",
    "        col_name (str): The name of the column to impute missing values.\n",
    "\n",
    "    Returns:\n",
    "        pd.DataFrame: The DataFrame with missing values imputed based on the specified function.\n",
    "    \"\"\"\n",
    "    return df\n",
    "\n",
    "\n",
    "def time_series_impute_missing_value(df, func, col_name):\n",
    "    \"\"\"\n",
    "    Imputes missing values in a time series DataFrame using the specified function.\n",
    "\n",
    "    Args:\n",
    "        df (pd.DataFrame): The input DataFrame containing the time series data.\n",
    "        func (str): The imputation function to be applied. Supported options are:\n",
    "                    - 'forward_fill': Forward fill missing values.\n",
    "                    - 'backward_fill': Backward fill missing values.\n",
    "                    - 'moving_average': Impute missing values using moving average.\n",
    "                    - 'interpolation': Perform linear interpolation to fill missing values.\n",
    "        col_name (str): The name of the column to impute missing values.\n",
    "\n",
    "    Returns:\n",
    "        pd.DataFrame: The DataFrame with missing values imputed based on the specified function.\n",
    "    \"\"\"\n",
    "    df = df.copy()\n",
    "    if func == 'forward_fill':\n",
    "        df[col_name].ffill(inplace=True)\n",
    "    elif func == 'backward_fill':\n",
    "        df[col_name].bfill(inplace=True)\n",
    "    elif func == 'moving_average':\n",
    "        df[col_name].fillna(df[col_name].rolling(window=3, min_periods=1).mean(), inplace=True)\n",
    "    elif func == 'interpolation':\n",
    "        df[col_name].interpolate(inplace=True)\n",
    "    else:\n",
    "        raise ValueError(f\"Unsupported imputation function: {func}\")\n",
    "\n",
    "    return df"
   ]
  },
  {
   "cell_type": "code",
   "execution_count": null,
   "metadata": {},
   "outputs": [],
   "source": []
  },
  {
   "cell_type": "code",
   "execution_count": null,
   "metadata": {},
   "outputs": [],
   "source": []
  },
  {
   "cell_type": "code",
<<<<<<< HEAD
   "execution_count": 3,
=======
   "execution_count": 188,
>>>>>>> b0c46cb850495780e86800cd97566bfd37d74a33
   "metadata": {},
   "outputs": [
    {
     "ename": "NameError",
     "evalue": "name 'data' is not defined",
     "output_type": "error",
     "traceback": [
      "\u001b[1;31m---------------------------------------------------------------------------\u001b[0m",
      "\u001b[1;31mNameError\u001b[0m                                 Traceback (most recent call last)",
      "Cell \u001b[1;32mIn[3], line 9\u001b[0m\n\u001b[0;32m      5\u001b[0m     max_estimable \u001b[38;5;241m=\u001b[39m (n_totobs \u001b[38;5;241m-\u001b[39m neqs \u001b[38;5;241m-\u001b[39m ntrend) \u001b[38;5;241m/\u001b[39m\u001b[38;5;241m/\u001b[39m (\u001b[38;5;241m1\u001b[39m \u001b[38;5;241m+\u001b[39m neqs)\n\u001b[0;32m      6\u001b[0m     \u001b[38;5;28;01mreturn\u001b[39;00m max_estimable\n\u001b[1;32m----> 9\u001b[0m maxlags \u001b[38;5;241m=\u001b[39m cal_maxLag(\u001b[43mdata\u001b[49m)\n",
      "\u001b[1;31mNameError\u001b[0m: name 'data' is not defined"
     ]
    }
   ],
   "source": [
    "def cal_maxLag(data:pd.DataFrame):\n",
    "    n_totobs = len(data)\n",
    "    ntrend = 1 #len(trend) if trend.startswith(\"c\") else 0\n",
    "    neqs = data.shape[1]\n",
    "    max_estimable = (n_totobs - neqs - ntrend) // (1 + neqs)\n",
<<<<<<< HEAD
    "    return max_estimable\n",
    "\n",
    "\n",
    "maxlags = cal_maxLag(data) # USER 不能指定超過這個的LAG，LAG值也要大於0"
=======
    "    if max_estimable > 1:\n",
    "        return max_estimable\n",
    "    else:\n",
    "        return 1"
>>>>>>> b0c46cb850495780e86800cd97566bfd37d74a33
   ]
  },
  {
   "cell_type": "code",
<<<<<<< HEAD
   "execution_count": 4,
=======
   "execution_count": 61,
>>>>>>> b0c46cb850495780e86800cd97566bfd37d74a33
   "metadata": {},
   "outputs": [],
   "source": [
    "\n",
    "def vectorAutoregression(data:pd.DataFrame,maxlags:Union[int,str]=\"auto\",ic:str=None):\n",
    "    model = VAR(data)\n",
    "    # ==== 這邊不要動 =====\n",
    "\n",
    "    \"\"\" \n",
    "    這是套件設定的\n",
    "    trend : str {\"n\", \"c\", \"ct\", \"ctt\"}\n",
    "        * \"n\" - no deterministic terms\n",
    "        * \"c\" - constant term\n",
    "        * \"ct\" - constant and linear term\n",
    "        * \"ctt\" - constant, linear, and quadratic term\n",
    "\n",
    "    maxlags 不可以超過 max_estimable 的值\n",
    "    maxlags 為模型擬合最大數值\n",
    "    statemodel有設定條件，已經寫在下述的程式\n",
    "    使用者要調整低於 maxlags\n",
    "    \"\"\"\n",
    "    max_estimable = cal_maxLag(data)\n",
    "    # ==== 這邊不要動 =====\n",
    "\n",
    "    print(\" maxlags 要小於等於: \", max_estimable)\n",
    "\n",
    "    if maxlags == \"auto\":\n",
    "        maxlags = max_estimable\n",
    "    if maxlags > max_estimable:\n",
    "        raise Exception(\" maxlags 要小於等於: \", max_estimable)\n",
    "\n",
    "\n",
    "    \"\"\"\n",
    "    ic 為評估模型的好壞\n",
    "    ic = {'aic', 'fpe', 'hqic', 'bic', None}\n",
    "    Information criterion to use for VAR order selection.\n",
    "    aic : Akaike\n",
    "    fpe : Final prediction error\n",
    "    hqic : Hannan-Quinn\n",
    "    bic : Bayesian a.k.a. Schwarz\n",
    "    \"\"\"\n",
    "\n",
    "    results = model.fit(maxlags=maxlags, ic=ic)\n",
    "    print(f\"在最大 lag 數目為 {max_estimable} 的情況下，VAR 找出的最佳 lag 為: \",results.k_ar)\n",
    "    return results"
   ]
  },
  {
   "cell_type": "code",
<<<<<<< HEAD
   "execution_count": 5,
=======
   "execution_count": 152,
>>>>>>> b0c46cb850495780e86800cd97566bfd37d74a33
   "metadata": {},
   "outputs": [],
   "source": [
    "def vectorAutoregressionRelationship(results:VARResultsWrapper,target:str,pvalue_threshold:float=0.05):\n",
    "    # target  客人關心的 Y 是甚麼，Y 會包含在 results 中\n",
    "\n",
    "    coef_df = results.params[target]\n",
    "    pvalues_df = results.pvalues[target]\n",
    "\n",
    "    # 合并系数和p值\n",
    "    summary = pd.concat([coef_df, pvalues_df], axis=1)\n",
    "    summary.columns = ['coef', 'pvalue']\n",
    "    summary = summary.drop(index=\"const\").reset_index()\n",
    "    summary_index = summary[\"index\"].str.split(\".\", expand=True).rename(columns={0:\"time_lag\",1:\"feature\"})\n",
    "    if summary.empty:\n",
    "        return {\"info\":\"there is no results found from VAR\"}\n",
    "    else:\n",
    "        summary_index[\"time_lag\"] = summary_index[\"time_lag\"].str.replace(\"L\",\"\").astype(int)\n",
    "        summary = pd.concat([summary_index,summary],axis=1).drop(columns=\"index\")\n",
    "        summary = summary[summary[\"pvalue\"]<pvalue_threshold].reset_index(drop=True)\n",
    "        return summary"
   ]
  },
  {
   "cell_type": "code",
   "execution_count": 178,
   "metadata": {},
   "outputs": [],
   "source": [
    "\n",
    "\n",
    "\n",
    "# 定義聚合函數和相應的列名\n",
    "operator_list = ['first', 'last', 'mean','prod','median','max','min']#'std','max','count','sum',\"min\",\"prod\",\"median\",\"var\",\"sem\",\"skew\",\"cumsum\",\"cumprod\"]\n",
    "\n",
    "\n",
    "aggregation_functions = {}\n",
    "for i in data.columns:\n",
    "    aggregation_functions[i]=operator_list\n",
    "\n",
    "# 按週重採樣並應用聚合\n",
    "weekly_data = data.resample('W').agg(aggregation_functions)\n",
    "\n",
    "# 自定義列名\n",
    "\n",
    "monthly_data = data.resample('M').agg(aggregation_functions)\n",
    "yearly_data = data.resample('Y').agg(aggregation_functions)\n",
    "\n",
    "weekly_data.columns = ['_'.join(col).strip() for col in weekly_data.columns.values]\n",
    "monthly_data.columns = ['_'.join(col).strip() for col in monthly_data.columns.values]\n",
    "yearly_data.columns = ['_'.join(col).strip() for col in yearly_data.columns.values]\n"
   ]
  },
  {
   "cell_type": "code",
<<<<<<< HEAD
   "execution_count": 17,
   "metadata": {},
   "outputs": [],
   "source": [
    "data = pd.read_csv(\"C:/Users/foresight_User/Data/h2o_exog.csv\") #fecha Date"
=======
   "execution_count": 183,
   "metadata": {},
   "outputs": [],
   "source": [
    "\n",
    "def remove_collinearity(data): #condition\n",
    "    from statsmodels.stats.outliers_influence import variance_inflation_factor\n",
    "    #data = data.fillna(method='ffill').fillna(method='bfill')\n",
    "    data = data.replace([np.inf, -np.inf], np.nan)\n",
    "    data = data.ffill().bfill() \n",
    "    vif_data = pd.DataFrame()\n",
    "    vif_data[\"feature\"] = data.columns\n",
    "    vif_data[\"VIF\"] = [variance_inflation_factor(data.values, i) for i in range(len(data.columns))]\n",
    "\n",
    "\n",
    "    # 去除VIF為NAN或INF\n",
    "    vif_data = vif_data.replace([np.inf, -np.inf], np.nan).dropna(axis=0)\n",
    "    data = data[vif_data[\"feature\"].to_list()]\n",
    "\n",
    "    # 移除高相關的 feature \n",
    "    # 保留低相關的 feature\n",
    "    coefficient_threshold = 0.3\n",
    "    correlation_matrix = data.corr()\n",
    "    low_corr_vars = np.where(np.abs(correlation_matrix) < coefficient_threshold)\n",
    "    #print(correlation_matrix)\n",
    "    low_corr_vars = [(correlation_matrix.index[x], correlation_matrix.columns[y]) for x, y in zip(*low_corr_vars) if x != y and x > y]\n",
    "\n",
    "    # Remove one of each highly correlated pair\n",
    "    # if condition == \"intersection\":\n",
    "    #     sets =  [set(pair) for pair in low_corr_vars]\n",
    "    #     intersection = set.intersection(*sets)\n",
    "    #     remaining_list = list(intersection)\n",
    "    # if condition == \"union\":\n",
    "    unique_elements = set(element for pair in low_corr_vars for element in pair)\n",
    "    remaining_list = list(unique_elements)\n",
    "    \n",
    "    data = data[remaining_list]\n",
    "    \n",
    "    # impute nan\n",
    "    #data = data.fillna(method='ffill').fillna(method='bfill')\n",
    "    return data"
   ]
  },
  {
   "cell_type": "code",
   "execution_count": 190,
   "metadata": {},
   "outputs": [
    {
     "name": "stderr",
     "output_type": "stream",
     "text": [
      "c:\\Users\\User\\.conda\\envs\\Python3.9.13\\lib\\site-packages\\statsmodels\\regression\\linear_model.py:1785: RuntimeWarning: invalid value encountered in double_scalars\n",
      "  return 1 - self.ssr/self.uncentered_tss\n",
      "c:\\Users\\User\\.conda\\envs\\Python3.9.13\\lib\\site-packages\\statsmodels\\tsa\\base\\tsa_model.py:473: ValueWarning: A date index has been provided, but it has no associated frequency information and so will be ignored when e.g. forecasting.\n",
      "  self._init_dates(dates, freq)\n"
     ]
    },
    {
     "name": "stdout",
     "output_type": "stream",
     "text": [
      "296\n",
      "Dividends\n",
      " maxlags 要小於等於:  296\n",
      "在最大 lag 數目為 296 的情況下，VAR 找出的最佳 lag 為:  296\n",
      "Open\n",
      " maxlags 要小於等於:  296\n"
     ]
    },
    {
     "name": "stderr",
     "output_type": "stream",
     "text": [
      "c:\\Users\\User\\.conda\\envs\\Python3.9.13\\lib\\site-packages\\statsmodels\\tsa\\base\\tsa_model.py:473: ValueWarning: A date index has been provided, but it has no associated frequency information and so will be ignored when e.g. forecasting.\n",
      "  self._init_dates(dates, freq)\n"
     ]
    },
    {
     "name": "stdout",
     "output_type": "stream",
     "text": [
      "在最大 lag 數目為 296 的情況下，VAR 找出的最佳 lag 為:  296\n",
      "Close\n",
      " maxlags 要小於等於:  296\n"
     ]
    },
    {
     "name": "stderr",
     "output_type": "stream",
     "text": [
      "c:\\Users\\User\\.conda\\envs\\Python3.9.13\\lib\\site-packages\\statsmodels\\tsa\\base\\tsa_model.py:473: ValueWarning: A date index has been provided, but it has no associated frequency information and so will be ignored when e.g. forecasting.\n",
      "  self._init_dates(dates, freq)\n"
     ]
    },
    {
     "name": "stdout",
     "output_type": "stream",
     "text": [
      "在最大 lag 數目為 296 的情況下，VAR 找出的最佳 lag 為:  296\n",
      "Volume\n",
      " maxlags 要小於等於:  296\n"
     ]
    },
    {
     "name": "stderr",
     "output_type": "stream",
     "text": [
      "c:\\Users\\User\\.conda\\envs\\Python3.9.13\\lib\\site-packages\\statsmodels\\tsa\\base\\tsa_model.py:473: ValueWarning: A date index has been provided, but it has no associated frequency information and so will be ignored when e.g. forecasting.\n",
      "  self._init_dates(dates, freq)\n"
     ]
    },
    {
     "name": "stdout",
     "output_type": "stream",
     "text": [
      "在最大 lag 數目為 296 的情況下，VAR 找出的最佳 lag 為:  296\n",
      "Low\n",
      " maxlags 要小於等於:  296\n"
     ]
    },
    {
     "name": "stderr",
     "output_type": "stream",
     "text": [
      "c:\\Users\\User\\.conda\\envs\\Python3.9.13\\lib\\site-packages\\statsmodels\\tsa\\base\\tsa_model.py:473: ValueWarning: A date index has been provided, but it has no associated frequency information and so will be ignored when e.g. forecasting.\n",
      "  self._init_dates(dates, freq)\n"
     ]
    },
    {
     "name": "stdout",
     "output_type": "stream",
     "text": [
      "在最大 lag 數目為 296 的情況下，VAR 找出的最佳 lag 為:  296\n",
      "High\n",
      " maxlags 要小於等於:  296\n"
     ]
    },
    {
     "name": "stderr",
     "output_type": "stream",
     "text": [
      "c:\\Users\\User\\.conda\\envs\\Python3.9.13\\lib\\site-packages\\statsmodels\\tsa\\base\\tsa_model.py:473: ValueWarning: A date index has been provided, but it has no associated frequency information and so will be ignored when e.g. forecasting.\n",
      "  self._init_dates(dates, freq)\n"
     ]
    },
    {
     "name": "stdout",
     "output_type": "stream",
     "text": [
      "在最大 lag 數目為 296 的情況下，VAR 找出的最佳 lag 為:  296\n"
     ]
    },
    {
     "name": "stderr",
     "output_type": "stream",
     "text": [
      "c:\\Users\\User\\.conda\\envs\\Python3.9.13\\lib\\site-packages\\statsmodels\\regression\\linear_model.py:1783: RuntimeWarning: invalid value encountered in double_scalars\n",
      "  return 1 - self.ssr/self.centered_tss\n"
     ]
    },
    {
     "name": "stdout",
     "output_type": "stream",
     "text": [
      "9\n",
      "Volume_prod\n",
      " maxlags 要小於等於:  9\n",
      "在最大 lag 數目為 9 的情況下，VAR 找出的最佳 lag 為:  9\n"
     ]
    },
    {
     "name": "stderr",
     "output_type": "stream",
     "text": [
      "c:\\Users\\User\\.conda\\envs\\Python3.9.13\\lib\\site-packages\\statsmodels\\tsa\\vector_ar\\var_model.py:1558: RuntimeWarning: invalid value encountered in sqrt\n",
      "  stderr = np.sqrt(np.diag(self.cov_params()))\n"
     ]
    },
    {
     "name": "stdout",
     "output_type": "stream",
     "text": [
      "High_first\n",
      " maxlags 要小於等於:  9\n",
      "在最大 lag 數目為 9 的情況下，VAR 找出的最佳 lag 為:  9\n"
     ]
    },
    {
     "name": "stderr",
     "output_type": "stream",
     "text": [
      "c:\\Users\\User\\.conda\\envs\\Python3.9.13\\lib\\site-packages\\statsmodels\\tsa\\vector_ar\\var_model.py:1558: RuntimeWarning: invalid value encountered in sqrt\n",
      "  stderr = np.sqrt(np.diag(self.cov_params()))\n"
     ]
    },
    {
     "name": "stdout",
     "output_type": "stream",
     "text": [
      "Low_min\n",
      " maxlags 要小於等於:  9\n",
      "在最大 lag 數目為 9 的情況下，VAR 找出的最佳 lag 為:  9\n"
     ]
    },
    {
     "name": "stderr",
     "output_type": "stream",
     "text": [
      "c:\\Users\\User\\.conda\\envs\\Python3.9.13\\lib\\site-packages\\statsmodels\\tsa\\vector_ar\\var_model.py:1558: RuntimeWarning: invalid value encountered in sqrt\n",
      "  stderr = np.sqrt(np.diag(self.cov_params()))\n"
     ]
    },
    {
     "name": "stdout",
     "output_type": "stream",
     "text": [
      "Open_last\n",
      " maxlags 要小於等於:  9\n",
      "在最大 lag 數目為 9 的情況下，VAR 找出的最佳 lag 為:  9\n"
     ]
    },
    {
     "name": "stderr",
     "output_type": "stream",
     "text": [
      "c:\\Users\\User\\.conda\\envs\\Python3.9.13\\lib\\site-packages\\statsmodels\\tsa\\vector_ar\\var_model.py:1558: RuntimeWarning: invalid value encountered in sqrt\n",
      "  stderr = np.sqrt(np.diag(self.cov_params()))\n"
     ]
    },
    {
     "name": "stdout",
     "output_type": "stream",
     "text": [
      "Open_first\n",
      " maxlags 要小於等於:  9\n",
      "在最大 lag 數目為 9 的情況下，VAR 找出的最佳 lag 為:  9\n"
     ]
    },
    {
     "name": "stderr",
     "output_type": "stream",
     "text": [
      "c:\\Users\\User\\.conda\\envs\\Python3.9.13\\lib\\site-packages\\statsmodels\\tsa\\vector_ar\\var_model.py:1558: RuntimeWarning: invalid value encountered in sqrt\n",
      "  stderr = np.sqrt(np.diag(self.cov_params()))\n"
     ]
    },
    {
     "name": "stdout",
     "output_type": "stream",
     "text": [
      "Open_max\n",
      " maxlags 要小於等於:  9\n",
      "在最大 lag 數目為 9 的情況下，VAR 找出的最佳 lag 為:  9\n"
     ]
    },
    {
     "name": "stderr",
     "output_type": "stream",
     "text": [
      "c:\\Users\\User\\.conda\\envs\\Python3.9.13\\lib\\site-packages\\statsmodels\\tsa\\vector_ar\\var_model.py:1558: RuntimeWarning: invalid value encountered in sqrt\n",
      "  stderr = np.sqrt(np.diag(self.cov_params()))\n"
     ]
    },
    {
     "name": "stdout",
     "output_type": "stream",
     "text": [
      "Close_median\n",
      " maxlags 要小於等於:  9\n",
      "在最大 lag 數目為 9 的情況下，VAR 找出的最佳 lag 為:  9\n"
     ]
    },
    {
     "name": "stderr",
     "output_type": "stream",
     "text": [
      "c:\\Users\\User\\.conda\\envs\\Python3.9.13\\lib\\site-packages\\statsmodels\\tsa\\vector_ar\\var_model.py:1558: RuntimeWarning: invalid value encountered in sqrt\n",
      "  stderr = np.sqrt(np.diag(self.cov_params()))\n"
     ]
    },
    {
     "name": "stdout",
     "output_type": "stream",
     "text": [
      "Volume_min\n",
      " maxlags 要小於等於:  9\n",
      "在最大 lag 數目為 9 的情況下，VAR 找出的最佳 lag 為:  9\n"
     ]
    },
    {
     "name": "stderr",
     "output_type": "stream",
     "text": [
      "c:\\Users\\User\\.conda\\envs\\Python3.9.13\\lib\\site-packages\\statsmodels\\tsa\\vector_ar\\var_model.py:1558: RuntimeWarning: invalid value encountered in sqrt\n",
      "  stderr = np.sqrt(np.diag(self.cov_params()))\n"
     ]
    },
    {
     "name": "stdout",
     "output_type": "stream",
     "text": [
      "Dividends_prod\n",
      " maxlags 要小於等於:  9\n",
      "在最大 lag 數目為 9 的情況下，VAR 找出的最佳 lag 為:  9\n"
     ]
    },
    {
     "name": "stderr",
     "output_type": "stream",
     "text": [
      "c:\\Users\\User\\.conda\\envs\\Python3.9.13\\lib\\site-packages\\statsmodels\\tsa\\vector_ar\\var_model.py:1558: RuntimeWarning: invalid value encountered in sqrt\n",
      "  stderr = np.sqrt(np.diag(self.cov_params()))\n"
     ]
    },
    {
     "name": "stdout",
     "output_type": "stream",
     "text": [
      "Dividends_max\n",
      " maxlags 要小於等於:  9\n",
      "在最大 lag 數目為 9 的情況下，VAR 找出的最佳 lag 為:  9\n"
     ]
    },
    {
     "name": "stderr",
     "output_type": "stream",
     "text": [
      "c:\\Users\\User\\.conda\\envs\\Python3.9.13\\lib\\site-packages\\statsmodels\\tsa\\vector_ar\\var_model.py:1558: RuntimeWarning: invalid value encountered in sqrt\n",
      "  stderr = np.sqrt(np.diag(self.cov_params()))\n"
     ]
    },
    {
     "name": "stdout",
     "output_type": "stream",
     "text": [
      "Open_prod\n",
      " maxlags 要小於等於:  9\n",
      "在最大 lag 數目為 9 的情況下，VAR 找出的最佳 lag 為:  9\n"
     ]
    },
    {
     "name": "stderr",
     "output_type": "stream",
     "text": [
      "c:\\Users\\User\\.conda\\envs\\Python3.9.13\\lib\\site-packages\\statsmodels\\tsa\\vector_ar\\var_model.py:1558: RuntimeWarning: invalid value encountered in sqrt\n",
      "  stderr = np.sqrt(np.diag(self.cov_params()))\n"
     ]
    },
    {
     "name": "stdout",
     "output_type": "stream",
     "text": [
      "Volume_median\n",
      " maxlags 要小於等於:  9\n",
      "在最大 lag 數目為 9 的情況下，VAR 找出的最佳 lag 為:  9\n"
     ]
    },
    {
     "name": "stderr",
     "output_type": "stream",
     "text": [
      "c:\\Users\\User\\.conda\\envs\\Python3.9.13\\lib\\site-packages\\statsmodels\\tsa\\vector_ar\\var_model.py:1558: RuntimeWarning: invalid value encountered in sqrt\n",
      "  stderr = np.sqrt(np.diag(self.cov_params()))\n"
     ]
    },
    {
     "name": "stdout",
     "output_type": "stream",
     "text": [
      "Close_mean\n",
      " maxlags 要小於等於:  9\n",
      "在最大 lag 數目為 9 的情況下，VAR 找出的最佳 lag 為:  9\n"
     ]
    },
    {
     "name": "stderr",
     "output_type": "stream",
     "text": [
      "c:\\Users\\User\\.conda\\envs\\Python3.9.13\\lib\\site-packages\\statsmodels\\tsa\\vector_ar\\var_model.py:1558: RuntimeWarning: invalid value encountered in sqrt\n",
      "  stderr = np.sqrt(np.diag(self.cov_params()))\n"
     ]
    },
    {
     "name": "stdout",
     "output_type": "stream",
     "text": [
      "Low_mean\n",
      " maxlags 要小於等於:  9\n",
      "在最大 lag 數目為 9 的情況下，VAR 找出的最佳 lag 為:  9\n"
     ]
    },
    {
     "name": "stderr",
     "output_type": "stream",
     "text": [
      "c:\\Users\\User\\.conda\\envs\\Python3.9.13\\lib\\site-packages\\statsmodels\\tsa\\vector_ar\\var_model.py:1558: RuntimeWarning: invalid value encountered in sqrt\n",
      "  stderr = np.sqrt(np.diag(self.cov_params()))\n"
     ]
    },
    {
     "name": "stdout",
     "output_type": "stream",
     "text": [
      "Low_first\n",
      " maxlags 要小於等於:  9\n",
      "在最大 lag 數目為 9 的情況下，VAR 找出的最佳 lag 為:  9\n"
     ]
    },
    {
     "name": "stderr",
     "output_type": "stream",
     "text": [
      "c:\\Users\\User\\.conda\\envs\\Python3.9.13\\lib\\site-packages\\statsmodels\\tsa\\vector_ar\\var_model.py:1558: RuntimeWarning: invalid value encountered in sqrt\n",
      "  stderr = np.sqrt(np.diag(self.cov_params()))\n"
     ]
    },
    {
     "name": "stdout",
     "output_type": "stream",
     "text": [
      "Open_median\n",
      " maxlags 要小於等於:  9\n",
      "在最大 lag 數目為 9 的情況下，VAR 找出的最佳 lag 為:  9\n"
     ]
    },
    {
     "name": "stderr",
     "output_type": "stream",
     "text": [
      "c:\\Users\\User\\.conda\\envs\\Python3.9.13\\lib\\site-packages\\statsmodels\\tsa\\vector_ar\\var_model.py:1558: RuntimeWarning: invalid value encountered in sqrt\n",
      "  stderr = np.sqrt(np.diag(self.cov_params()))\n"
     ]
    },
    {
     "name": "stdout",
     "output_type": "stream",
     "text": [
      "High_last\n",
      " maxlags 要小於等於:  9\n",
      "在最大 lag 數目為 9 的情況下，VAR 找出的最佳 lag 為:  9\n"
     ]
    },
    {
     "name": "stderr",
     "output_type": "stream",
     "text": [
      "c:\\Users\\User\\.conda\\envs\\Python3.9.13\\lib\\site-packages\\statsmodels\\tsa\\vector_ar\\var_model.py:1558: RuntimeWarning: invalid value encountered in sqrt\n",
      "  stderr = np.sqrt(np.diag(self.cov_params()))\n"
     ]
    },
    {
     "name": "stdout",
     "output_type": "stream",
     "text": [
      "Dividends_last\n",
      " maxlags 要小於等於:  9\n",
      "在最大 lag 數目為 9 的情況下，VAR 找出的最佳 lag 為:  9\n"
     ]
    },
    {
     "name": "stderr",
     "output_type": "stream",
     "text": [
      "c:\\Users\\User\\.conda\\envs\\Python3.9.13\\lib\\site-packages\\statsmodels\\tsa\\vector_ar\\var_model.py:1558: RuntimeWarning: invalid value encountered in sqrt\n",
      "  stderr = np.sqrt(np.diag(self.cov_params()))\n"
     ]
    },
    {
     "name": "stdout",
     "output_type": "stream",
     "text": [
      "High_mean\n",
      " maxlags 要小於等於:  9\n",
      "在最大 lag 數目為 9 的情況下，VAR 找出的最佳 lag 為:  9\n"
     ]
    },
    {
     "name": "stderr",
     "output_type": "stream",
     "text": [
      "c:\\Users\\User\\.conda\\envs\\Python3.9.13\\lib\\site-packages\\statsmodels\\tsa\\vector_ar\\var_model.py:1558: RuntimeWarning: invalid value encountered in sqrt\n",
      "  stderr = np.sqrt(np.diag(self.cov_params()))\n"
     ]
    },
    {
     "name": "stdout",
     "output_type": "stream",
     "text": [
      "Open_min\n",
      " maxlags 要小於等於:  9\n",
      "在最大 lag 數目為 9 的情況下，VAR 找出的最佳 lag 為:  9\n"
     ]
    },
    {
     "name": "stderr",
     "output_type": "stream",
     "text": [
      "c:\\Users\\User\\.conda\\envs\\Python3.9.13\\lib\\site-packages\\statsmodels\\tsa\\vector_ar\\var_model.py:1558: RuntimeWarning: invalid value encountered in sqrt\n",
      "  stderr = np.sqrt(np.diag(self.cov_params()))\n"
     ]
    },
    {
     "name": "stdout",
     "output_type": "stream",
     "text": [
      "High_median\n",
      " maxlags 要小於等於:  9\n",
      "在最大 lag 數目為 9 的情況下，VAR 找出的最佳 lag 為:  9\n"
     ]
    },
    {
     "name": "stderr",
     "output_type": "stream",
     "text": [
      "c:\\Users\\User\\.conda\\envs\\Python3.9.13\\lib\\site-packages\\statsmodels\\tsa\\vector_ar\\var_model.py:1558: RuntimeWarning: invalid value encountered in sqrt\n",
      "  stderr = np.sqrt(np.diag(self.cov_params()))\n"
     ]
    },
    {
     "name": "stdout",
     "output_type": "stream",
     "text": [
      "Volume_first\n",
      " maxlags 要小於等於:  9\n",
      "在最大 lag 數目為 9 的情況下，VAR 找出的最佳 lag 為:  9\n"
     ]
    },
    {
     "name": "stderr",
     "output_type": "stream",
     "text": [
      "c:\\Users\\User\\.conda\\envs\\Python3.9.13\\lib\\site-packages\\statsmodels\\tsa\\vector_ar\\var_model.py:1558: RuntimeWarning: invalid value encountered in sqrt\n",
      "  stderr = np.sqrt(np.diag(self.cov_params()))\n"
     ]
    },
    {
     "name": "stdout",
     "output_type": "stream",
     "text": [
      "Close_max\n",
      " maxlags 要小於等於:  9\n",
      "在最大 lag 數目為 9 的情況下，VAR 找出的最佳 lag 為:  9\n"
     ]
    },
    {
     "name": "stderr",
     "output_type": "stream",
     "text": [
      "c:\\Users\\User\\.conda\\envs\\Python3.9.13\\lib\\site-packages\\statsmodels\\tsa\\vector_ar\\var_model.py:1558: RuntimeWarning: invalid value encountered in sqrt\n",
      "  stderr = np.sqrt(np.diag(self.cov_params()))\n"
     ]
    },
    {
     "name": "stdout",
     "output_type": "stream",
     "text": [
      "Low_max\n",
      " maxlags 要小於等於:  9\n",
      "在最大 lag 數目為 9 的情況下，VAR 找出的最佳 lag 為:  9\n"
     ]
    },
    {
     "name": "stderr",
     "output_type": "stream",
     "text": [
      "c:\\Users\\User\\.conda\\envs\\Python3.9.13\\lib\\site-packages\\statsmodels\\tsa\\vector_ar\\var_model.py:1558: RuntimeWarning: invalid value encountered in sqrt\n",
      "  stderr = np.sqrt(np.diag(self.cov_params()))\n"
     ]
    },
    {
     "name": "stdout",
     "output_type": "stream",
     "text": [
      "High_prod\n",
      " maxlags 要小於等於:  9\n",
      "在最大 lag 數目為 9 的情況下，VAR 找出的最佳 lag 為:  9\n"
     ]
    },
    {
     "name": "stderr",
     "output_type": "stream",
     "text": [
      "c:\\Users\\User\\.conda\\envs\\Python3.9.13\\lib\\site-packages\\statsmodels\\tsa\\vector_ar\\var_model.py:1558: RuntimeWarning: invalid value encountered in sqrt\n",
      "  stderr = np.sqrt(np.diag(self.cov_params()))\n"
     ]
    },
    {
     "name": "stdout",
     "output_type": "stream",
     "text": [
      "High_max\n",
      " maxlags 要小於等於:  9\n",
      "在最大 lag 數目為 9 的情況下，VAR 找出的最佳 lag 為:  9\n"
     ]
    },
    {
     "name": "stderr",
     "output_type": "stream",
     "text": [
      "c:\\Users\\User\\.conda\\envs\\Python3.9.13\\lib\\site-packages\\statsmodels\\tsa\\vector_ar\\var_model.py:1558: RuntimeWarning: invalid value encountered in sqrt\n",
      "  stderr = np.sqrt(np.diag(self.cov_params()))\n"
     ]
    },
    {
     "name": "stdout",
     "output_type": "stream",
     "text": [
      "Open_mean\n",
      " maxlags 要小於等於:  9\n",
      "在最大 lag 數目為 9 的情況下，VAR 找出的最佳 lag 為:  9\n"
     ]
    },
    {
     "name": "stderr",
     "output_type": "stream",
     "text": [
      "c:\\Users\\User\\.conda\\envs\\Python3.9.13\\lib\\site-packages\\statsmodels\\tsa\\vector_ar\\var_model.py:1558: RuntimeWarning: invalid value encountered in sqrt\n",
      "  stderr = np.sqrt(np.diag(self.cov_params()))\n"
     ]
    },
    {
     "name": "stdout",
     "output_type": "stream",
     "text": [
      "Close_first\n",
      " maxlags 要小於等於:  9\n",
      "在最大 lag 數目為 9 的情況下，VAR 找出的最佳 lag 為:  9\n"
     ]
    },
    {
     "name": "stderr",
     "output_type": "stream",
     "text": [
      "c:\\Users\\User\\.conda\\envs\\Python3.9.13\\lib\\site-packages\\statsmodels\\tsa\\vector_ar\\var_model.py:1558: RuntimeWarning: invalid value encountered in sqrt\n",
      "  stderr = np.sqrt(np.diag(self.cov_params()))\n"
     ]
    },
    {
     "name": "stdout",
     "output_type": "stream",
     "text": [
      "Close_prod\n",
      " maxlags 要小於等於:  9\n",
      "在最大 lag 數目為 9 的情況下，VAR 找出的最佳 lag 為:  9\n"
     ]
    },
    {
     "name": "stderr",
     "output_type": "stream",
     "text": [
      "c:\\Users\\User\\.conda\\envs\\Python3.9.13\\lib\\site-packages\\statsmodels\\tsa\\vector_ar\\var_model.py:1558: RuntimeWarning: invalid value encountered in sqrt\n",
      "  stderr = np.sqrt(np.diag(self.cov_params()))\n"
     ]
    },
    {
     "name": "stdout",
     "output_type": "stream",
     "text": [
      "Volume_last\n",
      " maxlags 要小於等於:  9\n",
      "在最大 lag 數目為 9 的情況下，VAR 找出的最佳 lag 為:  9\n"
     ]
    },
    {
     "name": "stderr",
     "output_type": "stream",
     "text": [
      "c:\\Users\\User\\.conda\\envs\\Python3.9.13\\lib\\site-packages\\statsmodels\\tsa\\vector_ar\\var_model.py:1558: RuntimeWarning: invalid value encountered in sqrt\n",
      "  stderr = np.sqrt(np.diag(self.cov_params()))\n"
     ]
    },
    {
     "name": "stdout",
     "output_type": "stream",
     "text": [
      "Volume_max\n",
      " maxlags 要小於等於:  9\n",
      "在最大 lag 數目為 9 的情況下，VAR 找出的最佳 lag 為:  9\n"
     ]
    },
    {
     "name": "stderr",
     "output_type": "stream",
     "text": [
      "c:\\Users\\User\\.conda\\envs\\Python3.9.13\\lib\\site-packages\\statsmodels\\tsa\\vector_ar\\var_model.py:1558: RuntimeWarning: invalid value encountered in sqrt\n",
      "  stderr = np.sqrt(np.diag(self.cov_params()))\n"
     ]
    },
    {
     "name": "stdout",
     "output_type": "stream",
     "text": [
      "Dividends_mean\n",
      " maxlags 要小於等於:  9\n",
      "在最大 lag 數目為 9 的情況下，VAR 找出的最佳 lag 為:  9\n"
     ]
    },
    {
     "name": "stderr",
     "output_type": "stream",
     "text": [
      "c:\\Users\\User\\.conda\\envs\\Python3.9.13\\lib\\site-packages\\statsmodels\\tsa\\vector_ar\\var_model.py:1558: RuntimeWarning: invalid value encountered in sqrt\n",
      "  stderr = np.sqrt(np.diag(self.cov_params()))\n"
     ]
    },
    {
     "name": "stdout",
     "output_type": "stream",
     "text": [
      "Close_last\n",
      " maxlags 要小於等於:  9\n",
      "在最大 lag 數目為 9 的情況下，VAR 找出的最佳 lag 為:  9\n"
     ]
    },
    {
     "name": "stderr",
     "output_type": "stream",
     "text": [
      "c:\\Users\\User\\.conda\\envs\\Python3.9.13\\lib\\site-packages\\statsmodels\\tsa\\vector_ar\\var_model.py:1558: RuntimeWarning: invalid value encountered in sqrt\n",
      "  stderr = np.sqrt(np.diag(self.cov_params()))\n"
     ]
    },
    {
     "name": "stdout",
     "output_type": "stream",
     "text": [
      "Stock Splits_prod\n",
      " maxlags 要小於等於:  9\n",
      "在最大 lag 數目為 9 的情況下，VAR 找出的最佳 lag 為:  9\n"
     ]
    },
    {
     "name": "stderr",
     "output_type": "stream",
     "text": [
      "c:\\Users\\User\\.conda\\envs\\Python3.9.13\\lib\\site-packages\\statsmodels\\tsa\\vector_ar\\var_model.py:1558: RuntimeWarning: invalid value encountered in sqrt\n",
      "  stderr = np.sqrt(np.diag(self.cov_params()))\n"
     ]
    },
    {
     "name": "stdout",
     "output_type": "stream",
     "text": [
      "Low_prod\n",
      " maxlags 要小於等於:  9\n",
      "在最大 lag 數目為 9 的情況下，VAR 找出的最佳 lag 為:  9\n"
     ]
    },
    {
     "name": "stderr",
     "output_type": "stream",
     "text": [
      "c:\\Users\\User\\.conda\\envs\\Python3.9.13\\lib\\site-packages\\statsmodels\\tsa\\vector_ar\\var_model.py:1558: RuntimeWarning: invalid value encountered in sqrt\n",
      "  stderr = np.sqrt(np.diag(self.cov_params()))\n"
     ]
    },
    {
     "name": "stdout",
     "output_type": "stream",
     "text": [
      "Volume_mean\n",
      " maxlags 要小於等於:  9\n",
      "在最大 lag 數目為 9 的情況下，VAR 找出的最佳 lag 為:  9\n"
     ]
    },
    {
     "name": "stderr",
     "output_type": "stream",
     "text": [
      "c:\\Users\\User\\.conda\\envs\\Python3.9.13\\lib\\site-packages\\statsmodels\\tsa\\vector_ar\\var_model.py:1558: RuntimeWarning: invalid value encountered in sqrt\n",
      "  stderr = np.sqrt(np.diag(self.cov_params()))\n"
     ]
    },
    {
     "name": "stdout",
     "output_type": "stream",
     "text": [
      "Close_min\n",
      " maxlags 要小於等於:  9\n",
      "在最大 lag 數目為 9 的情況下，VAR 找出的最佳 lag 為:  9\n"
     ]
    },
    {
     "name": "stderr",
     "output_type": "stream",
     "text": [
      "c:\\Users\\User\\.conda\\envs\\Python3.9.13\\lib\\site-packages\\statsmodels\\tsa\\vector_ar\\var_model.py:1558: RuntimeWarning: invalid value encountered in sqrt\n",
      "  stderr = np.sqrt(np.diag(self.cov_params()))\n"
     ]
    },
    {
     "name": "stdout",
     "output_type": "stream",
     "text": [
      "High_min\n",
      " maxlags 要小於等於:  9\n",
      "在最大 lag 數目為 9 的情況下，VAR 找出的最佳 lag 為:  9\n"
     ]
    },
    {
     "name": "stderr",
     "output_type": "stream",
     "text": [
      "c:\\Users\\User\\.conda\\envs\\Python3.9.13\\lib\\site-packages\\statsmodels\\tsa\\vector_ar\\var_model.py:1558: RuntimeWarning: invalid value encountered in sqrt\n",
      "  stderr = np.sqrt(np.diag(self.cov_params()))\n"
     ]
    },
    {
     "name": "stdout",
     "output_type": "stream",
     "text": [
      "Low_median\n",
      " maxlags 要小於等於:  9\n",
      "在最大 lag 數目為 9 的情況下，VAR 找出的最佳 lag 為:  9\n"
     ]
    },
    {
     "name": "stderr",
     "output_type": "stream",
     "text": [
      "c:\\Users\\User\\.conda\\envs\\Python3.9.13\\lib\\site-packages\\statsmodels\\tsa\\vector_ar\\var_model.py:1558: RuntimeWarning: invalid value encountered in sqrt\n",
      "  stderr = np.sqrt(np.diag(self.cov_params()))\n"
     ]
    },
    {
     "name": "stdout",
     "output_type": "stream",
     "text": [
      "Low_last\n",
      " maxlags 要小於等於:  9\n",
      "在最大 lag 數目為 9 的情況下，VAR 找出的最佳 lag 為:  9\n"
     ]
    },
    {
     "name": "stderr",
     "output_type": "stream",
     "text": [
      "c:\\Users\\User\\.conda\\envs\\Python3.9.13\\lib\\site-packages\\statsmodels\\tsa\\vector_ar\\var_model.py:1558: RuntimeWarning: invalid value encountered in sqrt\n",
      "  stderr = np.sqrt(np.diag(self.cov_params()))\n",
      "c:\\Users\\User\\.conda\\envs\\Python3.9.13\\lib\\site-packages\\statsmodels\\regression\\linear_model.py:1783: RuntimeWarning: invalid value encountered in double_scalars\n",
      "  return 1 - self.ssr/self.centered_tss\n"
     ]
    },
    {
     "name": "stdout",
     "output_type": "stream",
     "text": [
      "1\n",
      "Volume_prod\n",
      " maxlags 要小於等於:  1\n",
      "在最大 lag 數目為 1 的情況下，VAR 找出的最佳 lag 為:  1\n",
      "High_first\n",
      " maxlags 要小於等於:  1\n",
      "在最大 lag 數目為 1 的情況下，VAR 找出的最佳 lag 為:  1\n",
      "Low_min\n",
      " maxlags 要小於等於:  1\n",
      "在最大 lag 數目為 1 的情況下，VAR 找出的最佳 lag 為:  1\n",
      "Open_last\n",
      " maxlags 要小於等於:  1\n",
      "在最大 lag 數目為 1 的情況下，VAR 找出的最佳 lag 為:  1\n",
      "Open_first\n",
      " maxlags 要小於等於:  1\n",
      "在最大 lag 數目為 1 的情況下，VAR 找出的最佳 lag 為:  1\n",
      "Open_max\n",
      " maxlags 要小於等於:  1\n",
      "在最大 lag 數目為 1 的情況下，VAR 找出的最佳 lag 為:  1\n",
      "Close_median\n",
      " maxlags 要小於等於:  1\n",
      "在最大 lag 數目為 1 的情況下，VAR 找出的最佳 lag 為:  1\n",
      "Volume_min\n",
      " maxlags 要小於等於:  1\n",
      "在最大 lag 數目為 1 的情況下，VAR 找出的最佳 lag 為:  1\n",
      "Dividends_max\n",
      " maxlags 要小於等於:  1\n",
      "在最大 lag 數目為 1 的情況下，VAR 找出的最佳 lag 為:  1\n",
      "Open_prod\n",
      " maxlags 要小於等於:  1\n",
      "在最大 lag 數目為 1 的情況下，VAR 找出的最佳 lag 為:  1\n",
      "Volume_median\n",
      " maxlags 要小於等於:  1\n",
      "在最大 lag 數目為 1 的情況下，VAR 找出的最佳 lag 為:  1\n",
      "Close_mean\n",
      " maxlags 要小於等於:  1\n",
      "在最大 lag 數目為 1 的情況下，VAR 找出的最佳 lag 為:  1\n",
      "Low_mean\n",
      " maxlags 要小於等於:  1\n",
      "在最大 lag 數目為 1 的情況下，VAR 找出的最佳 lag 為:  1\n",
      "Low_first\n",
      " maxlags 要小於等於:  1\n",
      "在最大 lag 數目為 1 的情況下，VAR 找出的最佳 lag 為:  1\n",
      "Open_median\n",
      " maxlags 要小於等於:  1\n",
      "在最大 lag 數目為 1 的情況下，VAR 找出的最佳 lag 為:  1\n",
      "High_last\n",
      " maxlags 要小於等於:  1\n",
      "在最大 lag 數目為 1 的情況下，VAR 找出的最佳 lag 為:  1\n",
      "Dividends_last\n",
      " maxlags 要小於等於:  1\n",
      "在最大 lag 數目為 1 的情況下，VAR 找出的最佳 lag 為:  1\n",
      "High_mean\n",
      " maxlags 要小於等於:  1\n",
      "在最大 lag 數目為 1 的情況下，VAR 找出的最佳 lag 為:  1\n",
      "Open_min\n",
      " maxlags 要小於等於:  1\n",
      "在最大 lag 數目為 1 的情況下，VAR 找出的最佳 lag 為:  1\n",
      "High_median\n",
      " maxlags 要小於等於:  1\n",
      "在最大 lag 數目為 1 的情況下，VAR 找出的最佳 lag 為:  1\n",
      "Volume_first\n",
      " maxlags 要小於等於:  1\n",
      "在最大 lag 數目為 1 的情況下，VAR 找出的最佳 lag 為:  1\n",
      "Close_max\n",
      " maxlags 要小於等於:  1\n",
      "在最大 lag 數目為 1 的情況下，VAR 找出的最佳 lag 為:  1\n",
      "Low_max\n",
      " maxlags 要小於等於:  1\n",
      "在最大 lag 數目為 1 的情況下，VAR 找出的最佳 lag 為:  1\n",
      "High_prod\n",
      " maxlags 要小於等於:  1\n",
      "在最大 lag 數目為 1 的情況下，VAR 找出的最佳 lag 為:  1\n",
      "High_max\n",
      " maxlags 要小於等於:  1\n",
      "在最大 lag 數目為 1 的情況下，VAR 找出的最佳 lag 為:  1\n",
      "Open_mean\n",
      " maxlags 要小於等於:  1\n",
      "在最大 lag 數目為 1 的情況下，VAR 找出的最佳 lag 為:  1\n",
      "Close_first\n",
      " maxlags 要小於等於:  1\n",
      "在最大 lag 數目為 1 的情況下，VAR 找出的最佳 lag 為:  1\n",
      "Close_prod\n",
      " maxlags 要小於等於:  1\n",
      "在最大 lag 數目為 1 的情況下，VAR 找出的最佳 lag 為:  1\n",
      "Volume_last\n",
      " maxlags 要小於等於:  1\n",
      "在最大 lag 數目為 1 的情況下，VAR 找出的最佳 lag 為:  1\n",
      "Volume_max\n",
      " maxlags 要小於等於:  1\n",
      "在最大 lag 數目為 1 的情況下，VAR 找出的最佳 lag 為:  1\n",
      "Dividends_mean\n",
      " maxlags 要小於等於:  1\n",
      "在最大 lag 數目為 1 的情況下，VAR 找出的最佳 lag 為:  1\n",
      "Close_last\n",
      " maxlags 要小於等於:  1\n",
      "在最大 lag 數目為 1 的情況下，VAR 找出的最佳 lag 為:  1\n",
      "Low_prod\n",
      " maxlags 要小於等於:  1\n",
      "在最大 lag 數目為 1 的情況下，VAR 找出的最佳 lag 為:  1\n",
      "Volume_mean\n",
      " maxlags 要小於等於:  1\n",
      "在最大 lag 數目為 1 的情況下，VAR 找出的最佳 lag 為:  1\n",
      "Close_min\n",
      " maxlags 要小於等於:  1\n",
      "在最大 lag 數目為 1 的情況下，VAR 找出的最佳 lag 為:  1\n",
      "High_min\n",
      " maxlags 要小於等於:  1\n",
      "在最大 lag 數目為 1 的情況下，VAR 找出的最佳 lag 為:  1\n",
      "Low_median\n",
      " maxlags 要小於等於:  1\n",
      "在最大 lag 數目為 1 的情況下，VAR 找出的最佳 lag 為:  1\n",
      "Low_last\n",
      " maxlags 要小於等於:  1\n",
      "在最大 lag 數目為 1 的情況下，VAR 找出的最佳 lag 為:  1\n",
      "1\n",
      "High_first\n",
      " maxlags 要小於等於:  1\n",
      "在最大 lag 數目為 1 的情況下，VAR 找出的最佳 lag 為:  1\n",
      "Low_min\n",
      " maxlags 要小於等於:  1\n",
      "在最大 lag 數目為 1 的情況下，VAR 找出的最佳 lag 為:  1\n",
      "Open_last\n",
      " maxlags 要小於等於:  1\n",
      "在最大 lag 數目為 1 的情況下，VAR 找出的最佳 lag 為:  1\n"
     ]
    },
    {
     "name": "stderr",
     "output_type": "stream",
     "text": [
      "c:\\Users\\User\\.conda\\envs\\Python3.9.13\\lib\\site-packages\\numpy\\linalg\\linalg.py:1900: RuntimeWarning: overflow encountered in multiply\n",
      "  tol = S.max(axis=-1, keepdims=True) * max(A.shape[-2:]) * finfo(S.dtype).eps\n",
      "c:\\Users\\User\\.conda\\envs\\Python3.9.13\\lib\\site-packages\\statsmodels\\regression\\linear_model.py:1734: RuntimeWarning: overflow encountered in square\n",
      "  return np.sum(weights * (model.endog - mean)**2)\n",
      "c:\\Users\\User\\.conda\\envs\\Python3.9.13\\lib\\site-packages\\statsmodels\\regression\\linear_model.py:1783: RuntimeWarning: invalid value encountered in double_scalars\n",
      "  return 1 - self.ssr/self.centered_tss\n",
      "c:\\Users\\User\\.conda\\envs\\Python3.9.13\\lib\\site-packages\\statsmodels\\tsa\\vector_ar\\var_model.py:1558: RuntimeWarning: invalid value encountered in sqrt\n",
      "  stderr = np.sqrt(np.diag(self.cov_params()))\n",
      "c:\\Users\\User\\.conda\\envs\\Python3.9.13\\lib\\site-packages\\statsmodels\\tsa\\vector_ar\\var_model.py:1558: RuntimeWarning: invalid value encountered in sqrt\n",
      "  stderr = np.sqrt(np.diag(self.cov_params()))\n",
      "c:\\Users\\User\\.conda\\envs\\Python3.9.13\\lib\\site-packages\\statsmodels\\tsa\\vector_ar\\var_model.py:1558: RuntimeWarning: invalid value encountered in sqrt\n",
      "  stderr = np.sqrt(np.diag(self.cov_params()))\n",
      "c:\\Users\\User\\.conda\\envs\\Python3.9.13\\lib\\site-packages\\statsmodels\\tsa\\vector_ar\\var_model.py:1558: RuntimeWarning: invalid value encountered in sqrt\n",
      "  stderr = np.sqrt(np.diag(self.cov_params()))\n",
      "c:\\Users\\User\\.conda\\envs\\Python3.9.13\\lib\\site-packages\\statsmodels\\tsa\\vector_ar\\var_model.py:1558: RuntimeWarning: invalid value encountered in sqrt\n",
      "  stderr = np.sqrt(np.diag(self.cov_params()))\n",
      "c:\\Users\\User\\.conda\\envs\\Python3.9.13\\lib\\site-packages\\statsmodels\\tsa\\vector_ar\\var_model.py:1558: RuntimeWarning: invalid value encountered in sqrt\n",
      "  stderr = np.sqrt(np.diag(self.cov_params()))\n",
      "c:\\Users\\User\\.conda\\envs\\Python3.9.13\\lib\\site-packages\\statsmodels\\tsa\\vector_ar\\var_model.py:1558: RuntimeWarning: invalid value encountered in sqrt\n",
      "  stderr = np.sqrt(np.diag(self.cov_params()))\n",
      "c:\\Users\\User\\.conda\\envs\\Python3.9.13\\lib\\site-packages\\statsmodels\\tsa\\vector_ar\\var_model.py:1558: RuntimeWarning: invalid value encountered in sqrt\n",
      "  stderr = np.sqrt(np.diag(self.cov_params()))\n",
      "c:\\Users\\User\\.conda\\envs\\Python3.9.13\\lib\\site-packages\\statsmodels\\tsa\\vector_ar\\var_model.py:1558: RuntimeWarning: invalid value encountered in sqrt\n",
      "  stderr = np.sqrt(np.diag(self.cov_params()))\n",
      "c:\\Users\\User\\.conda\\envs\\Python3.9.13\\lib\\site-packages\\statsmodels\\tsa\\vector_ar\\var_model.py:1558: RuntimeWarning: invalid value encountered in sqrt\n",
      "  stderr = np.sqrt(np.diag(self.cov_params()))\n",
      "c:\\Users\\User\\.conda\\envs\\Python3.9.13\\lib\\site-packages\\statsmodels\\tsa\\vector_ar\\var_model.py:1558: RuntimeWarning: invalid value encountered in sqrt\n",
      "  stderr = np.sqrt(np.diag(self.cov_params()))\n",
      "c:\\Users\\User\\.conda\\envs\\Python3.9.13\\lib\\site-packages\\statsmodels\\tsa\\vector_ar\\var_model.py:1558: RuntimeWarning: invalid value encountered in sqrt\n",
      "  stderr = np.sqrt(np.diag(self.cov_params()))\n",
      "c:\\Users\\User\\.conda\\envs\\Python3.9.13\\lib\\site-packages\\statsmodels\\tsa\\vector_ar\\var_model.py:1558: RuntimeWarning: invalid value encountered in sqrt\n",
      "  stderr = np.sqrt(np.diag(self.cov_params()))\n",
      "c:\\Users\\User\\.conda\\envs\\Python3.9.13\\lib\\site-packages\\statsmodels\\tsa\\vector_ar\\var_model.py:1558: RuntimeWarning: invalid value encountered in sqrt\n",
      "  stderr = np.sqrt(np.diag(self.cov_params()))\n",
      "c:\\Users\\User\\.conda\\envs\\Python3.9.13\\lib\\site-packages\\statsmodels\\tsa\\vector_ar\\var_model.py:1558: RuntimeWarning: invalid value encountered in sqrt\n",
      "  stderr = np.sqrt(np.diag(self.cov_params()))\n",
      "c:\\Users\\User\\.conda\\envs\\Python3.9.13\\lib\\site-packages\\statsmodels\\tsa\\vector_ar\\var_model.py:1558: RuntimeWarning: invalid value encountered in sqrt\n",
      "  stderr = np.sqrt(np.diag(self.cov_params()))\n",
      "c:\\Users\\User\\.conda\\envs\\Python3.9.13\\lib\\site-packages\\statsmodels\\tsa\\vector_ar\\var_model.py:1558: RuntimeWarning: invalid value encountered in sqrt\n",
      "  stderr = np.sqrt(np.diag(self.cov_params()))\n",
      "c:\\Users\\User\\.conda\\envs\\Python3.9.13\\lib\\site-packages\\statsmodels\\tsa\\vector_ar\\var_model.py:1558: RuntimeWarning: invalid value encountered in sqrt\n",
      "  stderr = np.sqrt(np.diag(self.cov_params()))\n"
     ]
    },
    {
     "name": "stdout",
     "output_type": "stream",
     "text": [
      "Open_max\n",
      " maxlags 要小於等於:  1\n",
      "在最大 lag 數目為 1 的情況下，VAR 找出的最佳 lag 為:  1\n",
      "Close_median\n",
      " maxlags 要小於等於:  1\n",
      "在最大 lag 數目為 1 的情況下，VAR 找出的最佳 lag 為:  1\n",
      "Open_first\n",
      " maxlags 要小於等於:  1\n",
      "在最大 lag 數目為 1 的情況下，VAR 找出的最佳 lag 為:  1\n",
      "Volume_min\n",
      " maxlags 要小於等於:  1\n",
      "在最大 lag 數目為 1 的情況下，VAR 找出的最佳 lag 為:  1\n",
      "Dividends_max\n",
      " maxlags 要小於等於:  1\n",
      "在最大 lag 數目為 1 的情況下，VAR 找出的最佳 lag 為:  1\n",
      "Volume_median\n",
      " maxlags 要小於等於:  1\n",
      "在最大 lag 數目為 1 的情況下，VAR 找出的最佳 lag 為:  1\n",
      "Close_mean\n",
      " maxlags 要小於等於:  1\n",
      "在最大 lag 數目為 1 的情況下，VAR 找出的最佳 lag 為:  1\n",
      "Low_mean\n",
      " maxlags 要小於等於:  1\n",
      "在最大 lag 數目為 1 的情況下，VAR 找出的最佳 lag 為:  1\n",
      "Low_first\n",
      " maxlags 要小於等於:  1\n",
      "在最大 lag 數目為 1 的情況下，VAR 找出的最佳 lag 為:  1\n",
      "Open_median\n",
      " maxlags 要小於等於:  1\n",
      "在最大 lag 數目為 1 的情況下，VAR 找出的最佳 lag 為:  1\n",
      "High_last\n",
      " maxlags 要小於等於:  1\n",
      "在最大 lag 數目為 1 的情況下，VAR 找出的最佳 lag 為:  1\n",
      "High_mean\n",
      " maxlags 要小於等於:  1\n",
      "在最大 lag 數目為 1 的情況下，VAR 找出的最佳 lag 為:  1\n",
      "Open_min\n",
      " maxlags 要小於等於:  1\n",
      "在最大 lag 數目為 1 的情況下，VAR 找出的最佳 lag 為:  1\n",
      "High_median\n",
      " maxlags 要小於等於:  1\n",
      "在最大 lag 數目為 1 的情況下，VAR 找出的最佳 lag 為:  1\n",
      "Volume_first\n",
      " maxlags 要小於等於:  1\n",
      "在最大 lag 數目為 1 的情況下，VAR 找出的最佳 lag 為:  1\n",
      "Close_max\n",
      " maxlags 要小於等於:  1\n",
      "在最大 lag 數目為 1 的情況下，VAR 找出的最佳 lag 為:  1\n",
      "Low_max\n",
      " maxlags 要小於等於:  1\n",
      "在最大 lag 數目為 1 的情況下，VAR 找出的最佳 lag 為:  1\n",
      "High_max\n",
      " maxlags 要小於等於:  1\n",
      "在最大 lag 數目為 1 的情況下，VAR 找出的最佳 lag 為:  1\n",
      "Open_mean\n",
      " maxlags 要小於等於:  1\n",
      "在最大 lag 數目為 1 的情況下，VAR 找出的最佳 lag 為:  1\n",
      "Volume_last\n",
      " maxlags 要小於等於:  1\n",
      "在最大 lag 數目為 1 的情況下，VAR 找出的最佳 lag 為:  1\n",
      "Close_first\n",
      " maxlags 要小於等於:  1\n",
      "在最大 lag 數目為 1 的情況下，VAR 找出的最佳 lag 為:  1\n",
      "Volume_max\n",
      " maxlags 要小於等於:  1\n",
      "在最大 lag 數目為 1 的情況下，VAR 找出的最佳 lag 為:  1\n",
      "Dividends_mean\n",
      " maxlags 要小於等於:  1\n",
      "在最大 lag 數目為 1 的情況下，VAR 找出的最佳 lag 為:  1\n",
      "Close_last\n",
      " maxlags 要小於等於:  1\n",
      "在最大 lag 數目為 1 的情況下，VAR 找出的最佳 lag 為:  1\n",
      "Volume_mean\n",
      " maxlags 要小於等於:  1\n",
      "在最大 lag 數目為 1 的情況下，VAR 找出的最佳 lag 為:  1\n",
      "Close_min\n",
      " maxlags 要小於等於:  1\n",
      "在最大 lag 數目為 1 的情況下，VAR 找出的最佳 lag 為:  1\n",
      "High_min\n",
      " maxlags 要小於等於:  1\n",
      "在最大 lag 數目為 1 的情況下，VAR 找出的最佳 lag 為:  1\n",
      "Low_median\n",
      " maxlags 要小於等於:  1\n",
      "在最大 lag 數目為 1 的情況下，VAR 找出的最佳 lag 為:  1\n",
      "Low_last\n",
      " maxlags 要小於等於:  1\n",
      "在最大 lag 數目為 1 的情況下，VAR 找出的最佳 lag 為:  1\n"
     ]
    },
    {
     "name": "stderr",
     "output_type": "stream",
     "text": [
      "c:\\Users\\User\\.conda\\envs\\Python3.9.13\\lib\\site-packages\\statsmodels\\tsa\\vector_ar\\var_model.py:1558: RuntimeWarning: invalid value encountered in sqrt\n",
      "  stderr = np.sqrt(np.diag(self.cov_params()))\n",
      "c:\\Users\\User\\.conda\\envs\\Python3.9.13\\lib\\site-packages\\statsmodels\\tsa\\vector_ar\\var_model.py:1558: RuntimeWarning: invalid value encountered in sqrt\n",
      "  stderr = np.sqrt(np.diag(self.cov_params()))\n",
      "c:\\Users\\User\\.conda\\envs\\Python3.9.13\\lib\\site-packages\\statsmodels\\tsa\\vector_ar\\var_model.py:1558: RuntimeWarning: invalid value encountered in sqrt\n",
      "  stderr = np.sqrt(np.diag(self.cov_params()))\n",
      "c:\\Users\\User\\.conda\\envs\\Python3.9.13\\lib\\site-packages\\statsmodels\\tsa\\vector_ar\\var_model.py:1558: RuntimeWarning: invalid value encountered in sqrt\n",
      "  stderr = np.sqrt(np.diag(self.cov_params()))\n",
      "c:\\Users\\User\\.conda\\envs\\Python3.9.13\\lib\\site-packages\\statsmodels\\tsa\\vector_ar\\var_model.py:1558: RuntimeWarning: invalid value encountered in sqrt\n",
      "  stderr = np.sqrt(np.diag(self.cov_params()))\n",
      "c:\\Users\\User\\.conda\\envs\\Python3.9.13\\lib\\site-packages\\statsmodels\\tsa\\vector_ar\\var_model.py:1558: RuntimeWarning: invalid value encountered in sqrt\n",
      "  stderr = np.sqrt(np.diag(self.cov_params()))\n",
      "c:\\Users\\User\\.conda\\envs\\Python3.9.13\\lib\\site-packages\\statsmodels\\tsa\\vector_ar\\var_model.py:1558: RuntimeWarning: invalid value encountered in sqrt\n",
      "  stderr = np.sqrt(np.diag(self.cov_params()))\n",
      "c:\\Users\\User\\.conda\\envs\\Python3.9.13\\lib\\site-packages\\statsmodels\\tsa\\vector_ar\\var_model.py:1558: RuntimeWarning: invalid value encountered in sqrt\n",
      "  stderr = np.sqrt(np.diag(self.cov_params()))\n",
      "c:\\Users\\User\\.conda\\envs\\Python3.9.13\\lib\\site-packages\\statsmodels\\tsa\\vector_ar\\var_model.py:1558: RuntimeWarning: invalid value encountered in sqrt\n",
      "  stderr = np.sqrt(np.diag(self.cov_params()))\n",
      "c:\\Users\\User\\.conda\\envs\\Python3.9.13\\lib\\site-packages\\statsmodels\\tsa\\vector_ar\\var_model.py:1558: RuntimeWarning: invalid value encountered in sqrt\n",
      "  stderr = np.sqrt(np.diag(self.cov_params()))\n",
      "c:\\Users\\User\\.conda\\envs\\Python3.9.13\\lib\\site-packages\\statsmodels\\tsa\\vector_ar\\var_model.py:1558: RuntimeWarning: invalid value encountered in sqrt\n",
      "  stderr = np.sqrt(np.diag(self.cov_params()))\n",
      "c:\\Users\\User\\.conda\\envs\\Python3.9.13\\lib\\site-packages\\statsmodels\\tsa\\vector_ar\\var_model.py:1558: RuntimeWarning: invalid value encountered in sqrt\n",
      "  stderr = np.sqrt(np.diag(self.cov_params()))\n",
      "c:\\Users\\User\\.conda\\envs\\Python3.9.13\\lib\\site-packages\\statsmodels\\tsa\\vector_ar\\var_model.py:1558: RuntimeWarning: invalid value encountered in sqrt\n",
      "  stderr = np.sqrt(np.diag(self.cov_params()))\n",
      "c:\\Users\\User\\.conda\\envs\\Python3.9.13\\lib\\site-packages\\statsmodels\\tsa\\vector_ar\\var_model.py:1558: RuntimeWarning: invalid value encountered in sqrt\n",
      "  stderr = np.sqrt(np.diag(self.cov_params()))\n"
     ]
    }
   ],
   "source": [
    "\"\"\"\n",
    "讓使用者決定好奇的target是甚麼，套件會自動找出所有跟target相關的不同time lag的時間變相\n",
    "maxlags 會影響最終最佳推薦的結果，也得慎選，但設定上不可以超過 cal_maxLag 輸出的值\n",
    "\"\"\"\n",
    "# #data = pd.read_csv(dir+\"National Stock Exchange/tcs_stock.csv\").drop(columns=[\"Symbol\",\"Series\"])\n",
    "# data = time_series_format_preprocessing(data,\"Date\")\n",
    "# data = time_series_impute_missing_value(data, 'interpolation', \"Volume\")\n",
    "\n",
    "# 如果有缺失值，可以选择填充或删除\n",
    "\n",
    "\n",
    "# \n",
    "# \n",
    "# \n",
    "for d in [data,weekly_data,monthly_data,yearly_data]:\n",
    "    clean_data = remove_collinearity(data=d)\n",
    "    maxlags = cal_maxLag(clean_data) # USER 不能指定超過這個的LAG，LAG值也要大於0\n",
    "    print(maxlags)\n",
    "    for i in clean_data.columns:\n",
    "        target = i #\"Open_first\"#\"Trades\"\n",
    "        print(target)\n",
    "        results = vectorAutoregression(clean_data,maxlags=maxlags,ic=None)\n",
    "        pvalue_threshold = 0.05\n",
    "        VAR_relationship = vectorAutoregressionRelationship(results=results,target=target,pvalue_threshold=pvalue_threshold)"
>>>>>>> b0c46cb850495780e86800cd97566bfd37d74a33
   ]
  },
  {
   "cell_type": "code",
<<<<<<< HEAD
   "execution_count": 13,
   "metadata": {},
   "outputs": [],
=======
   "execution_count": 191,
   "metadata": {},
   "outputs": [
    {
     "data": {
      "text/html": [
       "<div>\n",
       "<style scoped>\n",
       "    .dataframe tbody tr th:only-of-type {\n",
       "        vertical-align: middle;\n",
       "    }\n",
       "\n",
       "    .dataframe tbody tr th {\n",
       "        vertical-align: top;\n",
       "    }\n",
       "\n",
       "    .dataframe thead th {\n",
       "        text-align: right;\n",
       "    }\n",
       "</style>\n",
       "<table border=\"1\" class=\"dataframe\">\n",
       "  <thead>\n",
       "    <tr style=\"text-align: right;\">\n",
       "      <th></th>\n",
       "      <th>time_lag</th>\n",
       "      <th>feature</th>\n",
       "      <th>coef</th>\n",
       "      <th>pvalue</th>\n",
       "    </tr>\n",
       "  </thead>\n",
       "  <tbody>\n",
       "    <tr>\n",
       "      <th>0</th>\n",
       "      <td>1</td>\n",
       "      <td>High_first</td>\n",
       "      <td>-2.122830e-01</td>\n",
       "      <td>0.000000e+00</td>\n",
       "    </tr>\n",
       "    <tr>\n",
       "      <th>1</th>\n",
       "      <td>1</td>\n",
       "      <td>Low_min</td>\n",
       "      <td>2.212313e-01</td>\n",
       "      <td>0.000000e+00</td>\n",
       "    </tr>\n",
       "    <tr>\n",
       "      <th>2</th>\n",
       "      <td>1</td>\n",
       "      <td>Open_max</td>\n",
       "      <td>-1.976034e-01</td>\n",
       "      <td>0.000000e+00</td>\n",
       "    </tr>\n",
       "    <tr>\n",
       "      <th>3</th>\n",
       "      <td>1</td>\n",
       "      <td>Open_first</td>\n",
       "      <td>-1.792636e-01</td>\n",
       "      <td>0.000000e+00</td>\n",
       "    </tr>\n",
       "    <tr>\n",
       "      <th>4</th>\n",
       "      <td>1</td>\n",
       "      <td>Volume_min</td>\n",
       "      <td>2.415786e-07</td>\n",
       "      <td>0.000000e+00</td>\n",
       "    </tr>\n",
       "    <tr>\n",
       "      <th>5</th>\n",
       "      <td>1</td>\n",
       "      <td>Volume_median</td>\n",
       "      <td>6.873067e-07</td>\n",
       "      <td>0.000000e+00</td>\n",
       "    </tr>\n",
       "    <tr>\n",
       "      <th>6</th>\n",
       "      <td>1</td>\n",
       "      <td>Low_mean</td>\n",
       "      <td>2.197454e-02</td>\n",
       "      <td>1.011477e-97</td>\n",
       "    </tr>\n",
       "    <tr>\n",
       "      <th>7</th>\n",
       "      <td>1</td>\n",
       "      <td>Open_median</td>\n",
       "      <td>-1.491220e-02</td>\n",
       "      <td>5.375936e-207</td>\n",
       "    </tr>\n",
       "    <tr>\n",
       "      <th>8</th>\n",
       "      <td>1</td>\n",
       "      <td>High_last</td>\n",
       "      <td>1.817686e-01</td>\n",
       "      <td>0.000000e+00</td>\n",
       "    </tr>\n",
       "    <tr>\n",
       "      <th>9</th>\n",
       "      <td>1</td>\n",
       "      <td>Volume_first</td>\n",
       "      <td>1.873044e-07</td>\n",
       "      <td>0.000000e+00</td>\n",
       "    </tr>\n",
       "    <tr>\n",
       "      <th>10</th>\n",
       "      <td>1</td>\n",
       "      <td>Close_max</td>\n",
       "      <td>-2.017154e-01</td>\n",
       "      <td>0.000000e+00</td>\n",
       "    </tr>\n",
       "    <tr>\n",
       "      <th>11</th>\n",
       "      <td>1</td>\n",
       "      <td>Low_max</td>\n",
       "      <td>-2.070556e-01</td>\n",
       "      <td>0.000000e+00</td>\n",
       "    </tr>\n",
       "    <tr>\n",
       "      <th>12</th>\n",
       "      <td>1</td>\n",
       "      <td>Close_first</td>\n",
       "      <td>-2.529838e-01</td>\n",
       "      <td>0.000000e+00</td>\n",
       "    </tr>\n",
       "    <tr>\n",
       "      <th>13</th>\n",
       "      <td>1</td>\n",
       "      <td>Volume_max</td>\n",
       "      <td>-1.857495e-10</td>\n",
       "      <td>2.327490e-05</td>\n",
       "    </tr>\n",
       "    <tr>\n",
       "      <th>14</th>\n",
       "      <td>1</td>\n",
       "      <td>Volume_mean</td>\n",
       "      <td>-3.174609e-07</td>\n",
       "      <td>0.000000e+00</td>\n",
       "    </tr>\n",
       "    <tr>\n",
       "      <th>15</th>\n",
       "      <td>1</td>\n",
       "      <td>Close_min</td>\n",
       "      <td>2.432306e-01</td>\n",
       "      <td>0.000000e+00</td>\n",
       "    </tr>\n",
       "    <tr>\n",
       "      <th>16</th>\n",
       "      <td>1</td>\n",
       "      <td>Low_median</td>\n",
       "      <td>-1.758620e-02</td>\n",
       "      <td>9.201503e-79</td>\n",
       "    </tr>\n",
       "  </tbody>\n",
       "</table>\n",
       "</div>"
      ],
      "text/plain": [
       "    time_lag        feature          coef         pvalue\n",
       "0          1     High_first -2.122830e-01   0.000000e+00\n",
       "1          1        Low_min  2.212313e-01   0.000000e+00\n",
       "2          1       Open_max -1.976034e-01   0.000000e+00\n",
       "3          1     Open_first -1.792636e-01   0.000000e+00\n",
       "4          1     Volume_min  2.415786e-07   0.000000e+00\n",
       "5          1  Volume_median  6.873067e-07   0.000000e+00\n",
       "6          1       Low_mean  2.197454e-02   1.011477e-97\n",
       "7          1    Open_median -1.491220e-02  5.375936e-207\n",
       "8          1      High_last  1.817686e-01   0.000000e+00\n",
       "9          1   Volume_first  1.873044e-07   0.000000e+00\n",
       "10         1      Close_max -2.017154e-01   0.000000e+00\n",
       "11         1        Low_max -2.070556e-01   0.000000e+00\n",
       "12         1    Close_first -2.529838e-01   0.000000e+00\n",
       "13         1     Volume_max -1.857495e-10   2.327490e-05\n",
       "14         1    Volume_mean -3.174609e-07   0.000000e+00\n",
       "15         1      Close_min  2.432306e-01   0.000000e+00\n",
       "16         1     Low_median -1.758620e-02   9.201503e-79"
      ]
     },
     "execution_count": 191,
     "metadata": {},
     "output_type": "execute_result"
    }
   ],
   "source": [
    "VAR_relationship"
   ]
  },
  {
   "cell_type": "code",
   "execution_count": 148,
   "metadata": {},
   "outputs": [],
   "source": [
    "coef_df = results.params[target]\n",
    "pvalues_df = results.pvalues[target]\n",
    "\n",
    "# 合并系数和p值\n",
    "summary = pd.concat([coef_df, pvalues_df], axis=1)\n",
    "summary.columns = ['coef', 'pvalue']\n",
    "summary = summary.drop(index=\"const\").reset_index()"
   ]
  },
  {
   "cell_type": "code",
   "execution_count": 155,
   "metadata": {},
   "outputs": [
    {
     "data": {
      "text/plain": [
       "{'info': 'there is no results found from VAR'}"
      ]
     },
     "execution_count": 155,
     "metadata": {},
     "output_type": "execute_result"
    }
   ],
   "source": [
    "VAR_relationship"
   ]
  },
  {
   "cell_type": "code",
   "execution_count": 147,
   "metadata": {},
   "outputs": [
    {
     "data": {
      "text/plain": [
       "  Summary of Regression Results   \n",
       "==================================\n",
       "Model:                         VAR\n",
       "Method:                        OLS\n",
       "Date:           Fri, 26, Jul, 2024\n",
       "Time:                     16:48:27\n",
       "--------------------------------------------------------------------\n",
       "No. of Equations:         7.00000    BIC:                    39.6641\n",
       "Nobs:                     9.00000    HQIC:                   39.1796\n",
       "Log likelihood:          -260.191    FPE:                1.45234e+17\n",
       "AIC:                      39.5107    Det(Omega_mle):     6.94651e+16\n",
       "--------------------------------------------------------------------\n",
       "Results for equation Dividends\n",
       "========================================================================\n",
       "           coefficient       std. error           t-stat            prob\n",
       "------------------------------------------------------------------------\n",
       "const         0.177975         0.056955            3.125           0.002\n",
       "========================================================================\n",
       "\n",
       "Results for equation Open\n",
       "========================================================================\n",
       "           coefficient       std. error           t-stat            prob\n",
       "------------------------------------------------------------------------\n",
       "const        12.212156         1.834080            6.658           0.000\n",
       "========================================================================\n",
       "\n",
       "Results for equation Stock Splits\n",
       "========================================================================\n",
       "           coefficient       std. error           t-stat            prob\n",
       "------------------------------------------------------------------------\n",
       "const         0.462222         0.182747            2.529           0.011\n",
       "========================================================================\n",
       "\n",
       "Results for equation Close\n",
       "========================================================================\n",
       "           coefficient       std. error           t-stat            prob\n",
       "------------------------------------------------------------------------\n",
       "const        13.187264         1.636292            8.059           0.000\n",
       "========================================================================\n",
       "\n",
       "Results for equation Volume\n",
       "============================================================================\n",
       "             coefficient         std. error           t-stat            prob\n",
       "----------------------------------------------------------------------------\n",
       "const  1959941962.777778  1004395724.550282            1.951           0.051\n",
       "============================================================================\n",
       "\n",
       "Results for equation Low\n",
       "========================================================================\n",
       "           coefficient       std. error           t-stat            prob\n",
       "------------------------------------------------------------------------\n",
       "const         9.682385         1.125957            8.599           0.000\n",
       "========================================================================\n",
       "\n",
       "Results for equation High\n",
       "========================================================================\n",
       "           coefficient       std. error           t-stat            prob\n",
       "------------------------------------------------------------------------\n",
       "const        16.972411         3.030575            5.600           0.000\n",
       "========================================================================\n",
       "\n",
       "Correlation matrix of residuals\n",
       "                Dividends      Open  Stock Splits     Close    Volume       Low      High\n",
       "Dividends        1.000000  0.687047      0.549385  0.071988 -0.347326  0.593543  0.033612\n",
       "Open             0.687047  1.000000      0.065918  0.579632  0.010613  0.874416  0.537229\n",
       "Stock Splits     0.549385  0.065918      1.000000 -0.481718 -0.296649 -0.162985 -0.340658\n",
       "Close            0.071988  0.579632     -0.481718  1.000000  0.705547  0.640981  0.953595\n",
       "Volume          -0.347326  0.010613     -0.296649  0.705547  1.000000 -0.031067  0.833952\n",
       "Low              0.593543  0.874416     -0.162985  0.640981 -0.031067  1.000000  0.487871\n",
       "High             0.033612  0.537229     -0.340658  0.953595  0.833952  0.487871  1.000000\n",
       "\n"
      ]
     },
     "execution_count": 147,
     "metadata": {},
     "output_type": "execute_result"
    }
   ],
>>>>>>> b0c46cb850495780e86800cd97566bfd37d74a33
   "source": [
    "#data = pd.read_csv(dir+\"National Stock Exchange/tcs_stock.csv\").drop(columns=[\"Symbol\",\"Series\"])\n",
    "\n",
    "#data = time_series_impute_missing_value(data, 'interpolation', \"Volume\")"
   ]
  },
  {
   "cell_type": "code",
   "execution_count": 29,
   "metadata": {},
   "outputs": [],
   "source": [
    "data = pd.read_csv(\"C:/Users/foresight_User/Data/h2o_exog.csv\") #fecha Date\n",
    "data = time_series_format_preprocessing(data,\"fecha\")\n",
    "\n",
    "# data = pd.read_csv(\"C:/Users/foresight_User/Data/Chiller_CH14(01~24).csv\").drop(columns=[\"CONTEXTID\"]) #TIMETAG\n",
    "# data = time_series_format_preprocessing(data,\"TIMETAG\")"
   ]
  },
  {
   "cell_type": "code",
   "execution_count": 30,
   "metadata": {},
   "outputs": [],
   "source": [
    "# 檢查是否有負值並新增相應欄位，取絕對值\n",
    "for col in data.columns:\n",
    "    data[f\"{col}_isNegative\"] = (data[col] < 0).astype(int)\n",
    "    if sum(data[f\"{col}_isNegative\"]) ==0:\n",
    "        data = data.drop(columns=[f\"{col}_isNegative\"])\n",
    "    else:\n",
    "        data[col] = data[col].abs()"
   ]
  },
  {
   "cell_type": "code",
   "execution_count": 31,
   "metadata": {},
   "outputs": [
    {
     "data": {
      "text/html": [
       "<div>\n",
       "<style scoped>\n",
       "    .dataframe tbody tr th:only-of-type {\n",
       "        vertical-align: middle;\n",
       "    }\n",
       "\n",
       "    .dataframe tbody tr th {\n",
       "        vertical-align: top;\n",
       "    }\n",
       "\n",
       "    .dataframe thead th {\n",
       "        text-align: right;\n",
       "    }\n",
       "</style>\n",
       "<table border=\"1\" class=\"dataframe\">\n",
       "  <thead>\n",
       "    <tr style=\"text-align: right;\">\n",
       "      <th></th>\n",
       "      <th>y</th>\n",
       "      <th>exog_1</th>\n",
       "      <th>exog_2</th>\n",
       "    </tr>\n",
       "  </thead>\n",
       "  <tbody>\n",
       "    <tr>\n",
       "      <th>1992-04-01</th>\n",
       "      <td>0.379808</td>\n",
       "      <td>0.958792</td>\n",
       "      <td>1.166029</td>\n",
       "    </tr>\n",
       "    <tr>\n",
       "      <th>1992-05-01</th>\n",
       "      <td>0.361801</td>\n",
       "      <td>0.951993</td>\n",
       "      <td>1.117859</td>\n",
       "    </tr>\n",
       "    <tr>\n",
       "      <th>1992-06-01</th>\n",
       "      <td>0.410534</td>\n",
       "      <td>0.952955</td>\n",
       "      <td>1.067942</td>\n",
       "    </tr>\n",
       "    <tr>\n",
       "      <th>1992-07-01</th>\n",
       "      <td>0.483389</td>\n",
       "      <td>0.958078</td>\n",
       "      <td>1.097376</td>\n",
       "    </tr>\n",
       "    <tr>\n",
       "      <th>1992-08-01</th>\n",
       "      <td>0.475463</td>\n",
       "      <td>0.956370</td>\n",
       "      <td>1.122199</td>\n",
       "    </tr>\n",
       "    <tr>\n",
       "      <th>...</th>\n",
       "      <td>...</td>\n",
       "      <td>...</td>\n",
       "      <td>...</td>\n",
       "    </tr>\n",
       "    <tr>\n",
       "      <th>2008-02-01</th>\n",
       "      <td>0.761822</td>\n",
       "      <td>1.515840</td>\n",
       "      <td>1.786373</td>\n",
       "    </tr>\n",
       "    <tr>\n",
       "      <th>2008-03-01</th>\n",
       "      <td>0.649435</td>\n",
       "      <td>1.506258</td>\n",
       "      <td>1.694264</td>\n",
       "    </tr>\n",
       "    <tr>\n",
       "      <th>2008-04-01</th>\n",
       "      <td>0.827887</td>\n",
       "      <td>1.505253</td>\n",
       "      <td>1.627135</td>\n",
       "    </tr>\n",
       "    <tr>\n",
       "      <th>2008-05-01</th>\n",
       "      <td>0.816255</td>\n",
       "      <td>1.491464</td>\n",
       "      <td>1.555068</td>\n",
       "    </tr>\n",
       "    <tr>\n",
       "      <th>2008-06-01</th>\n",
       "      <td>0.762137</td>\n",
       "      <td>1.459856</td>\n",
       "      <td>1.463507</td>\n",
       "    </tr>\n",
       "  </tbody>\n",
       "</table>\n",
       "<p>195 rows × 3 columns</p>\n",
       "</div>"
      ],
      "text/plain": [
       "                   y    exog_1    exog_2\n",
       "1992-04-01  0.379808  0.958792  1.166029\n",
       "1992-05-01  0.361801  0.951993  1.117859\n",
       "1992-06-01  0.410534  0.952955  1.067942\n",
       "1992-07-01  0.483389  0.958078  1.097376\n",
       "1992-08-01  0.475463  0.956370  1.122199\n",
       "...              ...       ...       ...\n",
       "2008-02-01  0.761822  1.515840  1.786373\n",
       "2008-03-01  0.649435  1.506258  1.694264\n",
       "2008-04-01  0.827887  1.505253  1.627135\n",
       "2008-05-01  0.816255  1.491464  1.555068\n",
       "2008-06-01  0.762137  1.459856  1.463507\n",
       "\n",
       "[195 rows x 3 columns]"
      ]
     },
     "execution_count": 31,
     "metadata": {},
     "output_type": "execute_result"
    }
   ],
   "source": [
    "data"
   ]
  },
  {
   "cell_type": "code",
   "execution_count": 38,
   "metadata": {},
   "outputs": [
    {
     "name": "stdout",
     "output_type": "stream",
     "text": [
      " maxlags 要小於等於:  47\n",
      "在最大 lag 數目為 47 的情況下，VAR 找出的最佳 lag 為:  9\n"
     ]
    },
    {
     "name": "stderr",
     "output_type": "stream",
     "text": [
      "c:\\Users\\foresight_User\\anaconda3\\lib\\site-packages\\statsmodels\\tsa\\base\\tsa_model.py:473: ValueWarning: No frequency information was provided, so inferred frequency MS will be used.\n",
      "  self._init_dates(dates, freq)\n",
      "c:\\Users\\foresight_User\\anaconda3\\lib\\site-packages\\statsmodels\\tsa\\vector_ar\\var_model.py:1558: RuntimeWarning: invalid value encountered in sqrt\n",
      "  stderr = np.sqrt(np.diag(self.cov_params()))\n"
     ]
    }
   ],
   "source": [
    "\"\"\"\n",
    "讓使用者決定好奇的target是甚麼，套件會自動找出所有跟target相關的不同time lag的時間變相\n",
    "maxlags 會影響最終最佳推薦的結果，也得慎選，但設定上不可以超過 cal_maxLag 輸出的值\n",
    "\"\"\"\n",
    "\n",
    "#data = time_series_format_preprocessing(data,\"Date\")\n",
    "#data = time_series_impute_missing_value(data, 'interpolation', \"Volume\")\n",
    "maxlags = cal_maxLag(data) # USER 不能指定超過這個的LAG，LAG值也要大於0\n",
    "target = \"y\"\n",
    "results = vectorAutoregression(data,maxlags=9,ic=None) \n",
    "pvalue_threshold = 0.05\n",
    "VAR_relationship = vectorAutoregressionRelationship(results=results,target=target,pvalue_threshold=0.05)"
   ]
  },
  {
   "cell_type": "code",
   "execution_count": 39,
   "metadata": {},
   "outputs": [
    {
     "data": {
      "text/html": [
       "<div>\n",
       "<style scoped>\n",
       "    .dataframe tbody tr th:only-of-type {\n",
       "        vertical-align: middle;\n",
       "    }\n",
       "\n",
       "    .dataframe tbody tr th {\n",
       "        vertical-align: top;\n",
       "    }\n",
       "\n",
       "    .dataframe thead th {\n",
       "        text-align: right;\n",
       "    }\n",
       "</style>\n",
       "<table border=\"1\" class=\"dataframe\">\n",
       "  <thead>\n",
       "    <tr style=\"text-align: right;\">\n",
       "      <th></th>\n",
       "      <th>time_lag</th>\n",
       "      <th>feature</th>\n",
       "      <th>coef</th>\n",
       "      <th>pvalue</th>\n",
       "    </tr>\n",
       "  </thead>\n",
       "  <tbody>\n",
       "    <tr>\n",
       "      <th>0</th>\n",
       "      <td>6</td>\n",
       "      <td>exog_1</td>\n",
       "      <td>-3.708813</td>\n",
       "      <td>0.003547</td>\n",
       "    </tr>\n",
       "    <tr>\n",
       "      <th>1</th>\n",
       "      <td>7</td>\n",
       "      <td>exog_1</td>\n",
       "      <td>2.926414</td>\n",
       "      <td>0.026044</td>\n",
       "    </tr>\n",
       "  </tbody>\n",
       "</table>\n",
       "</div>"
      ],
      "text/plain": [
       "   time_lag feature      coef    pvalue\n",
       "0         6  exog_1 -3.708813  0.003547\n",
       "1         7  exog_1  2.926414  0.026044"
      ]
     },
     "execution_count": 39,
     "metadata": {},
     "output_type": "execute_result"
    }
   ],
   "source": [
    "VAR_relationship"
   ]
  },
  {
   "cell_type": "code",
   "execution_count": 30,
   "metadata": {},
   "outputs": [
    {
     "name": "stdout",
     "output_type": "stream",
     "text": [
      " maxlags 要小於等於:  443\n",
      "在最大 lag 數目為 443 的情況下，VAR 找出的最佳 lag 為:  3\n"
     ]
    },
    {
     "name": "stderr",
     "output_type": "stream",
     "text": [
      "c:\\Users\\foresight_User\\anaconda3\\lib\\site-packages\\statsmodels\\tsa\\base\\tsa_model.py:473: ValueWarning: A date index has been provided, but it has no associated frequency information and so will be ignored when e.g. forecasting.\n",
      "  self._init_dates(dates, freq)\n",
      "c:\\Users\\foresight_User\\anaconda3\\lib\\site-packages\\statsmodels\\tsa\\base\\tsa_model.py:473: ValueWarning: A date index has been provided, but it is not monotonic and so will be ignored when e.g. forecasting.\n",
      "  self._init_dates(dates, freq)\n"
     ]
    },
    {
     "data": {
      "text/plain": [
       "<statsmodels.tsa.vector_ar.var_model.VARResultsWrapper at 0x296e59d0610>"
      ]
     },
     "execution_count": 30,
     "metadata": {},
     "output_type": "execute_result"
    }
   ],
   "source": [
    "vectorAutoregression(data,maxlags=3,ic=None)# 'aic', 'fpe', 'hqic', 'bic', None"
   ]
  },
  {
   "cell_type": "code",
   "execution_count": null,
   "metadata": {},
   "outputs": [],
   "source": []
  },
  {
   "cell_type": "code",
   "execution_count": 49,
   "metadata": {},
   "outputs": [
    {
     "name": "stdout",
     "output_type": "stream",
     "text": [
      "Trades(t) = 0.553 * Trades(t-1)\n"
     ]
    }
   ],
   "source": [
    "\"\"\"\n",
    "生成VAR關係公式\n",
    "\"\"\"\n",
    "\"\"\"\n",
    "可有可無，看需求\n",
    "\"\"\"\n",
    "formula_parts = []\n",
    "for index, row in VAR_relationship.iterrows():\n",
    "    coef = row['coef']\n",
    "    if coef < 0:\n",
    "        term = f\"- {-coef:.3f} * {row['feature']}(t-{row['time_lag']})\"\n",
    "    else:\n",
    "        term = f\"{coef:.3f} * {row['feature']}(t-{row['time_lag']})\"\n",
    "    formula_parts.append(term)\n",
    "\n",
    "formula = \" + \".join(formula_parts).replace(\"+ -\", \"- \")\n",
    "target_formula = f\"{target}(t) = {formula}\"\n",
    "\n",
    "# 打印公式\n",
    "print(target_formula)"
   ]
  },
  {
   "cell_type": "code",
   "execution_count": null,
   "metadata": {},
   "outputs": [],
   "source": []
  }
 ],
 "metadata": {
  "kernelspec": {
   "display_name": "base",
   "language": "python",
   "name": "python3"
  },
  "language_info": {
   "codemirror_mode": {
    "name": "ipython",
    "version": 3
   },
   "file_extension": ".py",
   "mimetype": "text/x-python",
   "name": "python",
   "nbconvert_exporter": "python",
   "pygments_lexer": "ipython3",
   "version": "3.9.19"
  }
 },
 "nbformat": 4,
 "nbformat_minor": 2
}
