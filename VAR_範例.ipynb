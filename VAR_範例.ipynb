{
 "cells": [
  {
   "cell_type": "code",
   "execution_count": 56,
   "metadata": {},
   "outputs": [],
   "source": [
    "# some example data\n",
    "import pandas as pd\n",
    "from typing import Union\n",
    "from statsmodels.tsa.vector_ar.var_model import VARResultsWrapper\n",
    "from statsmodels.tsa.api import VAR\n",
    "\n",
    "from statsmodels.tsa.base.datetools import dates_from_str\n",
    "import numpy as np"
   ]
  },
  {
   "cell_type": "code",
   "execution_count": 157,
   "metadata": {},
   "outputs": [
    {
     "data": {
      "text/html": [
       "<div>\n",
       "<style scoped>\n",
       "    .dataframe tbody tr th:only-of-type {\n",
       "        vertical-align: middle;\n",
       "    }\n",
       "\n",
       "    .dataframe tbody tr th {\n",
       "        vertical-align: top;\n",
       "    }\n",
       "\n",
       "    .dataframe thead th {\n",
       "        text-align: right;\n",
       "    }\n",
       "</style>\n",
       "<table border=\"1\" class=\"dataframe\">\n",
       "  <thead>\n",
       "    <tr style=\"text-align: right;\">\n",
       "      <th></th>\n",
       "      <th>Open</th>\n",
       "      <th>High</th>\n",
       "      <th>Low</th>\n",
       "      <th>Close</th>\n",
       "      <th>Volume</th>\n",
       "      <th>Dividends</th>\n",
       "      <th>Stock Splits</th>\n",
       "    </tr>\n",
       "    <tr>\n",
       "      <th>Date</th>\n",
       "      <th></th>\n",
       "      <th></th>\n",
       "      <th></th>\n",
       "      <th></th>\n",
       "      <th></th>\n",
       "      <th></th>\n",
       "      <th></th>\n",
       "    </tr>\n",
       "  </thead>\n",
       "  <tbody>\n",
       "    <tr>\n",
       "      <th>2016-01-04 00:00:00+08:00</th>\n",
       "      <td>13.072967</td>\n",
       "      <td>13.072967</td>\n",
       "      <td>12.709829</td>\n",
       "      <td>12.709829</td>\n",
       "      <td>24549000</td>\n",
       "      <td>0.00</td>\n",
       "      <td>0.0</td>\n",
       "    </tr>\n",
       "    <tr>\n",
       "      <th>2016-01-05 00:00:00+08:00</th>\n",
       "      <td>12.709828</td>\n",
       "      <td>12.964025</td>\n",
       "      <td>12.564573</td>\n",
       "      <td>12.600887</td>\n",
       "      <td>27544000</td>\n",
       "      <td>0.00</td>\n",
       "      <td>0.0</td>\n",
       "    </tr>\n",
       "    <tr>\n",
       "      <th>2016-01-06 00:00:00+08:00</th>\n",
       "      <td>12.637202</td>\n",
       "      <td>12.709830</td>\n",
       "      <td>12.564574</td>\n",
       "      <td>12.564574</td>\n",
       "      <td>18716000</td>\n",
       "      <td>0.00</td>\n",
       "      <td>0.0</td>\n",
       "    </tr>\n",
       "    <tr>\n",
       "      <th>2016-01-07 00:00:00+08:00</th>\n",
       "      <td>12.564574</td>\n",
       "      <td>12.709830</td>\n",
       "      <td>12.383005</td>\n",
       "      <td>12.673516</td>\n",
       "      <td>24452000</td>\n",
       "      <td>0.00</td>\n",
       "      <td>0.0</td>\n",
       "    </tr>\n",
       "    <tr>\n",
       "      <th>2016-01-08 00:00:00+08:00</th>\n",
       "      <td>12.564573</td>\n",
       "      <td>12.746142</td>\n",
       "      <td>12.455632</td>\n",
       "      <td>12.637201</td>\n",
       "      <td>20183000</td>\n",
       "      <td>0.00</td>\n",
       "      <td>0.0</td>\n",
       "    </tr>\n",
       "    <tr>\n",
       "      <th>...</th>\n",
       "      <td>...</td>\n",
       "      <td>...</td>\n",
       "      <td>...</td>\n",
       "      <td>...</td>\n",
       "      <td>...</td>\n",
       "      <td>...</td>\n",
       "      <td>...</td>\n",
       "    </tr>\n",
       "    <tr>\n",
       "      <th>2024-07-18 00:00:00+08:00</th>\n",
       "      <td>23.094698</td>\n",
       "      <td>23.242425</td>\n",
       "      <td>22.946970</td>\n",
       "      <td>23.143940</td>\n",
       "      <td>28548483</td>\n",
       "      <td>0.00</td>\n",
       "      <td>0.0</td>\n",
       "    </tr>\n",
       "    <tr>\n",
       "      <th>2024-07-19 00:00:00+08:00</th>\n",
       "      <td>23.094697</td>\n",
       "      <td>23.143939</td>\n",
       "      <td>22.750000</td>\n",
       "      <td>22.996212</td>\n",
       "      <td>22809555</td>\n",
       "      <td>0.00</td>\n",
       "      <td>0.0</td>\n",
       "    </tr>\n",
       "    <tr>\n",
       "      <th>2024-07-22 00:00:00+08:00</th>\n",
       "      <td>22.897727</td>\n",
       "      <td>22.946969</td>\n",
       "      <td>22.651515</td>\n",
       "      <td>22.750000</td>\n",
       "      <td>26506583</td>\n",
       "      <td>0.00</td>\n",
       "      <td>0.0</td>\n",
       "    </tr>\n",
       "    <tr>\n",
       "      <th>2024-07-23 00:00:00+08:00</th>\n",
       "      <td>23.100000</td>\n",
       "      <td>23.250000</td>\n",
       "      <td>23.100000</td>\n",
       "      <td>23.150000</td>\n",
       "      <td>15851825</td>\n",
       "      <td>0.35</td>\n",
       "      <td>0.0</td>\n",
       "    </tr>\n",
       "    <tr>\n",
       "      <th>2024-07-26 00:00:00+08:00</th>\n",
       "      <td>23.049999</td>\n",
       "      <td>23.049999</td>\n",
       "      <td>22.799999</td>\n",
       "      <td>22.900000</td>\n",
       "      <td>36155689</td>\n",
       "      <td>0.00</td>\n",
       "      <td>0.0</td>\n",
       "    </tr>\n",
       "  </tbody>\n",
       "</table>\n",
       "<p>2081 rows × 7 columns</p>\n",
       "</div>"
      ],
      "text/plain": [
       "                                Open       High        Low      Close  \\\n",
       "Date                                                                    \n",
       "2016-01-04 00:00:00+08:00  13.072967  13.072967  12.709829  12.709829   \n",
       "2016-01-05 00:00:00+08:00  12.709828  12.964025  12.564573  12.600887   \n",
       "2016-01-06 00:00:00+08:00  12.637202  12.709830  12.564574  12.564574   \n",
       "2016-01-07 00:00:00+08:00  12.564574  12.709830  12.383005  12.673516   \n",
       "2016-01-08 00:00:00+08:00  12.564573  12.746142  12.455632  12.637201   \n",
       "...                              ...        ...        ...        ...   \n",
       "2024-07-18 00:00:00+08:00  23.094698  23.242425  22.946970  23.143940   \n",
       "2024-07-19 00:00:00+08:00  23.094697  23.143939  22.750000  22.996212   \n",
       "2024-07-22 00:00:00+08:00  22.897727  22.946969  22.651515  22.750000   \n",
       "2024-07-23 00:00:00+08:00  23.100000  23.250000  23.100000  23.150000   \n",
       "2024-07-26 00:00:00+08:00  23.049999  23.049999  22.799999  22.900000   \n",
       "\n",
       "                             Volume  Dividends  Stock Splits  \n",
       "Date                                                          \n",
       "2016-01-04 00:00:00+08:00  24549000       0.00           0.0  \n",
       "2016-01-05 00:00:00+08:00  27544000       0.00           0.0  \n",
       "2016-01-06 00:00:00+08:00  18716000       0.00           0.0  \n",
       "2016-01-07 00:00:00+08:00  24452000       0.00           0.0  \n",
       "2016-01-08 00:00:00+08:00  20183000       0.00           0.0  \n",
       "...                             ...        ...           ...  \n",
       "2024-07-18 00:00:00+08:00  28548483       0.00           0.0  \n",
       "2024-07-19 00:00:00+08:00  22809555       0.00           0.0  \n",
       "2024-07-22 00:00:00+08:00  26506583       0.00           0.0  \n",
       "2024-07-23 00:00:00+08:00  15851825       0.35           0.0  \n",
       "2024-07-26 00:00:00+08:00  36155689       0.00           0.0  \n",
       "\n",
       "[2081 rows x 7 columns]"
      ]
     },
     "execution_count": 157,
     "metadata": {},
     "output_type": "execute_result"
    }
   ],
   "source": [
    "import yfinance as yf\n",
    "\n",
    "# 2023.TW 燁輝\n",
    "# 2002.TW 中鋼\n",
    "# 2006.TW 中和鋼鐵\n",
    "# 2007.TW 燁興\n",
    "date = '2016-01-01'\n",
    "stock_no = '2002.TW'\n",
    "\n",
    "stock = yf.Ticker(stock_no)\n",
    "data = stock.history(start=date)\n",
    "\n",
    "data#.head()"
   ]
  },
  {
   "cell_type": "code",
   "execution_count": 7,
   "metadata": {},
   "outputs": [],
   "source": [
    "#data = pd.read_csv(dir+\"National Stock Exchange/infy_stock.csv\")"
   ]
  },
  {
   "cell_type": "code",
   "execution_count": 58,
   "metadata": {},
   "outputs": [],
   "source": [
    "# \"\"\"\n",
    "# 要把 dataframe 的格式清理成以下格式\n",
    "# dates_from_str 要放入 index\n",
    "# 剩下的資料只能保留 feature\n",
    "# \"\"\"\n",
    "# # statsmodels的範例資料\n",
    "# import statsmodels.api as sm\n",
    "# mdata = sm.datasets.macrodata.load_pandas().data\n",
    "# mdata\n",
    "# dates = mdata[['year', 'quarter']].astype(int).astype(str)\n",
    "# quarterly = dates[\"year\"] + \"Q\" + dates[\"quarter\"]\n",
    "# quarterly = dates_from_str(quarterly)\n",
    "# mdata.index = pd.DatetimeIndex(quarterly)\n",
    "# data = mdata.drop(columns=[\"year\",\"quarter\"])\n",
    "# data\n",
    "\n",
    "# # KAGGLE 範例資料 1 \n",
    "# dir = \"C:/Users/foresight_User/Desktop/公司文件/9.產品/AIUPS/\"\n",
    "# data = pd.read_csv(dir+\"National Stock Exchange/infy_stock.csv\")\n",
    "# data.index =pd.DatetimeIndex(dates_from_str(data[\"Date\"]))\n",
    "# data = data.drop(columns=[\"Date\",\"Symbol\",\"Series\"])\n",
    "# data\n",
    "\n",
    "# # KAGGLE 範例資料 2\n",
    "# data = pd.read_csv(dir+\"National Stock Exchange/nifty_it_index.csv\")\n",
    "# data.index =pd.DatetimeIndex(dates_from_str(data[\"Date\"]))\n",
    "# data = data.drop(columns=[\"Date\"])\n",
    "# data\n",
    "\n",
    "# # KAGGLE 範例資料 3\n",
    "# data = pd.read_csv(dir+\"National Stock Exchange/tcs_stock.csv\")\n",
    "# data.index =pd.DatetimeIndex(dates_from_str(data[\"Date\"]))\n",
    "# data = data.drop(columns=[\"Date\",\"Symbol\",\"Series\"])\n",
    "# data"
   ]
  },
  {
   "cell_type": "code",
   "execution_count": null,
   "metadata": {},
   "outputs": [],
   "source": [
    "\n"
   ]
  },
  {
   "cell_type": "code",
   "execution_count": 59,
   "metadata": {},
   "outputs": [],
   "source": [
    "def time_series_format_preprocessing(df:pd.DataFrame, datetime_col:str):\n",
    "    #\n",
    "    # YS(年初), MS(月初), W(周), D(日), H(小時), T(分鐘), S(秒),\n",
    "    #\n",
    "    # df = df.copy()\n",
    "    # df[datetime_col] = pd.to_datetime(df[datetime_col], format='%Y-%m-%d %H:%M:%S')\n",
    "    # df = df.set_index(datetime_col)\n",
    "    # df = df.asfreq(interval)\n",
    "    # return df if set_index_flag else df.reset_index(drop=False)\n",
    "    df.index =pd.DatetimeIndex(dates_from_str(data[datetime_col]))\n",
    "    df = df.drop(columns=[datetime_col])\n",
    "    \"\"\"\n",
    "    Imputes missing values in a time series DataFrame using the specified function.\n",
    "\n",
    "    Args:\n",
    "        df (pd.DataFrame): The input DataFrame containing the time series data.\n",
    "        func (str): The imputation function to be applied. Supported options are:\n",
    "                    - 'forward_fill': Forward fill missing values.\n",
    "                    - 'backward_fill': Backward fill missing values.\n",
    "                    - 'moving_average': Impute missing values using moving average.\n",
    "                    - 'interpolation': Perform linear interpolation to fill missing values.\n",
    "        col_name (str): The name of the column to impute missing values.\n",
    "\n",
    "    Returns:\n",
    "        pd.DataFrame: The DataFrame with missing values imputed based on the specified function.\n",
    "    \"\"\"\n",
    "    return df\n",
    "\n",
    "\n",
    "def time_series_impute_missing_value(df, func, col_name):\n",
    "    \"\"\"\n",
    "    Imputes missing values in a time series DataFrame using the specified function.\n",
    "\n",
    "    Args:\n",
    "        df (pd.DataFrame): The input DataFrame containing the time series data.\n",
    "        func (str): The imputation function to be applied. Supported options are:\n",
    "                    - 'forward_fill': Forward fill missing values.\n",
    "                    - 'backward_fill': Backward fill missing values.\n",
    "                    - 'moving_average': Impute missing values using moving average.\n",
    "                    - 'interpolation': Perform linear interpolation to fill missing values.\n",
    "        col_name (str): The name of the column to impute missing values.\n",
    "\n",
    "    Returns:\n",
    "        pd.DataFrame: The DataFrame with missing values imputed based on the specified function.\n",
    "    \"\"\"\n",
    "    df = df.copy()\n",
    "    if func == 'forward_fill':\n",
    "        df[col_name].ffill(inplace=True)\n",
    "    elif func == 'backward_fill':\n",
    "        df[col_name].bfill(inplace=True)\n",
    "    elif func == 'moving_average':\n",
    "        df[col_name].fillna(df[col_name].rolling(window=3, min_periods=1).mean(), inplace=True)\n",
    "    elif func == 'interpolation':\n",
    "        df[col_name].interpolate(inplace=True)\n",
    "    else:\n",
    "        raise ValueError(f\"Unsupported imputation function: {func}\")\n",
    "\n",
    "    return df"
   ]
  },
  {
   "cell_type": "code",
   "execution_count": null,
   "metadata": {},
   "outputs": [],
   "source": []
  },
  {
   "cell_type": "code",
   "execution_count": null,
   "metadata": {},
   "outputs": [],
   "source": []
  },
  {
   "cell_type": "code",
   "execution_count": 188,
   "metadata": {},
   "outputs": [],
   "source": [
    "def cal_maxLag(data:pd.DataFrame):\n",
    "    n_totobs = len(data)\n",
    "    ntrend = 1 #len(trend) if trend.startswith(\"c\") else 0\n",
    "    neqs = data.shape[1]\n",
    "    max_estimable = (n_totobs - neqs - ntrend) // (1 + neqs)\n",
    "    if max_estimable > 1:\n",
    "        return max_estimable\n",
    "    else:\n",
    "        return 1"
   ]
  },
  {
   "cell_type": "code",
   "execution_count": 61,
   "metadata": {},
   "outputs": [],
   "source": [
    "\n",
    "def vectorAutoregression(data:pd.DataFrame,maxlags:Union[int,str]=\"auto\",ic:str=None):\n",
    "    model = VAR(data)\n",
    "    # ==== 這邊不要動 =====\n",
    "\n",
    "    \"\"\" \n",
    "    這是套件設定的\n",
    "    trend : str {\"n\", \"c\", \"ct\", \"ctt\"}\n",
    "        * \"n\" - no deterministic terms\n",
    "        * \"c\" - constant term\n",
    "        * \"ct\" - constant and linear term\n",
    "        * \"ctt\" - constant, linear, and quadratic term\n",
    "\n",
    "    maxlags 不可以超過 max_estimable 的值\n",
    "    maxlags 為模型擬合最大數值\n",
    "    statemodel有設定條件，已經寫在下述的程式\n",
    "    使用者要調整低於 maxlags\n",
    "    \"\"\"\n",
    "    max_estimable = cal_maxLag(data)\n",
    "    # ==== 這邊不要動 =====\n",
    "\n",
    "    print(\" maxlags 要小於等於: \", max_estimable)\n",
    "\n",
    "    if maxlags == \"auto\":\n",
    "        maxlags = max_estimable\n",
    "    if maxlags > max_estimable:\n",
    "        raise Exception(\" maxlags 要小於等於: \", max_estimable)\n",
    "\n",
    "\n",
    "    \"\"\"\n",
    "    ic 為評估模型的好壞\n",
    "    ic = {'aic', 'fpe', 'hqic', 'bic', None}\n",
    "    Information criterion to use for VAR order selection.\n",
    "    aic : Akaike\n",
    "    fpe : Final prediction error\n",
    "    hqic : Hannan-Quinn\n",
    "    bic : Bayesian a.k.a. Schwarz\n",
    "    \"\"\"\n",
    "\n",
    "    results = model.fit(maxlags=maxlags, ic=ic)\n",
    "    print(f\"在最大 lag 數目為 {max_estimable} 的情況下，VAR 找出的最佳 lag 為: \",results.k_ar)\n",
    "    return results"
   ]
  },
  {
   "cell_type": "code",
   "execution_count": 152,
   "metadata": {},
   "outputs": [],
   "source": [
    "def vectorAutoregressionRelationship(results:VARResultsWrapper,target:str,pvalue_threshold:float=0.05):\n",
    "    # target  客人關心的 Y 是甚麼，Y 會包含在 results 中\n",
    "\n",
    "    coef_df = results.params[target]\n",
    "    pvalues_df = results.pvalues[target]\n",
    "\n",
    "    # 合并系数和p值\n",
    "    summary = pd.concat([coef_df, pvalues_df], axis=1)\n",
    "    summary.columns = ['coef', 'pvalue']\n",
    "    summary = summary.drop(index=\"const\").reset_index()\n",
    "    summary_index = summary[\"index\"].str.split(\".\", expand=True).rename(columns={0:\"time_lag\",1:\"feature\"})\n",
    "    if summary.empty:\n",
    "        return {\"info\":\"there is no results found from VAR\"}\n",
    "    else:\n",
    "        summary_index[\"time_lag\"] = summary_index[\"time_lag\"].str.replace(\"L\",\"\").astype(int)\n",
    "        summary = pd.concat([summary_index,summary],axis=1).drop(columns=\"index\")\n",
    "        summary = summary[summary[\"pvalue\"]<pvalue_threshold].reset_index(drop=True)\n",
    "        return summary"
   ]
  },
  {
   "cell_type": "code",
   "execution_count": 178,
   "metadata": {},
   "outputs": [],
   "source": [
    "\n",
    "\n",
    "\n",
    "# 定義聚合函數和相應的列名\n",
    "operator_list = ['first', 'last', 'mean','prod','median','max','min']#'std','max','count','sum',\"min\",\"prod\",\"median\",\"var\",\"sem\",\"skew\",\"cumsum\",\"cumprod\"]\n",
    "\n",
    "\n",
    "aggregation_functions = {}\n",
    "for i in data.columns:\n",
    "    aggregation_functions[i]=operator_list\n",
    "\n",
    "# 按週重採樣並應用聚合\n",
    "weekly_data = data.resample('W').agg(aggregation_functions)\n",
    "\n",
    "# 自定義列名\n",
    "\n",
    "monthly_data = data.resample('M').agg(aggregation_functions)\n",
    "yearly_data = data.resample('Y').agg(aggregation_functions)\n",
    "\n",
    "weekly_data.columns = ['_'.join(col).strip() for col in weekly_data.columns.values]\n",
    "monthly_data.columns = ['_'.join(col).strip() for col in monthly_data.columns.values]\n",
    "yearly_data.columns = ['_'.join(col).strip() for col in yearly_data.columns.values]\n"
   ]
  },
  {
   "cell_type": "code",
   "execution_count": 183,
   "metadata": {},
   "outputs": [],
   "source": [
    "\n",
    "def remove_collinearity(data): #condition\n",
    "    from statsmodels.stats.outliers_influence import variance_inflation_factor\n",
    "    #data = data.fillna(method='ffill').fillna(method='bfill')\n",
    "    data = data.replace([np.inf, -np.inf], np.nan)\n",
    "    data = data.ffill().bfill() \n",
    "    vif_data = pd.DataFrame()\n",
    "    vif_data[\"feature\"] = data.columns\n",
    "    vif_data[\"VIF\"] = [variance_inflation_factor(data.values, i) for i in range(len(data.columns))]\n",
    "\n",
    "\n",
    "    # 去除VIF為NAN或INF\n",
    "    vif_data = vif_data.replace([np.inf, -np.inf], np.nan).dropna(axis=0)\n",
    "    data = data[vif_data[\"feature\"].to_list()]\n",
    "\n",
    "    # 移除高相關的 feature \n",
    "    # 保留低相關的 feature\n",
    "    coefficient_threshold = 0.3\n",
    "    correlation_matrix = data.corr()\n",
    "    low_corr_vars = np.where(np.abs(correlation_matrix) < coefficient_threshold)\n",
    "    #print(correlation_matrix)\n",
    "    low_corr_vars = [(correlation_matrix.index[x], correlation_matrix.columns[y]) for x, y in zip(*low_corr_vars) if x != y and x > y]\n",
    "\n",
    "    # Remove one of each highly correlated pair\n",
    "    # if condition == \"intersection\":\n",
    "    #     sets =  [set(pair) for pair in low_corr_vars]\n",
    "    #     intersection = set.intersection(*sets)\n",
    "    #     remaining_list = list(intersection)\n",
    "    # if condition == \"union\":\n",
    "    unique_elements = set(element for pair in low_corr_vars for element in pair)\n",
    "    remaining_list = list(unique_elements)\n",
    "    \n",
    "    data = data[remaining_list]\n",
    "    \n",
    "    # impute nan\n",
    "    #data = data.fillna(method='ffill').fillna(method='bfill')\n",
    "    return data"
   ]
  },
  {
   "cell_type": "code",
   "execution_count": 190,
   "metadata": {},
   "outputs": [
    {
     "name": "stderr",
     "output_type": "stream",
     "text": [
      "c:\\Users\\User\\.conda\\envs\\Python3.9.13\\lib\\site-packages\\statsmodels\\regression\\linear_model.py:1785: RuntimeWarning: invalid value encountered in double_scalars\n",
      "  return 1 - self.ssr/self.uncentered_tss\n",
      "c:\\Users\\User\\.conda\\envs\\Python3.9.13\\lib\\site-packages\\statsmodels\\tsa\\base\\tsa_model.py:473: ValueWarning: A date index has been provided, but it has no associated frequency information and so will be ignored when e.g. forecasting.\n",
      "  self._init_dates(dates, freq)\n"
     ]
    },
    {
     "name": "stdout",
     "output_type": "stream",
     "text": [
      "296\n",
      "Dividends\n",
      " maxlags 要小於等於:  296\n",
      "在最大 lag 數目為 296 的情況下，VAR 找出的最佳 lag 為:  296\n",
      "Open\n",
      " maxlags 要小於等於:  296\n"
     ]
    },
    {
     "name": "stderr",
     "output_type": "stream",
     "text": [
      "c:\\Users\\User\\.conda\\envs\\Python3.9.13\\lib\\site-packages\\statsmodels\\tsa\\base\\tsa_model.py:473: ValueWarning: A date index has been provided, but it has no associated frequency information and so will be ignored when e.g. forecasting.\n",
      "  self._init_dates(dates, freq)\n"
     ]
    },
    {
     "name": "stdout",
     "output_type": "stream",
     "text": [
      "在最大 lag 數目為 296 的情況下，VAR 找出的最佳 lag 為:  296\n",
      "Close\n",
      " maxlags 要小於等於:  296\n"
     ]
    },
    {
     "name": "stderr",
     "output_type": "stream",
     "text": [
      "c:\\Users\\User\\.conda\\envs\\Python3.9.13\\lib\\site-packages\\statsmodels\\tsa\\base\\tsa_model.py:473: ValueWarning: A date index has been provided, but it has no associated frequency information and so will be ignored when e.g. forecasting.\n",
      "  self._init_dates(dates, freq)\n"
     ]
    },
    {
     "name": "stdout",
     "output_type": "stream",
     "text": [
      "在最大 lag 數目為 296 的情況下，VAR 找出的最佳 lag 為:  296\n",
      "Volume\n",
      " maxlags 要小於等於:  296\n"
     ]
    },
    {
     "name": "stderr",
     "output_type": "stream",
     "text": [
      "c:\\Users\\User\\.conda\\envs\\Python3.9.13\\lib\\site-packages\\statsmodels\\tsa\\base\\tsa_model.py:473: ValueWarning: A date index has been provided, but it has no associated frequency information and so will be ignored when e.g. forecasting.\n",
      "  self._init_dates(dates, freq)\n"
     ]
    },
    {
     "name": "stdout",
     "output_type": "stream",
     "text": [
      "在最大 lag 數目為 296 的情況下，VAR 找出的最佳 lag 為:  296\n",
      "Low\n",
      " maxlags 要小於等於:  296\n"
     ]
    },
    {
     "name": "stderr",
     "output_type": "stream",
     "text": [
      "c:\\Users\\User\\.conda\\envs\\Python3.9.13\\lib\\site-packages\\statsmodels\\tsa\\base\\tsa_model.py:473: ValueWarning: A date index has been provided, but it has no associated frequency information and so will be ignored when e.g. forecasting.\n",
      "  self._init_dates(dates, freq)\n"
     ]
    },
    {
     "name": "stdout",
     "output_type": "stream",
     "text": [
      "在最大 lag 數目為 296 的情況下，VAR 找出的最佳 lag 為:  296\n",
      "High\n",
      " maxlags 要小於等於:  296\n"
     ]
    },
    {
     "name": "stderr",
     "output_type": "stream",
     "text": [
      "c:\\Users\\User\\.conda\\envs\\Python3.9.13\\lib\\site-packages\\statsmodels\\tsa\\base\\tsa_model.py:473: ValueWarning: A date index has been provided, but it has no associated frequency information and so will be ignored when e.g. forecasting.\n",
      "  self._init_dates(dates, freq)\n"
     ]
    },
    {
     "name": "stdout",
     "output_type": "stream",
     "text": [
      "在最大 lag 數目為 296 的情況下，VAR 找出的最佳 lag 為:  296\n"
     ]
    },
    {
     "name": "stderr",
     "output_type": "stream",
     "text": [
      "c:\\Users\\User\\.conda\\envs\\Python3.9.13\\lib\\site-packages\\statsmodels\\regression\\linear_model.py:1783: RuntimeWarning: invalid value encountered in double_scalars\n",
      "  return 1 - self.ssr/self.centered_tss\n"
     ]
    },
    {
     "name": "stdout",
     "output_type": "stream",
     "text": [
      "9\n",
      "Volume_prod\n",
      " maxlags 要小於等於:  9\n",
      "在最大 lag 數目為 9 的情況下，VAR 找出的最佳 lag 為:  9\n"
     ]
    },
    {
     "name": "stderr",
     "output_type": "stream",
     "text": [
      "c:\\Users\\User\\.conda\\envs\\Python3.9.13\\lib\\site-packages\\statsmodels\\tsa\\vector_ar\\var_model.py:1558: RuntimeWarning: invalid value encountered in sqrt\n",
      "  stderr = np.sqrt(np.diag(self.cov_params()))\n"
     ]
    },
    {
     "name": "stdout",
     "output_type": "stream",
     "text": [
      "High_first\n",
      " maxlags 要小於等於:  9\n",
      "在最大 lag 數目為 9 的情況下，VAR 找出的最佳 lag 為:  9\n"
     ]
    },
    {
     "name": "stderr",
     "output_type": "stream",
     "text": [
      "c:\\Users\\User\\.conda\\envs\\Python3.9.13\\lib\\site-packages\\statsmodels\\tsa\\vector_ar\\var_model.py:1558: RuntimeWarning: invalid value encountered in sqrt\n",
      "  stderr = np.sqrt(np.diag(self.cov_params()))\n"
     ]
    },
    {
     "name": "stdout",
     "output_type": "stream",
     "text": [
      "Low_min\n",
      " maxlags 要小於等於:  9\n",
      "在最大 lag 數目為 9 的情況下，VAR 找出的最佳 lag 為:  9\n"
     ]
    },
    {
     "name": "stderr",
     "output_type": "stream",
     "text": [
      "c:\\Users\\User\\.conda\\envs\\Python3.9.13\\lib\\site-packages\\statsmodels\\tsa\\vector_ar\\var_model.py:1558: RuntimeWarning: invalid value encountered in sqrt\n",
      "  stderr = np.sqrt(np.diag(self.cov_params()))\n"
     ]
    },
    {
     "name": "stdout",
     "output_type": "stream",
     "text": [
      "Open_last\n",
      " maxlags 要小於等於:  9\n",
      "在最大 lag 數目為 9 的情況下，VAR 找出的最佳 lag 為:  9\n"
     ]
    },
    {
     "name": "stderr",
     "output_type": "stream",
     "text": [
      "c:\\Users\\User\\.conda\\envs\\Python3.9.13\\lib\\site-packages\\statsmodels\\tsa\\vector_ar\\var_model.py:1558: RuntimeWarning: invalid value encountered in sqrt\n",
      "  stderr = np.sqrt(np.diag(self.cov_params()))\n"
     ]
    },
    {
     "name": "stdout",
     "output_type": "stream",
     "text": [
      "Open_first\n",
      " maxlags 要小於等於:  9\n",
      "在最大 lag 數目為 9 的情況下，VAR 找出的最佳 lag 為:  9\n"
     ]
    },
    {
     "name": "stderr",
     "output_type": "stream",
     "text": [
      "c:\\Users\\User\\.conda\\envs\\Python3.9.13\\lib\\site-packages\\statsmodels\\tsa\\vector_ar\\var_model.py:1558: RuntimeWarning: invalid value encountered in sqrt\n",
      "  stderr = np.sqrt(np.diag(self.cov_params()))\n"
     ]
    },
    {
     "name": "stdout",
     "output_type": "stream",
     "text": [
      "Open_max\n",
      " maxlags 要小於等於:  9\n",
      "在最大 lag 數目為 9 的情況下，VAR 找出的最佳 lag 為:  9\n"
     ]
    },
    {
     "name": "stderr",
     "output_type": "stream",
     "text": [
      "c:\\Users\\User\\.conda\\envs\\Python3.9.13\\lib\\site-packages\\statsmodels\\tsa\\vector_ar\\var_model.py:1558: RuntimeWarning: invalid value encountered in sqrt\n",
      "  stderr = np.sqrt(np.diag(self.cov_params()))\n"
     ]
    },
    {
     "name": "stdout",
     "output_type": "stream",
     "text": [
      "Close_median\n",
      " maxlags 要小於等於:  9\n",
      "在最大 lag 數目為 9 的情況下，VAR 找出的最佳 lag 為:  9\n"
     ]
    },
    {
     "name": "stderr",
     "output_type": "stream",
     "text": [
      "c:\\Users\\User\\.conda\\envs\\Python3.9.13\\lib\\site-packages\\statsmodels\\tsa\\vector_ar\\var_model.py:1558: RuntimeWarning: invalid value encountered in sqrt\n",
      "  stderr = np.sqrt(np.diag(self.cov_params()))\n"
     ]
    },
    {
     "name": "stdout",
     "output_type": "stream",
     "text": [
      "Volume_min\n",
      " maxlags 要小於等於:  9\n",
      "在最大 lag 數目為 9 的情況下，VAR 找出的最佳 lag 為:  9\n"
     ]
    },
    {
     "name": "stderr",
     "output_type": "stream",
     "text": [
      "c:\\Users\\User\\.conda\\envs\\Python3.9.13\\lib\\site-packages\\statsmodels\\tsa\\vector_ar\\var_model.py:1558: RuntimeWarning: invalid value encountered in sqrt\n",
      "  stderr = np.sqrt(np.diag(self.cov_params()))\n"
     ]
    },
    {
     "name": "stdout",
     "output_type": "stream",
     "text": [
      "Dividends_prod\n",
      " maxlags 要小於等於:  9\n",
      "在最大 lag 數目為 9 的情況下，VAR 找出的最佳 lag 為:  9\n"
     ]
    },
    {
     "name": "stderr",
     "output_type": "stream",
     "text": [
      "c:\\Users\\User\\.conda\\envs\\Python3.9.13\\lib\\site-packages\\statsmodels\\tsa\\vector_ar\\var_model.py:1558: RuntimeWarning: invalid value encountered in sqrt\n",
      "  stderr = np.sqrt(np.diag(self.cov_params()))\n"
     ]
    },
    {
     "name": "stdout",
     "output_type": "stream",
     "text": [
      "Dividends_max\n",
      " maxlags 要小於等於:  9\n",
      "在最大 lag 數目為 9 的情況下，VAR 找出的最佳 lag 為:  9\n"
     ]
    },
    {
     "name": "stderr",
     "output_type": "stream",
     "text": [
      "c:\\Users\\User\\.conda\\envs\\Python3.9.13\\lib\\site-packages\\statsmodels\\tsa\\vector_ar\\var_model.py:1558: RuntimeWarning: invalid value encountered in sqrt\n",
      "  stderr = np.sqrt(np.diag(self.cov_params()))\n"
     ]
    },
    {
     "name": "stdout",
     "output_type": "stream",
     "text": [
      "Open_prod\n",
      " maxlags 要小於等於:  9\n",
      "在最大 lag 數目為 9 的情況下，VAR 找出的最佳 lag 為:  9\n"
     ]
    },
    {
     "name": "stderr",
     "output_type": "stream",
     "text": [
      "c:\\Users\\User\\.conda\\envs\\Python3.9.13\\lib\\site-packages\\statsmodels\\tsa\\vector_ar\\var_model.py:1558: RuntimeWarning: invalid value encountered in sqrt\n",
      "  stderr = np.sqrt(np.diag(self.cov_params()))\n"
     ]
    },
    {
     "name": "stdout",
     "output_type": "stream",
     "text": [
      "Volume_median\n",
      " maxlags 要小於等於:  9\n",
      "在最大 lag 數目為 9 的情況下，VAR 找出的最佳 lag 為:  9\n"
     ]
    },
    {
     "name": "stderr",
     "output_type": "stream",
     "text": [
      "c:\\Users\\User\\.conda\\envs\\Python3.9.13\\lib\\site-packages\\statsmodels\\tsa\\vector_ar\\var_model.py:1558: RuntimeWarning: invalid value encountered in sqrt\n",
      "  stderr = np.sqrt(np.diag(self.cov_params()))\n"
     ]
    },
    {
     "name": "stdout",
     "output_type": "stream",
     "text": [
      "Close_mean\n",
      " maxlags 要小於等於:  9\n",
      "在最大 lag 數目為 9 的情況下，VAR 找出的最佳 lag 為:  9\n"
     ]
    },
    {
     "name": "stderr",
     "output_type": "stream",
     "text": [
      "c:\\Users\\User\\.conda\\envs\\Python3.9.13\\lib\\site-packages\\statsmodels\\tsa\\vector_ar\\var_model.py:1558: RuntimeWarning: invalid value encountered in sqrt\n",
      "  stderr = np.sqrt(np.diag(self.cov_params()))\n"
     ]
    },
    {
     "name": "stdout",
     "output_type": "stream",
     "text": [
      "Low_mean\n",
      " maxlags 要小於等於:  9\n",
      "在最大 lag 數目為 9 的情況下，VAR 找出的最佳 lag 為:  9\n"
     ]
    },
    {
     "name": "stderr",
     "output_type": "stream",
     "text": [
      "c:\\Users\\User\\.conda\\envs\\Python3.9.13\\lib\\site-packages\\statsmodels\\tsa\\vector_ar\\var_model.py:1558: RuntimeWarning: invalid value encountered in sqrt\n",
      "  stderr = np.sqrt(np.diag(self.cov_params()))\n"
     ]
    },
    {
     "name": "stdout",
     "output_type": "stream",
     "text": [
      "Low_first\n",
      " maxlags 要小於等於:  9\n",
      "在最大 lag 數目為 9 的情況下，VAR 找出的最佳 lag 為:  9\n"
     ]
    },
    {
     "name": "stderr",
     "output_type": "stream",
     "text": [
      "c:\\Users\\User\\.conda\\envs\\Python3.9.13\\lib\\site-packages\\statsmodels\\tsa\\vector_ar\\var_model.py:1558: RuntimeWarning: invalid value encountered in sqrt\n",
      "  stderr = np.sqrt(np.diag(self.cov_params()))\n"
     ]
    },
    {
     "name": "stdout",
     "output_type": "stream",
     "text": [
      "Open_median\n",
      " maxlags 要小於等於:  9\n",
      "在最大 lag 數目為 9 的情況下，VAR 找出的最佳 lag 為:  9\n"
     ]
    },
    {
     "name": "stderr",
     "output_type": "stream",
     "text": [
      "c:\\Users\\User\\.conda\\envs\\Python3.9.13\\lib\\site-packages\\statsmodels\\tsa\\vector_ar\\var_model.py:1558: RuntimeWarning: invalid value encountered in sqrt\n",
      "  stderr = np.sqrt(np.diag(self.cov_params()))\n"
     ]
    },
    {
     "name": "stdout",
     "output_type": "stream",
     "text": [
      "High_last\n",
      " maxlags 要小於等於:  9\n",
      "在最大 lag 數目為 9 的情況下，VAR 找出的最佳 lag 為:  9\n"
     ]
    },
    {
     "name": "stderr",
     "output_type": "stream",
     "text": [
      "c:\\Users\\User\\.conda\\envs\\Python3.9.13\\lib\\site-packages\\statsmodels\\tsa\\vector_ar\\var_model.py:1558: RuntimeWarning: invalid value encountered in sqrt\n",
      "  stderr = np.sqrt(np.diag(self.cov_params()))\n"
     ]
    },
    {
     "name": "stdout",
     "output_type": "stream",
     "text": [
      "Dividends_last\n",
      " maxlags 要小於等於:  9\n",
      "在最大 lag 數目為 9 的情況下，VAR 找出的最佳 lag 為:  9\n"
     ]
    },
    {
     "name": "stderr",
     "output_type": "stream",
     "text": [
      "c:\\Users\\User\\.conda\\envs\\Python3.9.13\\lib\\site-packages\\statsmodels\\tsa\\vector_ar\\var_model.py:1558: RuntimeWarning: invalid value encountered in sqrt\n",
      "  stderr = np.sqrt(np.diag(self.cov_params()))\n"
     ]
    },
    {
     "name": "stdout",
     "output_type": "stream",
     "text": [
      "High_mean\n",
      " maxlags 要小於等於:  9\n",
      "在最大 lag 數目為 9 的情況下，VAR 找出的最佳 lag 為:  9\n"
     ]
    },
    {
     "name": "stderr",
     "output_type": "stream",
     "text": [
      "c:\\Users\\User\\.conda\\envs\\Python3.9.13\\lib\\site-packages\\statsmodels\\tsa\\vector_ar\\var_model.py:1558: RuntimeWarning: invalid value encountered in sqrt\n",
      "  stderr = np.sqrt(np.diag(self.cov_params()))\n"
     ]
    },
    {
     "name": "stdout",
     "output_type": "stream",
     "text": [
      "Open_min\n",
      " maxlags 要小於等於:  9\n",
      "在最大 lag 數目為 9 的情況下，VAR 找出的最佳 lag 為:  9\n"
     ]
    },
    {
     "name": "stderr",
     "output_type": "stream",
     "text": [
      "c:\\Users\\User\\.conda\\envs\\Python3.9.13\\lib\\site-packages\\statsmodels\\tsa\\vector_ar\\var_model.py:1558: RuntimeWarning: invalid value encountered in sqrt\n",
      "  stderr = np.sqrt(np.diag(self.cov_params()))\n"
     ]
    },
    {
     "name": "stdout",
     "output_type": "stream",
     "text": [
      "High_median\n",
      " maxlags 要小於等於:  9\n",
      "在最大 lag 數目為 9 的情況下，VAR 找出的最佳 lag 為:  9\n"
     ]
    },
    {
     "name": "stderr",
     "output_type": "stream",
     "text": [
      "c:\\Users\\User\\.conda\\envs\\Python3.9.13\\lib\\site-packages\\statsmodels\\tsa\\vector_ar\\var_model.py:1558: RuntimeWarning: invalid value encountered in sqrt\n",
      "  stderr = np.sqrt(np.diag(self.cov_params()))\n"
     ]
    },
    {
     "name": "stdout",
     "output_type": "stream",
     "text": [
      "Volume_first\n",
      " maxlags 要小於等於:  9\n",
      "在最大 lag 數目為 9 的情況下，VAR 找出的最佳 lag 為:  9\n"
     ]
    },
    {
     "name": "stderr",
     "output_type": "stream",
     "text": [
      "c:\\Users\\User\\.conda\\envs\\Python3.9.13\\lib\\site-packages\\statsmodels\\tsa\\vector_ar\\var_model.py:1558: RuntimeWarning: invalid value encountered in sqrt\n",
      "  stderr = np.sqrt(np.diag(self.cov_params()))\n"
     ]
    },
    {
     "name": "stdout",
     "output_type": "stream",
     "text": [
      "Close_max\n",
      " maxlags 要小於等於:  9\n",
      "在最大 lag 數目為 9 的情況下，VAR 找出的最佳 lag 為:  9\n"
     ]
    },
    {
     "name": "stderr",
     "output_type": "stream",
     "text": [
      "c:\\Users\\User\\.conda\\envs\\Python3.9.13\\lib\\site-packages\\statsmodels\\tsa\\vector_ar\\var_model.py:1558: RuntimeWarning: invalid value encountered in sqrt\n",
      "  stderr = np.sqrt(np.diag(self.cov_params()))\n"
     ]
    },
    {
     "name": "stdout",
     "output_type": "stream",
     "text": [
      "Low_max\n",
      " maxlags 要小於等於:  9\n",
      "在最大 lag 數目為 9 的情況下，VAR 找出的最佳 lag 為:  9\n"
     ]
    },
    {
     "name": "stderr",
     "output_type": "stream",
     "text": [
      "c:\\Users\\User\\.conda\\envs\\Python3.9.13\\lib\\site-packages\\statsmodels\\tsa\\vector_ar\\var_model.py:1558: RuntimeWarning: invalid value encountered in sqrt\n",
      "  stderr = np.sqrt(np.diag(self.cov_params()))\n"
     ]
    },
    {
     "name": "stdout",
     "output_type": "stream",
     "text": [
      "High_prod\n",
      " maxlags 要小於等於:  9\n",
      "在最大 lag 數目為 9 的情況下，VAR 找出的最佳 lag 為:  9\n"
     ]
    },
    {
     "name": "stderr",
     "output_type": "stream",
     "text": [
      "c:\\Users\\User\\.conda\\envs\\Python3.9.13\\lib\\site-packages\\statsmodels\\tsa\\vector_ar\\var_model.py:1558: RuntimeWarning: invalid value encountered in sqrt\n",
      "  stderr = np.sqrt(np.diag(self.cov_params()))\n"
     ]
    },
    {
     "name": "stdout",
     "output_type": "stream",
     "text": [
      "High_max\n",
      " maxlags 要小於等於:  9\n",
      "在最大 lag 數目為 9 的情況下，VAR 找出的最佳 lag 為:  9\n"
     ]
    },
    {
     "name": "stderr",
     "output_type": "stream",
     "text": [
      "c:\\Users\\User\\.conda\\envs\\Python3.9.13\\lib\\site-packages\\statsmodels\\tsa\\vector_ar\\var_model.py:1558: RuntimeWarning: invalid value encountered in sqrt\n",
      "  stderr = np.sqrt(np.diag(self.cov_params()))\n"
     ]
    },
    {
     "name": "stdout",
     "output_type": "stream",
     "text": [
      "Open_mean\n",
      " maxlags 要小於等於:  9\n",
      "在最大 lag 數目為 9 的情況下，VAR 找出的最佳 lag 為:  9\n"
     ]
    },
    {
     "name": "stderr",
     "output_type": "stream",
     "text": [
      "c:\\Users\\User\\.conda\\envs\\Python3.9.13\\lib\\site-packages\\statsmodels\\tsa\\vector_ar\\var_model.py:1558: RuntimeWarning: invalid value encountered in sqrt\n",
      "  stderr = np.sqrt(np.diag(self.cov_params()))\n"
     ]
    },
    {
     "name": "stdout",
     "output_type": "stream",
     "text": [
      "Close_first\n",
      " maxlags 要小於等於:  9\n",
      "在最大 lag 數目為 9 的情況下，VAR 找出的最佳 lag 為:  9\n"
     ]
    },
    {
     "name": "stderr",
     "output_type": "stream",
     "text": [
      "c:\\Users\\User\\.conda\\envs\\Python3.9.13\\lib\\site-packages\\statsmodels\\tsa\\vector_ar\\var_model.py:1558: RuntimeWarning: invalid value encountered in sqrt\n",
      "  stderr = np.sqrt(np.diag(self.cov_params()))\n"
     ]
    },
    {
     "name": "stdout",
     "output_type": "stream",
     "text": [
      "Close_prod\n",
      " maxlags 要小於等於:  9\n",
      "在最大 lag 數目為 9 的情況下，VAR 找出的最佳 lag 為:  9\n"
     ]
    },
    {
     "name": "stderr",
     "output_type": "stream",
     "text": [
      "c:\\Users\\User\\.conda\\envs\\Python3.9.13\\lib\\site-packages\\statsmodels\\tsa\\vector_ar\\var_model.py:1558: RuntimeWarning: invalid value encountered in sqrt\n",
      "  stderr = np.sqrt(np.diag(self.cov_params()))\n"
     ]
    },
    {
     "name": "stdout",
     "output_type": "stream",
     "text": [
      "Volume_last\n",
      " maxlags 要小於等於:  9\n",
      "在最大 lag 數目為 9 的情況下，VAR 找出的最佳 lag 為:  9\n"
     ]
    },
    {
     "name": "stderr",
     "output_type": "stream",
     "text": [
      "c:\\Users\\User\\.conda\\envs\\Python3.9.13\\lib\\site-packages\\statsmodels\\tsa\\vector_ar\\var_model.py:1558: RuntimeWarning: invalid value encountered in sqrt\n",
      "  stderr = np.sqrt(np.diag(self.cov_params()))\n"
     ]
    },
    {
     "name": "stdout",
     "output_type": "stream",
     "text": [
      "Volume_max\n",
      " maxlags 要小於等於:  9\n",
      "在最大 lag 數目為 9 的情況下，VAR 找出的最佳 lag 為:  9\n"
     ]
    },
    {
     "name": "stderr",
     "output_type": "stream",
     "text": [
      "c:\\Users\\User\\.conda\\envs\\Python3.9.13\\lib\\site-packages\\statsmodels\\tsa\\vector_ar\\var_model.py:1558: RuntimeWarning: invalid value encountered in sqrt\n",
      "  stderr = np.sqrt(np.diag(self.cov_params()))\n"
     ]
    },
    {
     "name": "stdout",
     "output_type": "stream",
     "text": [
      "Dividends_mean\n",
      " maxlags 要小於等於:  9\n",
      "在最大 lag 數目為 9 的情況下，VAR 找出的最佳 lag 為:  9\n"
     ]
    },
    {
     "name": "stderr",
     "output_type": "stream",
     "text": [
      "c:\\Users\\User\\.conda\\envs\\Python3.9.13\\lib\\site-packages\\statsmodels\\tsa\\vector_ar\\var_model.py:1558: RuntimeWarning: invalid value encountered in sqrt\n",
      "  stderr = np.sqrt(np.diag(self.cov_params()))\n"
     ]
    },
    {
     "name": "stdout",
     "output_type": "stream",
     "text": [
      "Close_last\n",
      " maxlags 要小於等於:  9\n",
      "在最大 lag 數目為 9 的情況下，VAR 找出的最佳 lag 為:  9\n"
     ]
    },
    {
     "name": "stderr",
     "output_type": "stream",
     "text": [
      "c:\\Users\\User\\.conda\\envs\\Python3.9.13\\lib\\site-packages\\statsmodels\\tsa\\vector_ar\\var_model.py:1558: RuntimeWarning: invalid value encountered in sqrt\n",
      "  stderr = np.sqrt(np.diag(self.cov_params()))\n"
     ]
    },
    {
     "name": "stdout",
     "output_type": "stream",
     "text": [
      "Stock Splits_prod\n",
      " maxlags 要小於等於:  9\n",
      "在最大 lag 數目為 9 的情況下，VAR 找出的最佳 lag 為:  9\n"
     ]
    },
    {
     "name": "stderr",
     "output_type": "stream",
     "text": [
      "c:\\Users\\User\\.conda\\envs\\Python3.9.13\\lib\\site-packages\\statsmodels\\tsa\\vector_ar\\var_model.py:1558: RuntimeWarning: invalid value encountered in sqrt\n",
      "  stderr = np.sqrt(np.diag(self.cov_params()))\n"
     ]
    },
    {
     "name": "stdout",
     "output_type": "stream",
     "text": [
      "Low_prod\n",
      " maxlags 要小於等於:  9\n",
      "在最大 lag 數目為 9 的情況下，VAR 找出的最佳 lag 為:  9\n"
     ]
    },
    {
     "name": "stderr",
     "output_type": "stream",
     "text": [
      "c:\\Users\\User\\.conda\\envs\\Python3.9.13\\lib\\site-packages\\statsmodels\\tsa\\vector_ar\\var_model.py:1558: RuntimeWarning: invalid value encountered in sqrt\n",
      "  stderr = np.sqrt(np.diag(self.cov_params()))\n"
     ]
    },
    {
     "name": "stdout",
     "output_type": "stream",
     "text": [
      "Volume_mean\n",
      " maxlags 要小於等於:  9\n",
      "在最大 lag 數目為 9 的情況下，VAR 找出的最佳 lag 為:  9\n"
     ]
    },
    {
     "name": "stderr",
     "output_type": "stream",
     "text": [
      "c:\\Users\\User\\.conda\\envs\\Python3.9.13\\lib\\site-packages\\statsmodels\\tsa\\vector_ar\\var_model.py:1558: RuntimeWarning: invalid value encountered in sqrt\n",
      "  stderr = np.sqrt(np.diag(self.cov_params()))\n"
     ]
    },
    {
     "name": "stdout",
     "output_type": "stream",
     "text": [
      "Close_min\n",
      " maxlags 要小於等於:  9\n",
      "在最大 lag 數目為 9 的情況下，VAR 找出的最佳 lag 為:  9\n"
     ]
    },
    {
     "name": "stderr",
     "output_type": "stream",
     "text": [
      "c:\\Users\\User\\.conda\\envs\\Python3.9.13\\lib\\site-packages\\statsmodels\\tsa\\vector_ar\\var_model.py:1558: RuntimeWarning: invalid value encountered in sqrt\n",
      "  stderr = np.sqrt(np.diag(self.cov_params()))\n"
     ]
    },
    {
     "name": "stdout",
     "output_type": "stream",
     "text": [
      "High_min\n",
      " maxlags 要小於等於:  9\n",
      "在最大 lag 數目為 9 的情況下，VAR 找出的最佳 lag 為:  9\n"
     ]
    },
    {
     "name": "stderr",
     "output_type": "stream",
     "text": [
      "c:\\Users\\User\\.conda\\envs\\Python3.9.13\\lib\\site-packages\\statsmodels\\tsa\\vector_ar\\var_model.py:1558: RuntimeWarning: invalid value encountered in sqrt\n",
      "  stderr = np.sqrt(np.diag(self.cov_params()))\n"
     ]
    },
    {
     "name": "stdout",
     "output_type": "stream",
     "text": [
      "Low_median\n",
      " maxlags 要小於等於:  9\n",
      "在最大 lag 數目為 9 的情況下，VAR 找出的最佳 lag 為:  9\n"
     ]
    },
    {
     "name": "stderr",
     "output_type": "stream",
     "text": [
      "c:\\Users\\User\\.conda\\envs\\Python3.9.13\\lib\\site-packages\\statsmodels\\tsa\\vector_ar\\var_model.py:1558: RuntimeWarning: invalid value encountered in sqrt\n",
      "  stderr = np.sqrt(np.diag(self.cov_params()))\n"
     ]
    },
    {
     "name": "stdout",
     "output_type": "stream",
     "text": [
      "Low_last\n",
      " maxlags 要小於等於:  9\n",
      "在最大 lag 數目為 9 的情況下，VAR 找出的最佳 lag 為:  9\n"
     ]
    },
    {
     "name": "stderr",
     "output_type": "stream",
     "text": [
      "c:\\Users\\User\\.conda\\envs\\Python3.9.13\\lib\\site-packages\\statsmodels\\tsa\\vector_ar\\var_model.py:1558: RuntimeWarning: invalid value encountered in sqrt\n",
      "  stderr = np.sqrt(np.diag(self.cov_params()))\n",
      "c:\\Users\\User\\.conda\\envs\\Python3.9.13\\lib\\site-packages\\statsmodels\\regression\\linear_model.py:1783: RuntimeWarning: invalid value encountered in double_scalars\n",
      "  return 1 - self.ssr/self.centered_tss\n"
     ]
    },
    {
     "name": "stdout",
     "output_type": "stream",
     "text": [
      "1\n",
      "Volume_prod\n",
      " maxlags 要小於等於:  1\n",
      "在最大 lag 數目為 1 的情況下，VAR 找出的最佳 lag 為:  1\n",
      "High_first\n",
      " maxlags 要小於等於:  1\n",
      "在最大 lag 數目為 1 的情況下，VAR 找出的最佳 lag 為:  1\n",
      "Low_min\n",
      " maxlags 要小於等於:  1\n",
      "在最大 lag 數目為 1 的情況下，VAR 找出的最佳 lag 為:  1\n",
      "Open_last\n",
      " maxlags 要小於等於:  1\n",
      "在最大 lag 數目為 1 的情況下，VAR 找出的最佳 lag 為:  1\n",
      "Open_first\n",
      " maxlags 要小於等於:  1\n",
      "在最大 lag 數目為 1 的情況下，VAR 找出的最佳 lag 為:  1\n",
      "Open_max\n",
      " maxlags 要小於等於:  1\n",
      "在最大 lag 數目為 1 的情況下，VAR 找出的最佳 lag 為:  1\n",
      "Close_median\n",
      " maxlags 要小於等於:  1\n",
      "在最大 lag 數目為 1 的情況下，VAR 找出的最佳 lag 為:  1\n",
      "Volume_min\n",
      " maxlags 要小於等於:  1\n",
      "在最大 lag 數目為 1 的情況下，VAR 找出的最佳 lag 為:  1\n",
      "Dividends_max\n",
      " maxlags 要小於等於:  1\n",
      "在最大 lag 數目為 1 的情況下，VAR 找出的最佳 lag 為:  1\n",
      "Open_prod\n",
      " maxlags 要小於等於:  1\n",
      "在最大 lag 數目為 1 的情況下，VAR 找出的最佳 lag 為:  1\n",
      "Volume_median\n",
      " maxlags 要小於等於:  1\n",
      "在最大 lag 數目為 1 的情況下，VAR 找出的最佳 lag 為:  1\n",
      "Close_mean\n",
      " maxlags 要小於等於:  1\n",
      "在最大 lag 數目為 1 的情況下，VAR 找出的最佳 lag 為:  1\n",
      "Low_mean\n",
      " maxlags 要小於等於:  1\n",
      "在最大 lag 數目為 1 的情況下，VAR 找出的最佳 lag 為:  1\n",
      "Low_first\n",
      " maxlags 要小於等於:  1\n",
      "在最大 lag 數目為 1 的情況下，VAR 找出的最佳 lag 為:  1\n",
      "Open_median\n",
      " maxlags 要小於等於:  1\n",
      "在最大 lag 數目為 1 的情況下，VAR 找出的最佳 lag 為:  1\n",
      "High_last\n",
      " maxlags 要小於等於:  1\n",
      "在最大 lag 數目為 1 的情況下，VAR 找出的最佳 lag 為:  1\n",
      "Dividends_last\n",
      " maxlags 要小於等於:  1\n",
      "在最大 lag 數目為 1 的情況下，VAR 找出的最佳 lag 為:  1\n",
      "High_mean\n",
      " maxlags 要小於等於:  1\n",
      "在最大 lag 數目為 1 的情況下，VAR 找出的最佳 lag 為:  1\n",
      "Open_min\n",
      " maxlags 要小於等於:  1\n",
      "在最大 lag 數目為 1 的情況下，VAR 找出的最佳 lag 為:  1\n",
      "High_median\n",
      " maxlags 要小於等於:  1\n",
      "在最大 lag 數目為 1 的情況下，VAR 找出的最佳 lag 為:  1\n",
      "Volume_first\n",
      " maxlags 要小於等於:  1\n",
      "在最大 lag 數目為 1 的情況下，VAR 找出的最佳 lag 為:  1\n",
      "Close_max\n",
      " maxlags 要小於等於:  1\n",
      "在最大 lag 數目為 1 的情況下，VAR 找出的最佳 lag 為:  1\n",
      "Low_max\n",
      " maxlags 要小於等於:  1\n",
      "在最大 lag 數目為 1 的情況下，VAR 找出的最佳 lag 為:  1\n",
      "High_prod\n",
      " maxlags 要小於等於:  1\n",
      "在最大 lag 數目為 1 的情況下，VAR 找出的最佳 lag 為:  1\n",
      "High_max\n",
      " maxlags 要小於等於:  1\n",
      "在最大 lag 數目為 1 的情況下，VAR 找出的最佳 lag 為:  1\n",
      "Open_mean\n",
      " maxlags 要小於等於:  1\n",
      "在最大 lag 數目為 1 的情況下，VAR 找出的最佳 lag 為:  1\n",
      "Close_first\n",
      " maxlags 要小於等於:  1\n",
      "在最大 lag 數目為 1 的情況下，VAR 找出的最佳 lag 為:  1\n",
      "Close_prod\n",
      " maxlags 要小於等於:  1\n",
      "在最大 lag 數目為 1 的情況下，VAR 找出的最佳 lag 為:  1\n",
      "Volume_last\n",
      " maxlags 要小於等於:  1\n",
      "在最大 lag 數目為 1 的情況下，VAR 找出的最佳 lag 為:  1\n",
      "Volume_max\n",
      " maxlags 要小於等於:  1\n",
      "在最大 lag 數目為 1 的情況下，VAR 找出的最佳 lag 為:  1\n",
      "Dividends_mean\n",
      " maxlags 要小於等於:  1\n",
      "在最大 lag 數目為 1 的情況下，VAR 找出的最佳 lag 為:  1\n",
      "Close_last\n",
      " maxlags 要小於等於:  1\n",
      "在最大 lag 數目為 1 的情況下，VAR 找出的最佳 lag 為:  1\n",
      "Low_prod\n",
      " maxlags 要小於等於:  1\n",
      "在最大 lag 數目為 1 的情況下，VAR 找出的最佳 lag 為:  1\n",
      "Volume_mean\n",
      " maxlags 要小於等於:  1\n",
      "在最大 lag 數目為 1 的情況下，VAR 找出的最佳 lag 為:  1\n",
      "Close_min\n",
      " maxlags 要小於等於:  1\n",
      "在最大 lag 數目為 1 的情況下，VAR 找出的最佳 lag 為:  1\n",
      "High_min\n",
      " maxlags 要小於等於:  1\n",
      "在最大 lag 數目為 1 的情況下，VAR 找出的最佳 lag 為:  1\n",
      "Low_median\n",
      " maxlags 要小於等於:  1\n",
      "在最大 lag 數目為 1 的情況下，VAR 找出的最佳 lag 為:  1\n",
      "Low_last\n",
      " maxlags 要小於等於:  1\n",
      "在最大 lag 數目為 1 的情況下，VAR 找出的最佳 lag 為:  1\n",
      "1\n",
      "High_first\n",
      " maxlags 要小於等於:  1\n",
      "在最大 lag 數目為 1 的情況下，VAR 找出的最佳 lag 為:  1\n",
      "Low_min\n",
      " maxlags 要小於等於:  1\n",
      "在最大 lag 數目為 1 的情況下，VAR 找出的最佳 lag 為:  1\n",
      "Open_last\n",
      " maxlags 要小於等於:  1\n",
      "在最大 lag 數目為 1 的情況下，VAR 找出的最佳 lag 為:  1\n"
     ]
    },
    {
     "name": "stderr",
     "output_type": "stream",
     "text": [
      "c:\\Users\\User\\.conda\\envs\\Python3.9.13\\lib\\site-packages\\numpy\\linalg\\linalg.py:1900: RuntimeWarning: overflow encountered in multiply\n",
      "  tol = S.max(axis=-1, keepdims=True) * max(A.shape[-2:]) * finfo(S.dtype).eps\n",
      "c:\\Users\\User\\.conda\\envs\\Python3.9.13\\lib\\site-packages\\statsmodels\\regression\\linear_model.py:1734: RuntimeWarning: overflow encountered in square\n",
      "  return np.sum(weights * (model.endog - mean)**2)\n",
      "c:\\Users\\User\\.conda\\envs\\Python3.9.13\\lib\\site-packages\\statsmodels\\regression\\linear_model.py:1783: RuntimeWarning: invalid value encountered in double_scalars\n",
      "  return 1 - self.ssr/self.centered_tss\n",
      "c:\\Users\\User\\.conda\\envs\\Python3.9.13\\lib\\site-packages\\statsmodels\\tsa\\vector_ar\\var_model.py:1558: RuntimeWarning: invalid value encountered in sqrt\n",
      "  stderr = np.sqrt(np.diag(self.cov_params()))\n",
      "c:\\Users\\User\\.conda\\envs\\Python3.9.13\\lib\\site-packages\\statsmodels\\tsa\\vector_ar\\var_model.py:1558: RuntimeWarning: invalid value encountered in sqrt\n",
      "  stderr = np.sqrt(np.diag(self.cov_params()))\n",
      "c:\\Users\\User\\.conda\\envs\\Python3.9.13\\lib\\site-packages\\statsmodels\\tsa\\vector_ar\\var_model.py:1558: RuntimeWarning: invalid value encountered in sqrt\n",
      "  stderr = np.sqrt(np.diag(self.cov_params()))\n",
      "c:\\Users\\User\\.conda\\envs\\Python3.9.13\\lib\\site-packages\\statsmodels\\tsa\\vector_ar\\var_model.py:1558: RuntimeWarning: invalid value encountered in sqrt\n",
      "  stderr = np.sqrt(np.diag(self.cov_params()))\n",
      "c:\\Users\\User\\.conda\\envs\\Python3.9.13\\lib\\site-packages\\statsmodels\\tsa\\vector_ar\\var_model.py:1558: RuntimeWarning: invalid value encountered in sqrt\n",
      "  stderr = np.sqrt(np.diag(self.cov_params()))\n",
      "c:\\Users\\User\\.conda\\envs\\Python3.9.13\\lib\\site-packages\\statsmodels\\tsa\\vector_ar\\var_model.py:1558: RuntimeWarning: invalid value encountered in sqrt\n",
      "  stderr = np.sqrt(np.diag(self.cov_params()))\n",
      "c:\\Users\\User\\.conda\\envs\\Python3.9.13\\lib\\site-packages\\statsmodels\\tsa\\vector_ar\\var_model.py:1558: RuntimeWarning: invalid value encountered in sqrt\n",
      "  stderr = np.sqrt(np.diag(self.cov_params()))\n",
      "c:\\Users\\User\\.conda\\envs\\Python3.9.13\\lib\\site-packages\\statsmodels\\tsa\\vector_ar\\var_model.py:1558: RuntimeWarning: invalid value encountered in sqrt\n",
      "  stderr = np.sqrt(np.diag(self.cov_params()))\n",
      "c:\\Users\\User\\.conda\\envs\\Python3.9.13\\lib\\site-packages\\statsmodels\\tsa\\vector_ar\\var_model.py:1558: RuntimeWarning: invalid value encountered in sqrt\n",
      "  stderr = np.sqrt(np.diag(self.cov_params()))\n",
      "c:\\Users\\User\\.conda\\envs\\Python3.9.13\\lib\\site-packages\\statsmodels\\tsa\\vector_ar\\var_model.py:1558: RuntimeWarning: invalid value encountered in sqrt\n",
      "  stderr = np.sqrt(np.diag(self.cov_params()))\n",
      "c:\\Users\\User\\.conda\\envs\\Python3.9.13\\lib\\site-packages\\statsmodels\\tsa\\vector_ar\\var_model.py:1558: RuntimeWarning: invalid value encountered in sqrt\n",
      "  stderr = np.sqrt(np.diag(self.cov_params()))\n",
      "c:\\Users\\User\\.conda\\envs\\Python3.9.13\\lib\\site-packages\\statsmodels\\tsa\\vector_ar\\var_model.py:1558: RuntimeWarning: invalid value encountered in sqrt\n",
      "  stderr = np.sqrt(np.diag(self.cov_params()))\n",
      "c:\\Users\\User\\.conda\\envs\\Python3.9.13\\lib\\site-packages\\statsmodels\\tsa\\vector_ar\\var_model.py:1558: RuntimeWarning: invalid value encountered in sqrt\n",
      "  stderr = np.sqrt(np.diag(self.cov_params()))\n",
      "c:\\Users\\User\\.conda\\envs\\Python3.9.13\\lib\\site-packages\\statsmodels\\tsa\\vector_ar\\var_model.py:1558: RuntimeWarning: invalid value encountered in sqrt\n",
      "  stderr = np.sqrt(np.diag(self.cov_params()))\n",
      "c:\\Users\\User\\.conda\\envs\\Python3.9.13\\lib\\site-packages\\statsmodels\\tsa\\vector_ar\\var_model.py:1558: RuntimeWarning: invalid value encountered in sqrt\n",
      "  stderr = np.sqrt(np.diag(self.cov_params()))\n",
      "c:\\Users\\User\\.conda\\envs\\Python3.9.13\\lib\\site-packages\\statsmodels\\tsa\\vector_ar\\var_model.py:1558: RuntimeWarning: invalid value encountered in sqrt\n",
      "  stderr = np.sqrt(np.diag(self.cov_params()))\n",
      "c:\\Users\\User\\.conda\\envs\\Python3.9.13\\lib\\site-packages\\statsmodels\\tsa\\vector_ar\\var_model.py:1558: RuntimeWarning: invalid value encountered in sqrt\n",
      "  stderr = np.sqrt(np.diag(self.cov_params()))\n",
      "c:\\Users\\User\\.conda\\envs\\Python3.9.13\\lib\\site-packages\\statsmodels\\tsa\\vector_ar\\var_model.py:1558: RuntimeWarning: invalid value encountered in sqrt\n",
      "  stderr = np.sqrt(np.diag(self.cov_params()))\n"
     ]
    },
    {
     "name": "stdout",
     "output_type": "stream",
     "text": [
      "Open_max\n",
      " maxlags 要小於等於:  1\n",
      "在最大 lag 數目為 1 的情況下，VAR 找出的最佳 lag 為:  1\n",
      "Close_median\n",
      " maxlags 要小於等於:  1\n",
      "在最大 lag 數目為 1 的情況下，VAR 找出的最佳 lag 為:  1\n",
      "Open_first\n",
      " maxlags 要小於等於:  1\n",
      "在最大 lag 數目為 1 的情況下，VAR 找出的最佳 lag 為:  1\n",
      "Volume_min\n",
      " maxlags 要小於等於:  1\n",
      "在最大 lag 數目為 1 的情況下，VAR 找出的最佳 lag 為:  1\n",
      "Dividends_max\n",
      " maxlags 要小於等於:  1\n",
      "在最大 lag 數目為 1 的情況下，VAR 找出的最佳 lag 為:  1\n",
      "Volume_median\n",
      " maxlags 要小於等於:  1\n",
      "在最大 lag 數目為 1 的情況下，VAR 找出的最佳 lag 為:  1\n",
      "Close_mean\n",
      " maxlags 要小於等於:  1\n",
      "在最大 lag 數目為 1 的情況下，VAR 找出的最佳 lag 為:  1\n",
      "Low_mean\n",
      " maxlags 要小於等於:  1\n",
      "在最大 lag 數目為 1 的情況下，VAR 找出的最佳 lag 為:  1\n",
      "Low_first\n",
      " maxlags 要小於等於:  1\n",
      "在最大 lag 數目為 1 的情況下，VAR 找出的最佳 lag 為:  1\n",
      "Open_median\n",
      " maxlags 要小於等於:  1\n",
      "在最大 lag 數目為 1 的情況下，VAR 找出的最佳 lag 為:  1\n",
      "High_last\n",
      " maxlags 要小於等於:  1\n",
      "在最大 lag 數目為 1 的情況下，VAR 找出的最佳 lag 為:  1\n",
      "High_mean\n",
      " maxlags 要小於等於:  1\n",
      "在最大 lag 數目為 1 的情況下，VAR 找出的最佳 lag 為:  1\n",
      "Open_min\n",
      " maxlags 要小於等於:  1\n",
      "在最大 lag 數目為 1 的情況下，VAR 找出的最佳 lag 為:  1\n",
      "High_median\n",
      " maxlags 要小於等於:  1\n",
      "在最大 lag 數目為 1 的情況下，VAR 找出的最佳 lag 為:  1\n",
      "Volume_first\n",
      " maxlags 要小於等於:  1\n",
      "在最大 lag 數目為 1 的情況下，VAR 找出的最佳 lag 為:  1\n",
      "Close_max\n",
      " maxlags 要小於等於:  1\n",
      "在最大 lag 數目為 1 的情況下，VAR 找出的最佳 lag 為:  1\n",
      "Low_max\n",
      " maxlags 要小於等於:  1\n",
      "在最大 lag 數目為 1 的情況下，VAR 找出的最佳 lag 為:  1\n",
      "High_max\n",
      " maxlags 要小於等於:  1\n",
      "在最大 lag 數目為 1 的情況下，VAR 找出的最佳 lag 為:  1\n",
      "Open_mean\n",
      " maxlags 要小於等於:  1\n",
      "在最大 lag 數目為 1 的情況下，VAR 找出的最佳 lag 為:  1\n",
      "Volume_last\n",
      " maxlags 要小於等於:  1\n",
      "在最大 lag 數目為 1 的情況下，VAR 找出的最佳 lag 為:  1\n",
      "Close_first\n",
      " maxlags 要小於等於:  1\n",
      "在最大 lag 數目為 1 的情況下，VAR 找出的最佳 lag 為:  1\n",
      "Volume_max\n",
      " maxlags 要小於等於:  1\n",
      "在最大 lag 數目為 1 的情況下，VAR 找出的最佳 lag 為:  1\n",
      "Dividends_mean\n",
      " maxlags 要小於等於:  1\n",
      "在最大 lag 數目為 1 的情況下，VAR 找出的最佳 lag 為:  1\n",
      "Close_last\n",
      " maxlags 要小於等於:  1\n",
      "在最大 lag 數目為 1 的情況下，VAR 找出的最佳 lag 為:  1\n",
      "Volume_mean\n",
      " maxlags 要小於等於:  1\n",
      "在最大 lag 數目為 1 的情況下，VAR 找出的最佳 lag 為:  1\n",
      "Close_min\n",
      " maxlags 要小於等於:  1\n",
      "在最大 lag 數目為 1 的情況下，VAR 找出的最佳 lag 為:  1\n",
      "High_min\n",
      " maxlags 要小於等於:  1\n",
      "在最大 lag 數目為 1 的情況下，VAR 找出的最佳 lag 為:  1\n",
      "Low_median\n",
      " maxlags 要小於等於:  1\n",
      "在最大 lag 數目為 1 的情況下，VAR 找出的最佳 lag 為:  1\n",
      "Low_last\n",
      " maxlags 要小於等於:  1\n",
      "在最大 lag 數目為 1 的情況下，VAR 找出的最佳 lag 為:  1\n"
     ]
    },
    {
     "name": "stderr",
     "output_type": "stream",
     "text": [
      "c:\\Users\\User\\.conda\\envs\\Python3.9.13\\lib\\site-packages\\statsmodels\\tsa\\vector_ar\\var_model.py:1558: RuntimeWarning: invalid value encountered in sqrt\n",
      "  stderr = np.sqrt(np.diag(self.cov_params()))\n",
      "c:\\Users\\User\\.conda\\envs\\Python3.9.13\\lib\\site-packages\\statsmodels\\tsa\\vector_ar\\var_model.py:1558: RuntimeWarning: invalid value encountered in sqrt\n",
      "  stderr = np.sqrt(np.diag(self.cov_params()))\n",
      "c:\\Users\\User\\.conda\\envs\\Python3.9.13\\lib\\site-packages\\statsmodels\\tsa\\vector_ar\\var_model.py:1558: RuntimeWarning: invalid value encountered in sqrt\n",
      "  stderr = np.sqrt(np.diag(self.cov_params()))\n",
      "c:\\Users\\User\\.conda\\envs\\Python3.9.13\\lib\\site-packages\\statsmodels\\tsa\\vector_ar\\var_model.py:1558: RuntimeWarning: invalid value encountered in sqrt\n",
      "  stderr = np.sqrt(np.diag(self.cov_params()))\n",
      "c:\\Users\\User\\.conda\\envs\\Python3.9.13\\lib\\site-packages\\statsmodels\\tsa\\vector_ar\\var_model.py:1558: RuntimeWarning: invalid value encountered in sqrt\n",
      "  stderr = np.sqrt(np.diag(self.cov_params()))\n",
      "c:\\Users\\User\\.conda\\envs\\Python3.9.13\\lib\\site-packages\\statsmodels\\tsa\\vector_ar\\var_model.py:1558: RuntimeWarning: invalid value encountered in sqrt\n",
      "  stderr = np.sqrt(np.diag(self.cov_params()))\n",
      "c:\\Users\\User\\.conda\\envs\\Python3.9.13\\lib\\site-packages\\statsmodels\\tsa\\vector_ar\\var_model.py:1558: RuntimeWarning: invalid value encountered in sqrt\n",
      "  stderr = np.sqrt(np.diag(self.cov_params()))\n",
      "c:\\Users\\User\\.conda\\envs\\Python3.9.13\\lib\\site-packages\\statsmodels\\tsa\\vector_ar\\var_model.py:1558: RuntimeWarning: invalid value encountered in sqrt\n",
      "  stderr = np.sqrt(np.diag(self.cov_params()))\n",
      "c:\\Users\\User\\.conda\\envs\\Python3.9.13\\lib\\site-packages\\statsmodels\\tsa\\vector_ar\\var_model.py:1558: RuntimeWarning: invalid value encountered in sqrt\n",
      "  stderr = np.sqrt(np.diag(self.cov_params()))\n",
      "c:\\Users\\User\\.conda\\envs\\Python3.9.13\\lib\\site-packages\\statsmodels\\tsa\\vector_ar\\var_model.py:1558: RuntimeWarning: invalid value encountered in sqrt\n",
      "  stderr = np.sqrt(np.diag(self.cov_params()))\n",
      "c:\\Users\\User\\.conda\\envs\\Python3.9.13\\lib\\site-packages\\statsmodels\\tsa\\vector_ar\\var_model.py:1558: RuntimeWarning: invalid value encountered in sqrt\n",
      "  stderr = np.sqrt(np.diag(self.cov_params()))\n",
      "c:\\Users\\User\\.conda\\envs\\Python3.9.13\\lib\\site-packages\\statsmodels\\tsa\\vector_ar\\var_model.py:1558: RuntimeWarning: invalid value encountered in sqrt\n",
      "  stderr = np.sqrt(np.diag(self.cov_params()))\n",
      "c:\\Users\\User\\.conda\\envs\\Python3.9.13\\lib\\site-packages\\statsmodels\\tsa\\vector_ar\\var_model.py:1558: RuntimeWarning: invalid value encountered in sqrt\n",
      "  stderr = np.sqrt(np.diag(self.cov_params()))\n",
      "c:\\Users\\User\\.conda\\envs\\Python3.9.13\\lib\\site-packages\\statsmodels\\tsa\\vector_ar\\var_model.py:1558: RuntimeWarning: invalid value encountered in sqrt\n",
      "  stderr = np.sqrt(np.diag(self.cov_params()))\n"
     ]
    }
   ],
   "source": [
    "\"\"\"\n",
    "讓使用者決定好奇的target是甚麼，套件會自動找出所有跟target相關的不同time lag的時間變相\n",
    "maxlags 會影響最終最佳推薦的結果，也得慎選，但設定上不可以超過 cal_maxLag 輸出的值\n",
    "\"\"\"\n",
    "# #data = pd.read_csv(dir+\"National Stock Exchange/tcs_stock.csv\").drop(columns=[\"Symbol\",\"Series\"])\n",
    "# data = time_series_format_preprocessing(data,\"Date\")\n",
    "# data = time_series_impute_missing_value(data, 'interpolation', \"Volume\")\n",
    "\n",
    "# 如果有缺失值，可以选择填充或删除\n",
    "\n",
    "\n",
    "# \n",
    "# \n",
    "# \n",
    "for d in [data,weekly_data,monthly_data,yearly_data]:\n",
    "    clean_data = remove_collinearity(data=d)\n",
    "    maxlags = cal_maxLag(clean_data) # USER 不能指定超過這個的LAG，LAG值也要大於0\n",
    "    print(maxlags)\n",
    "    for i in clean_data.columns:\n",
    "        target = i #\"Open_first\"#\"Trades\"\n",
    "        print(target)\n",
    "        results = vectorAutoregression(clean_data,maxlags=maxlags,ic=None)\n",
    "        pvalue_threshold = 0.05\n",
    "        VAR_relationship = vectorAutoregressionRelationship(results=results,target=target,pvalue_threshold=pvalue_threshold)"
   ]
  },
  {
   "cell_type": "code",
   "execution_count": 191,
   "metadata": {},
   "outputs": [
    {
     "data": {
      "text/html": [
       "<div>\n",
       "<style scoped>\n",
       "    .dataframe tbody tr th:only-of-type {\n",
       "        vertical-align: middle;\n",
       "    }\n",
       "\n",
       "    .dataframe tbody tr th {\n",
       "        vertical-align: top;\n",
       "    }\n",
       "\n",
       "    .dataframe thead th {\n",
       "        text-align: right;\n",
       "    }\n",
       "</style>\n",
       "<table border=\"1\" class=\"dataframe\">\n",
       "  <thead>\n",
       "    <tr style=\"text-align: right;\">\n",
       "      <th></th>\n",
       "      <th>time_lag</th>\n",
       "      <th>feature</th>\n",
       "      <th>coef</th>\n",
       "      <th>pvalue</th>\n",
       "    </tr>\n",
       "  </thead>\n",
       "  <tbody>\n",
       "    <tr>\n",
       "      <th>0</th>\n",
       "      <td>1</td>\n",
       "      <td>High_first</td>\n",
       "      <td>-2.122830e-01</td>\n",
       "      <td>0.000000e+00</td>\n",
       "    </tr>\n",
       "    <tr>\n",
       "      <th>1</th>\n",
       "      <td>1</td>\n",
       "      <td>Low_min</td>\n",
       "      <td>2.212313e-01</td>\n",
       "      <td>0.000000e+00</td>\n",
       "    </tr>\n",
       "    <tr>\n",
       "      <th>2</th>\n",
       "      <td>1</td>\n",
       "      <td>Open_max</td>\n",
       "      <td>-1.976034e-01</td>\n",
       "      <td>0.000000e+00</td>\n",
       "    </tr>\n",
       "    <tr>\n",
       "      <th>3</th>\n",
       "      <td>1</td>\n",
       "      <td>Open_first</td>\n",
       "      <td>-1.792636e-01</td>\n",
       "      <td>0.000000e+00</td>\n",
       "    </tr>\n",
       "    <tr>\n",
       "      <th>4</th>\n",
       "      <td>1</td>\n",
       "      <td>Volume_min</td>\n",
       "      <td>2.415786e-07</td>\n",
       "      <td>0.000000e+00</td>\n",
       "    </tr>\n",
       "    <tr>\n",
       "      <th>5</th>\n",
       "      <td>1</td>\n",
       "      <td>Volume_median</td>\n",
       "      <td>6.873067e-07</td>\n",
       "      <td>0.000000e+00</td>\n",
       "    </tr>\n",
       "    <tr>\n",
       "      <th>6</th>\n",
       "      <td>1</td>\n",
       "      <td>Low_mean</td>\n",
       "      <td>2.197454e-02</td>\n",
       "      <td>1.011477e-97</td>\n",
       "    </tr>\n",
       "    <tr>\n",
       "      <th>7</th>\n",
       "      <td>1</td>\n",
       "      <td>Open_median</td>\n",
       "      <td>-1.491220e-02</td>\n",
       "      <td>5.375936e-207</td>\n",
       "    </tr>\n",
       "    <tr>\n",
       "      <th>8</th>\n",
       "      <td>1</td>\n",
       "      <td>High_last</td>\n",
       "      <td>1.817686e-01</td>\n",
       "      <td>0.000000e+00</td>\n",
       "    </tr>\n",
       "    <tr>\n",
       "      <th>9</th>\n",
       "      <td>1</td>\n",
       "      <td>Volume_first</td>\n",
       "      <td>1.873044e-07</td>\n",
       "      <td>0.000000e+00</td>\n",
       "    </tr>\n",
       "    <tr>\n",
       "      <th>10</th>\n",
       "      <td>1</td>\n",
       "      <td>Close_max</td>\n",
       "      <td>-2.017154e-01</td>\n",
       "      <td>0.000000e+00</td>\n",
       "    </tr>\n",
       "    <tr>\n",
       "      <th>11</th>\n",
       "      <td>1</td>\n",
       "      <td>Low_max</td>\n",
       "      <td>-2.070556e-01</td>\n",
       "      <td>0.000000e+00</td>\n",
       "    </tr>\n",
       "    <tr>\n",
       "      <th>12</th>\n",
       "      <td>1</td>\n",
       "      <td>Close_first</td>\n",
       "      <td>-2.529838e-01</td>\n",
       "      <td>0.000000e+00</td>\n",
       "    </tr>\n",
       "    <tr>\n",
       "      <th>13</th>\n",
       "      <td>1</td>\n",
       "      <td>Volume_max</td>\n",
       "      <td>-1.857495e-10</td>\n",
       "      <td>2.327490e-05</td>\n",
       "    </tr>\n",
       "    <tr>\n",
       "      <th>14</th>\n",
       "      <td>1</td>\n",
       "      <td>Volume_mean</td>\n",
       "      <td>-3.174609e-07</td>\n",
       "      <td>0.000000e+00</td>\n",
       "    </tr>\n",
       "    <tr>\n",
       "      <th>15</th>\n",
       "      <td>1</td>\n",
       "      <td>Close_min</td>\n",
       "      <td>2.432306e-01</td>\n",
       "      <td>0.000000e+00</td>\n",
       "    </tr>\n",
       "    <tr>\n",
       "      <th>16</th>\n",
       "      <td>1</td>\n",
       "      <td>Low_median</td>\n",
       "      <td>-1.758620e-02</td>\n",
       "      <td>9.201503e-79</td>\n",
       "    </tr>\n",
       "  </tbody>\n",
       "</table>\n",
       "</div>"
      ],
      "text/plain": [
       "    time_lag        feature          coef         pvalue\n",
       "0          1     High_first -2.122830e-01   0.000000e+00\n",
       "1          1        Low_min  2.212313e-01   0.000000e+00\n",
       "2          1       Open_max -1.976034e-01   0.000000e+00\n",
       "3          1     Open_first -1.792636e-01   0.000000e+00\n",
       "4          1     Volume_min  2.415786e-07   0.000000e+00\n",
       "5          1  Volume_median  6.873067e-07   0.000000e+00\n",
       "6          1       Low_mean  2.197454e-02   1.011477e-97\n",
       "7          1    Open_median -1.491220e-02  5.375936e-207\n",
       "8          1      High_last  1.817686e-01   0.000000e+00\n",
       "9          1   Volume_first  1.873044e-07   0.000000e+00\n",
       "10         1      Close_max -2.017154e-01   0.000000e+00\n",
       "11         1        Low_max -2.070556e-01   0.000000e+00\n",
       "12         1    Close_first -2.529838e-01   0.000000e+00\n",
       "13         1     Volume_max -1.857495e-10   2.327490e-05\n",
       "14         1    Volume_mean -3.174609e-07   0.000000e+00\n",
       "15         1      Close_min  2.432306e-01   0.000000e+00\n",
       "16         1     Low_median -1.758620e-02   9.201503e-79"
      ]
     },
     "execution_count": 191,
     "metadata": {},
     "output_type": "execute_result"
    }
   ],
   "source": [
    "VAR_relationship"
   ]
  },
  {
   "cell_type": "code",
   "execution_count": 148,
   "metadata": {},
   "outputs": [],
   "source": [
    "coef_df = results.params[target]\n",
    "pvalues_df = results.pvalues[target]\n",
    "\n",
    "# 合并系数和p值\n",
    "summary = pd.concat([coef_df, pvalues_df], axis=1)\n",
    "summary.columns = ['coef', 'pvalue']\n",
    "summary = summary.drop(index=\"const\").reset_index()"
   ]
  },
  {
   "cell_type": "code",
   "execution_count": 155,
   "metadata": {},
   "outputs": [
    {
     "data": {
      "text/plain": [
       "{'info': 'there is no results found from VAR'}"
      ]
     },
     "execution_count": 155,
     "metadata": {},
     "output_type": "execute_result"
    }
   ],
   "source": [
    "VAR_relationship"
   ]
  },
  {
   "cell_type": "code",
   "execution_count": 147,
   "metadata": {},
   "outputs": [
    {
     "data": {
      "text/plain": [
       "  Summary of Regression Results   \n",
       "==================================\n",
       "Model:                         VAR\n",
       "Method:                        OLS\n",
       "Date:           Fri, 26, Jul, 2024\n",
       "Time:                     16:48:27\n",
       "--------------------------------------------------------------------\n",
       "No. of Equations:         7.00000    BIC:                    39.6641\n",
       "Nobs:                     9.00000    HQIC:                   39.1796\n",
       "Log likelihood:          -260.191    FPE:                1.45234e+17\n",
       "AIC:                      39.5107    Det(Omega_mle):     6.94651e+16\n",
       "--------------------------------------------------------------------\n",
       "Results for equation Dividends\n",
       "========================================================================\n",
       "           coefficient       std. error           t-stat            prob\n",
       "------------------------------------------------------------------------\n",
       "const         0.177975         0.056955            3.125           0.002\n",
       "========================================================================\n",
       "\n",
       "Results for equation Open\n",
       "========================================================================\n",
       "           coefficient       std. error           t-stat            prob\n",
       "------------------------------------------------------------------------\n",
       "const        12.212156         1.834080            6.658           0.000\n",
       "========================================================================\n",
       "\n",
       "Results for equation Stock Splits\n",
       "========================================================================\n",
       "           coefficient       std. error           t-stat            prob\n",
       "------------------------------------------------------------------------\n",
       "const         0.462222         0.182747            2.529           0.011\n",
       "========================================================================\n",
       "\n",
       "Results for equation Close\n",
       "========================================================================\n",
       "           coefficient       std. error           t-stat            prob\n",
       "------------------------------------------------------------------------\n",
       "const        13.187264         1.636292            8.059           0.000\n",
       "========================================================================\n",
       "\n",
       "Results for equation Volume\n",
       "============================================================================\n",
       "             coefficient         std. error           t-stat            prob\n",
       "----------------------------------------------------------------------------\n",
       "const  1959941962.777778  1004395724.550282            1.951           0.051\n",
       "============================================================================\n",
       "\n",
       "Results for equation Low\n",
       "========================================================================\n",
       "           coefficient       std. error           t-stat            prob\n",
       "------------------------------------------------------------------------\n",
       "const         9.682385         1.125957            8.599           0.000\n",
       "========================================================================\n",
       "\n",
       "Results for equation High\n",
       "========================================================================\n",
       "           coefficient       std. error           t-stat            prob\n",
       "------------------------------------------------------------------------\n",
       "const        16.972411         3.030575            5.600           0.000\n",
       "========================================================================\n",
       "\n",
       "Correlation matrix of residuals\n",
       "                Dividends      Open  Stock Splits     Close    Volume       Low      High\n",
       "Dividends        1.000000  0.687047      0.549385  0.071988 -0.347326  0.593543  0.033612\n",
       "Open             0.687047  1.000000      0.065918  0.579632  0.010613  0.874416  0.537229\n",
       "Stock Splits     0.549385  0.065918      1.000000 -0.481718 -0.296649 -0.162985 -0.340658\n",
       "Close            0.071988  0.579632     -0.481718  1.000000  0.705547  0.640981  0.953595\n",
       "Volume          -0.347326  0.010613     -0.296649  0.705547  1.000000 -0.031067  0.833952\n",
       "Low              0.593543  0.874416     -0.162985  0.640981 -0.031067  1.000000  0.487871\n",
       "High             0.033612  0.537229     -0.340658  0.953595  0.833952  0.487871  1.000000\n",
       "\n"
      ]
     },
     "execution_count": 147,
     "metadata": {},
     "output_type": "execute_result"
    }
   ],
   "source": [
    "results.summary()"
   ]
  },
  {
   "cell_type": "code",
   "execution_count": 29,
   "metadata": {},
   "outputs": [
    {
     "data": {
      "text/html": [
       "<div>\n",
       "<style scoped>\n",
       "    .dataframe tbody tr th:only-of-type {\n",
       "        vertical-align: middle;\n",
       "    }\n",
       "\n",
       "    .dataframe tbody tr th {\n",
       "        vertical-align: top;\n",
       "    }\n",
       "\n",
       "    .dataframe thead th {\n",
       "        text-align: right;\n",
       "    }\n",
       "</style>\n",
       "<table border=\"1\" class=\"dataframe\">\n",
       "  <thead>\n",
       "    <tr style=\"text-align: right;\">\n",
       "      <th></th>\n",
       "      <th>Prev Close</th>\n",
       "      <th>Open</th>\n",
       "      <th>High</th>\n",
       "      <th>Low</th>\n",
       "      <th>Last</th>\n",
       "      <th>Close</th>\n",
       "      <th>VWAP</th>\n",
       "      <th>Volume</th>\n",
       "      <th>Turnover</th>\n",
       "      <th>Trades</th>\n",
       "      <th>Deliverable Volume</th>\n",
       "      <th>%Deliverble</th>\n",
       "    </tr>\n",
       "  </thead>\n",
       "  <tbody>\n",
       "    <tr>\n",
       "      <th>2015-01-01</th>\n",
       "      <td>2558.25</td>\n",
       "      <td>2567.00</td>\n",
       "      <td>2567.00</td>\n",
       "      <td>2541.00</td>\n",
       "      <td>2550.00</td>\n",
       "      <td>2545.55</td>\n",
       "      <td>2548.51</td>\n",
       "      <td>183415</td>\n",
       "      <td>4.674345e+13</td>\n",
       "      <td>8002</td>\n",
       "      <td>52870</td>\n",
       "      <td>0.2883</td>\n",
       "    </tr>\n",
       "    <tr>\n",
       "      <th>2015-01-02</th>\n",
       "      <td>2545.55</td>\n",
       "      <td>2551.00</td>\n",
       "      <td>2590.95</td>\n",
       "      <td>2550.60</td>\n",
       "      <td>2588.40</td>\n",
       "      <td>2579.45</td>\n",
       "      <td>2568.19</td>\n",
       "      <td>462870</td>\n",
       "      <td>1.188740e+14</td>\n",
       "      <td>27585</td>\n",
       "      <td>309350</td>\n",
       "      <td>0.6683</td>\n",
       "    </tr>\n",
       "    <tr>\n",
       "      <th>2015-01-05</th>\n",
       "      <td>2579.45</td>\n",
       "      <td>2581.00</td>\n",
       "      <td>2599.90</td>\n",
       "      <td>2524.65</td>\n",
       "      <td>2538.10</td>\n",
       "      <td>2540.25</td>\n",
       "      <td>2563.94</td>\n",
       "      <td>877121</td>\n",
       "      <td>2.248886e+14</td>\n",
       "      <td>43234</td>\n",
       "      <td>456728</td>\n",
       "      <td>0.5207</td>\n",
       "    </tr>\n",
       "    <tr>\n",
       "      <th>2015-01-06</th>\n",
       "      <td>2540.25</td>\n",
       "      <td>2529.10</td>\n",
       "      <td>2529.10</td>\n",
       "      <td>2440.00</td>\n",
       "      <td>2450.05</td>\n",
       "      <td>2446.60</td>\n",
       "      <td>2466.90</td>\n",
       "      <td>1211892</td>\n",
       "      <td>2.989615e+14</td>\n",
       "      <td>84503</td>\n",
       "      <td>714306</td>\n",
       "      <td>0.5894</td>\n",
       "    </tr>\n",
       "    <tr>\n",
       "      <th>2015-01-07</th>\n",
       "      <td>2446.60</td>\n",
       "      <td>2470.00</td>\n",
       "      <td>2479.15</td>\n",
       "      <td>2407.45</td>\n",
       "      <td>2426.90</td>\n",
       "      <td>2417.70</td>\n",
       "      <td>2433.96</td>\n",
       "      <td>1318166</td>\n",
       "      <td>3.208362e+14</td>\n",
       "      <td>101741</td>\n",
       "      <td>886368</td>\n",
       "      <td>0.6724</td>\n",
       "    </tr>\n",
       "    <tr>\n",
       "      <th>...</th>\n",
       "      <td>...</td>\n",
       "      <td>...</td>\n",
       "      <td>...</td>\n",
       "      <td>...</td>\n",
       "      <td>...</td>\n",
       "      <td>...</td>\n",
       "      <td>...</td>\n",
       "      <td>...</td>\n",
       "      <td>...</td>\n",
       "      <td>...</td>\n",
       "      <td>...</td>\n",
       "      <td>...</td>\n",
       "    </tr>\n",
       "    <tr>\n",
       "      <th>2015-12-24</th>\n",
       "      <td>2425.80</td>\n",
       "      <td>2421.00</td>\n",
       "      <td>2438.20</td>\n",
       "      <td>2404.00</td>\n",
       "      <td>2435.00</td>\n",
       "      <td>2434.25</td>\n",
       "      <td>2424.03</td>\n",
       "      <td>421580</td>\n",
       "      <td>1.021924e+14</td>\n",
       "      <td>21932</td>\n",
       "      <td>188670</td>\n",
       "      <td>0.4475</td>\n",
       "    </tr>\n",
       "    <tr>\n",
       "      <th>2015-12-28</th>\n",
       "      <td>2434.25</td>\n",
       "      <td>2428.00</td>\n",
       "      <td>2466.40</td>\n",
       "      <td>2420.20</td>\n",
       "      <td>2456.95</td>\n",
       "      <td>2462.70</td>\n",
       "      <td>2455.00</td>\n",
       "      <td>1852099</td>\n",
       "      <td>4.546896e+14</td>\n",
       "      <td>43390</td>\n",
       "      <td>1060100</td>\n",
       "      <td>0.5724</td>\n",
       "    </tr>\n",
       "    <tr>\n",
       "      <th>2015-12-29</th>\n",
       "      <td>2462.70</td>\n",
       "      <td>2458.35</td>\n",
       "      <td>2465.30</td>\n",
       "      <td>2445.75</td>\n",
       "      <td>2449.35</td>\n",
       "      <td>2455.80</td>\n",
       "      <td>2452.26</td>\n",
       "      <td>854262</td>\n",
       "      <td>2.094875e+14</td>\n",
       "      <td>26975</td>\n",
       "      <td>433986</td>\n",
       "      <td>0.5080</td>\n",
       "    </tr>\n",
       "    <tr>\n",
       "      <th>2015-12-30</th>\n",
       "      <td>2455.80</td>\n",
       "      <td>2453.05</td>\n",
       "      <td>2459.00</td>\n",
       "      <td>2412.30</td>\n",
       "      <td>2421.70</td>\n",
       "      <td>2418.30</td>\n",
       "      <td>2442.06</td>\n",
       "      <td>802881</td>\n",
       "      <td>1.960682e+14</td>\n",
       "      <td>49464</td>\n",
       "      <td>632180</td>\n",
       "      <td>0.7874</td>\n",
       "    </tr>\n",
       "    <tr>\n",
       "      <th>2015-12-31</th>\n",
       "      <td>2418.30</td>\n",
       "      <td>2415.75</td>\n",
       "      <td>2448.50</td>\n",
       "      <td>2407.50</td>\n",
       "      <td>2430.00</td>\n",
       "      <td>2436.85</td>\n",
       "      <td>2428.90</td>\n",
       "      <td>620159</td>\n",
       "      <td>1.506303e+14</td>\n",
       "      <td>42600</td>\n",
       "      <td>400391</td>\n",
       "      <td>0.6456</td>\n",
       "    </tr>\n",
       "  </tbody>\n",
       "</table>\n",
       "<p>248 rows × 12 columns</p>\n",
       "</div>"
      ],
      "text/plain": [
       "            Prev Close     Open     High      Low     Last    Close     VWAP  \\\n",
       "2015-01-01     2558.25  2567.00  2567.00  2541.00  2550.00  2545.55  2548.51   \n",
       "2015-01-02     2545.55  2551.00  2590.95  2550.60  2588.40  2579.45  2568.19   \n",
       "2015-01-05     2579.45  2581.00  2599.90  2524.65  2538.10  2540.25  2563.94   \n",
       "2015-01-06     2540.25  2529.10  2529.10  2440.00  2450.05  2446.60  2466.90   \n",
       "2015-01-07     2446.60  2470.00  2479.15  2407.45  2426.90  2417.70  2433.96   \n",
       "...                ...      ...      ...      ...      ...      ...      ...   \n",
       "2015-12-24     2425.80  2421.00  2438.20  2404.00  2435.00  2434.25  2424.03   \n",
       "2015-12-28     2434.25  2428.00  2466.40  2420.20  2456.95  2462.70  2455.00   \n",
       "2015-12-29     2462.70  2458.35  2465.30  2445.75  2449.35  2455.80  2452.26   \n",
       "2015-12-30     2455.80  2453.05  2459.00  2412.30  2421.70  2418.30  2442.06   \n",
       "2015-12-31     2418.30  2415.75  2448.50  2407.50  2430.00  2436.85  2428.90   \n",
       "\n",
       "             Volume      Turnover  Trades  Deliverable Volume  %Deliverble  \n",
       "2015-01-01   183415  4.674345e+13    8002               52870       0.2883  \n",
       "2015-01-02   462870  1.188740e+14   27585              309350       0.6683  \n",
       "2015-01-05   877121  2.248886e+14   43234              456728       0.5207  \n",
       "2015-01-06  1211892  2.989615e+14   84503              714306       0.5894  \n",
       "2015-01-07  1318166  3.208362e+14  101741              886368       0.6724  \n",
       "...             ...           ...     ...                 ...          ...  \n",
       "2015-12-24   421580  1.021924e+14   21932              188670       0.4475  \n",
       "2015-12-28  1852099  4.546896e+14   43390             1060100       0.5724  \n",
       "2015-12-29   854262  2.094875e+14   26975              433986       0.5080  \n",
       "2015-12-30   802881  1.960682e+14   49464              632180       0.7874  \n",
       "2015-12-31   620159  1.506303e+14   42600              400391       0.6456  \n",
       "\n",
       "[248 rows x 12 columns]"
      ]
     },
     "execution_count": 29,
     "metadata": {},
     "output_type": "execute_result"
    }
   ],
   "source": [
    "data\n"
   ]
  },
  {
   "cell_type": "code",
   "execution_count": 28,
   "metadata": {},
   "outputs": [
    {
     "name": "stdout",
     "output_type": "stream",
     "text": [
      "fTrades(t) = 0.553 * Trades(t-1)\n"
     ]
    }
   ],
   "source": [
    "\"\"\"\n",
    "生成VAR關係公式\n",
    "\"\"\"\n",
    "\"\"\"\n",
    "可有可無，看需求\n",
    "\"\"\"\n",
    "formula_parts = []\n",
    "for index, row in VAR_relationship.iterrows():\n",
    "    coef = row['coef']\n",
    "    if coef < 0:\n",
    "        term = f\"- {-coef:.3f} * {row['feature']}(t-{row['time_lag']})\"\n",
    "    else:\n",
    "        term = f\"{coef:.3f} * {row['feature']}(t-{row['time_lag']})\"\n",
    "    formula_parts.append(term)\n",
    "\n",
    "formula = \" + \".join(formula_parts).replace(\"+ -\", \"- \")\n",
    "target_formula = f\"f{target}(t) = {formula}\"\n",
    "\n",
    "# 打印公式\n",
    "print(target_formula)"
   ]
  }
 ],
 "metadata": {
  "kernelspec": {
   "display_name": "base",
   "language": "python",
   "name": "python3"
  },
  "language_info": {
   "codemirror_mode": {
    "name": "ipython",
    "version": 3
   },
   "file_extension": ".py",
   "mimetype": "text/x-python",
   "name": "python",
   "nbconvert_exporter": "python",
   "pygments_lexer": "ipython3",
   "version": "3.9.19"
  }
 },
 "nbformat": 4,
 "nbformat_minor": 2
}
