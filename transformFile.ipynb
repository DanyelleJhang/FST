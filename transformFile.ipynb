{
 "cells": [
  {
   "cell_type": "code",
   "execution_count": 1,
   "metadata": {},
   "outputs": [],
   "source": [
    "import comtypes.client\n",
    "\n",
    "def PPTtoPDF(inputFileName, outputFileName, formatType = 32):\n",
    "    powerpoint = comtypes.client.CreateObject(\"Powerpoint.Application\")\n",
    "    powerpoint.Visible = 1\n",
    "\n",
    "    if outputFileName[-3:] != 'pdf':\n",
    "        outputFileName = outputFileName + \".pdf\"\n",
    "    deck = powerpoint.Presentations.Open(inputFileName)\n",
    "    deck.SaveAs(outputFileName, formatType) # formatType = 32 for ppt to pdf\n",
    "    deck.Close()\n",
    "    powerpoint.Quit()"
   ]
  },
  {
   "cell_type": "code",
   "execution_count": 2,
   "metadata": {},
   "outputs": [],
   "source": [
    "from glob import glob\n",
    "\n",
    "for i in glob(\"C:\\\\Users\\\\foresight_User\\\\Desktop\\\\知識通\\\\統計學\\\\*.ppt\"):\n",
    "    PPTtoPDF(i,i)\n",
    "for i in glob(\"C:\\\\Users\\\\foresight_User\\\\Desktop\\\\知識通\\\\統計學\\\\*.pptx\"):\n",
    "    PPTtoPDF(i,i)"
   ]
  },
  {
   "cell_type": "code",
   "execution_count": 8,
   "metadata": {},
   "outputs": [
    {
     "data": {
      "text/plain": [
       "'C:/Users/foresight_User/Desktop/知識通/統計學/100S216_AA01L01.pptx'"
      ]
     },
     "execution_count": 8,
     "metadata": {},
     "output_type": "execute_result"
    }
   ],
   "source": [
    "\"C:/Users/foresight_User/Desktop/知識通/統計學/100S216_AA01L01.pptx\""
   ]
  },
  {
   "cell_type": "code",
   "execution_count": 3,
   "metadata": {},
   "outputs": [],
   "source": [
    "from pdf2docx import Converter\n",
    "import fitz  # PyMuPDF\n",
    "import re\n",
    "\n",
    "def remove_watermarks_and_hidden_text(pdf_path, temp_pdf_path):\n",
    "    # 打開PDF文件\n",
    "    pdf_document = fitz.open(pdf_path)\n",
    "    for page_num in range(len(pdf_document)):\n",
    "        page = pdf_document.load_page(page_num)\n",
    "        \n",
    "        # 刪除水印和隱藏文字\n",
    "        text_instances = page.search_for(\"Watermark Text\")  # 假設水印文本\n",
    "        for inst in text_instances:\n",
    "            page.erase_text(inst)\n",
    "        \n",
    "        # 這裡添加更多刪除隱藏字元的邏輯\n",
    "        # 可以使用正則表達式或特定的字元檢測\n",
    "        text = page.get_text(\"text\")\n",
    "        cleaned_text = re.sub(r'[\\x00-\\x1F\\x7F-\\x9F]', '', text)\n",
    "        page.insert_text((0, 0), cleaned_text, fontsize=12)  # 示例位置和大小\n",
    "\n",
    "    pdf_document.save(temp_pdf_path)\n",
    "    pdf_document.close()\n",
    "\n",
    "def convert_pdf_to_docx(pdf_path, docx_path):\n",
    "    cv = Converter(pdf_path)\n",
    "    cv.convert(docx_path, start=0, end=None)\n",
    "    cv.close()\n",
    "\n",
    "\n"
   ]
  },
  {
   "cell_type": "code",
   "execution_count": 10,
   "metadata": {},
   "outputs": [],
   "source": [
    "from sklearn.datasets import make_regression\n",
    "import numpy as np\n",
    "import pandas as pd\n",
    "\n",
    "import os\n",
    "import sys"
   ]
  },
  {
   "cell_type": "code",
   "execution_count": 48,
   "metadata": {},
   "outputs": [],
   "source": [
    "data_dir = \"C:/Users/foresight_User/Desktop/AIUPS/\" #'/mnt/c/Users/foresight/kai_work/AIUPS/'\n",
    "# if not os.path.isfile(data_dir+'RESULTS.txt'):\n",
    "#     print(\"create \",data_dir+'RESULTS.txt')\n",
    "#     out2 = open(data_dir+'RESULTS.txt', 'a')\n",
    "#     out2.write('algorithms\\tn_samples\\tn_features\\texperiment_time')\n",
    "#     out2.close()\n",
    "#     print(\"RESULTS.txt has been create\")\n",
    "################# 先測試小資料能不能動\n",
    "out_l = []\n",
    "in_l = []\n",
    "################\n",
    "for n_samples in list(np.random.randint(1000000,1000001,size=10)): #[,50000,100000,200000]\n",
    "    for n_features in list(np.random.randint(10,11,size=10)): #2000,1000,500,100 [100,500,1000,2000,5000]\n",
    "        #n_samples = 10000\n",
    "        #n_features = 2000\n",
    "        n_informative = n_features\n",
    "        random_seed = np.random.randint(1000)\n",
    "        noise = 0.5\n",
    "        \n",
    "        data_name = f\"Jake_samples_{n_samples}_features_{n_features}_informative_{n_informative}_noise_{noise}\"\n",
    "        data_type = \"csv\"\n",
    "\n",
    "        X, y = make_regression(n_samples=n_samples,n_features=n_features,n_informative=n_informative, noise=noise,random_state=random_seed)\n",
    "        data = data_dir+data_name +\".\"+ \"csv\"\n",
    "        pd.DataFrame(np.concatenate((y.reshape(-1,1),X),axis=1)).rename(columns={0:\"Main_Y\"}).to_csv(data,sep=\",\",index=False)\n",
    "        data = pd.read_csv(data_dir+data_name+\".\"+data_type)#.drop(columns=[\"Unnamed: 0\"])\n",
    "        \n",
    "        file_size_mb = os.path.getsize(data_dir+data_name+\".\"+data_type)/ (1024*1024)\n",
    "        # Conversion to kilobytes, megabytes, and gigabytes\n",
    "        file_in_size_mb = sys.getsizeof(data)/ (1024*1024) # MB\n",
    "        out_l.append(file_size_mb)\n",
    "        in_l.append(file_in_size_mb)"
   ]
  },
  {
   "cell_type": "code",
   "execution_count": 20,
   "metadata": {},
   "outputs": [
    {
     "data": {
      "text/plain": [
       "76.67557144165039"
      ]
     },
     "execution_count": 20,
     "metadata": {},
     "output_type": "execute_result"
    }
   ],
   "source": [
    "sys.getsizeof(data)/ (1024*1024)"
   ]
  },
  {
   "cell_type": "code",
   "execution_count": 51,
   "metadata": {},
   "outputs": [
    {
     "data": {
      "text/plain": [
       "array([206.2360878 , 206.23365974, 206.17999268, 206.22524071,\n",
       "       206.23234558, 206.23282909, 206.23479748, 206.23579788,\n",
       "       206.23081207, 206.22421932, 206.23803425, 206.23503113,\n",
       "       206.23568344, 206.23922062, 206.23145103, 206.22313976,\n",
       "       206.23075676, 206.23291397, 206.2337656 , 206.23147297,\n",
       "       206.2386713 , 206.23749352, 206.24221516, 206.23231125,\n",
       "       206.23235226, 206.22588825, 206.23908234, 206.2367382 ,\n",
       "       206.22962856, 206.2360878 , 206.24194241, 206.23638916,\n",
       "       206.23679352, 206.23209763, 206.18953323, 206.2323103 ,\n",
       "       206.23429489, 206.22587299, 206.23803425, 206.2380743 ,\n",
       "       206.23370171, 206.22737789, 206.22524071, 206.23390198,\n",
       "       206.24214458, 206.23737812, 206.234972  , 206.23505306,\n",
       "       206.23815727, 206.23195076, 206.22769642, 206.23636627,\n",
       "       206.23310852, 206.23298359, 206.23204613, 206.2284708 ,\n",
       "       206.23826122, 206.22821712, 206.22568321, 206.23279762,\n",
       "       206.2348423 , 206.23615551, 206.227458  , 206.23378277,\n",
       "       206.23585224, 206.23689842, 206.22988701, 206.22929382,\n",
       "       206.23450279, 206.22095013, 206.23489285, 206.23088646,\n",
       "       206.23606586, 206.23390198, 206.23459244, 206.22872448,\n",
       "       206.23145103, 206.23370171, 206.23480606, 206.2302351 ,\n",
       "       206.23277378, 206.23622131, 206.22770882, 206.23154163,\n",
       "       206.23128605, 206.22975254, 206.22711086, 206.234869  ,\n",
       "       206.21965027, 206.23465252, 206.22989464, 206.23059082,\n",
       "       206.23278522, 206.2360878 , 206.23449039, 206.22882175,\n",
       "       206.22699165, 206.23628807, 206.23134136, 206.23840904])"
      ]
     },
     "execution_count": 51,
     "metadata": {},
     "output_type": "execute_result"
    }
   ],
   "source": [
    "np.array(out_l)"
   ]
  },
  {
   "cell_type": "code",
   "execution_count": 52,
   "metadata": {},
   "outputs": [],
   "source": [
    "\n",
    "r_1= pd.DataFrame(np.array(out_l).reshape(-1,1)).assign(name=\"original data size\")\n",
    "r_2 = pd.DataFrame(np.array(in_l).reshape(-1,1)).assign(name=\"data import to Pandas\")\n"
   ]
  },
  {
   "cell_type": "code",
   "execution_count": 53,
   "metadata": {},
   "outputs": [],
   "source": [
    "r_3 = pd.concat([r_1,r_2],axis=0).rename(columns={0:\"MB\"})"
   ]
  },
  {
   "cell_type": "code",
   "execution_count": 54,
   "metadata": {},
   "outputs": [
    {
     "data": {
      "text/plain": [
       "<Axes: xlabel='name', ylabel='MB'>"
      ]
     },
     "execution_count": 54,
     "metadata": {},
     "output_type": "execute_result"
    },
    {
     "data": {
      "image/png": "[encoded data removed]",
      "text/plain": [
       "<Figure size 640x480 with 1 Axes>"
      ]
     },
     "metadata": {},
     "output_type": "display_data"
    }
   ],
   "source": [
    "import seaborn as sns\n",
    "\n",
    "sns.barplot(r_3,y=\"MB\",x=\"name\")"
   ]
  },
  {
   "cell_type": "code",
   "execution_count": 8,
   "metadata": {},
   "outputs": [],
   "source": [
    "a = np.array([10,100,1000]).reshape(-1,1)"
   ]
  },
  {
   "cell_type": "code",
   "execution_count": null,
   "metadata": {},
   "outputs": [],
   "source": []
  },
  {
   "cell_type": "code",
   "execution_count": 19,
   "metadata": {},
   "outputs": [
    {
     "name": "stdout",
     "output_type": "stream",
     "text": [
      "Conversion completed successfully!\n"
     ]
    }
   ],
   "source": [
    "import os\n",
    "# 定義文件路徑\n",
    "# for original_pdf in glob(\"C:\\\\Users\\\\foresight_User\\\\Desktop\\\\知識通\\\\統計學\\\\*.pdf\"):\n",
    "#     cleaned_pdf = original_pdf +\".cleaned.pdf\"\n",
    "    \n",
    "\n",
    "#     # 去除浮水印和隱藏字元\n",
    "#     remove_watermarks_and_hidden_text(original_pdf, cleaned_pdf)\n",
    "\n",
    "    # 將PDF轉換為Word文檔\n",
    "    #convert_pdf_to_docx(cleaned_pdf, output_docx)\n",
    "for i,original_pdf in enumerate(glob(\"C:\\\\Users\\\\foresight_User\\\\Desktop\\\\知識通\\\\食譜\\\\*.pdf.cleaned.pdf\")):\n",
    "    \n",
    "    #cleaned_pdf = original_pdf +\".cleaned.pdf\"\n",
    "    #os.rename(original_pdf, \"C:\\\\Users\\\\foresight_User\\\\Desktop\\\\知識通\\\\食譜\\\\\"+str(i)+'_cleaned.pdf')\n",
    "    #try:\n",
    "    remove_watermarks_and_hidden_text(original_pdf, f\"C:\\\\Users\\\\foresight_User\\\\Desktop\\\\知識通\\\\食譜\\\\cook_{i}_clean.pdf\")\n",
    "    os.remove(original_pdf)\n",
    "    #except:\n",
    "    #print(cleaned_pdf)\n",
    "print(\"Conversion completed successfully!\")\n"
   ]
  },
  {
   "cell_type": "code",
   "execution_count": 4,
   "metadata": {},
   "outputs": [],
   "source": []
  },
  {
   "cell_type": "code",
   "execution_count": 5,
   "metadata": {},
   "outputs": [],
   "source": []
  },
  {
   "cell_type": "code",
   "execution_count": null,
   "metadata": {},
   "outputs": [],
   "source": []
  }
 ],
 "metadata": {
  "kernelspec": {
   "display_name": "base",
   "language": "python",
   "name": "python3"
  },
  "language_info": {
   "codemirror_mode": {
    "name": "ipython",
    "version": 3
   },
   "file_extension": ".py",
   "mimetype": "text/x-python",
   "name": "python",
   "nbconvert_exporter": "python",
   "pygments_lexer": "ipython3",
   "version": "3.11.5"
  }
 },
 "nbformat": 4,
 "nbformat_minor": 2
}
