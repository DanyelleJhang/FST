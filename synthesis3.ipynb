{
 "cells": [
  {
   "cell_type": "code",
   "execution_count": 228,
   "metadata": {},
   "outputs": [],
   "source": [
    "#from pyprocessmacro import Process\n",
    "import pandas as pd\n",
    "from sklearn.model_selection import train_test_split\n",
    "from sklearn.ensemble import RandomForestRegressor\n",
    "from sklearn.metrics import r2_score\n",
    "import xgboost as xgb\n",
    "import warnings\n",
    "warnings.filterwarnings('ignore')\n",
    "import numpy as np\n",
    "\n",
    "dir = \"C:/Users/foresight_User/Desktop/公司文件/4.CIT季賽/測試資料/\"\n",
    "data = pd.read_csv(dir+\"CH_TO.csv\").drop(columns=[\"Context Name\"])\n",
    "data.columns = list(map(lambda x: \"x_\" +str(x) ,range(len(data.columns)-1)))+[\"Y\"]\n",
    "feature = pd.read_csv(dir+\"wb/Indicator_Data(1).csv\").drop(columns=[\"Unnamed: 74\",\"Context Name\"])#.to_numpy()\n",
    "target = pd.read_csv(dir+\"wb/Metrology_Data(1).csv\")[[\"Point1\"]]#.to_numpy()\n",
    "\n",
    "\n",
    "# data = pd.read_excel(\"C:/Users/foresight_User/Desktop/公司文件/4.CIT季賽/測試資料/Array7_N808測試資料集/Model_TJN808XK_SAMP75.xlsx\").drop(columns=[\"CONTEXTID\"])\n",
    "# feature = data.drop(columns=list(filter(lambda x: \"T2_CD\" in x,data.columns)))#.to_numpy()\n",
    "# target = data[[\"T2_CD01_Mean\"]]#.to_numpy()\n",
    "\n",
    "\n",
    "# data = pd.read_csv(\"C:/Users/foresight_User/Data/測試資料/VISERA_170.csv\").drop(columns=[\"Context Name\",\"Process Start Time\",\"Metrology Start Time\"])\n",
    "\n",
    "\n",
    "# feature = data.drop(columns=['Point1', 'Point2', 'Point3', 'Point4', 'Point5', 'Point6', 'Point7',\n",
    "#        'Point8', 'Point9', 'Point10', 'Point11', 'Point12', 'Point13',\n",
    "#        'Point14', 'Point15', 'Point16', 'Point17', 'Point18', 'Point19',\n",
    "#        'Point20', 'Point21', 'Point22', 'Point23', 'Point24', 'Point25',\n",
    "#        'Point26', 'Point27', 'Point28', 'Point29', 'Point30', 'Point31',\n",
    "#        'Point32', 'Point33', 'Point34', 'Point35', 'Point36', 'Point37',\n",
    "#        'Point38', 'Point39', 'Point40', 'Point41', 'Point42', 'Point43',\n",
    "#        'Point44', 'Point45', 'Point46', 'Point47', 'Point48', 'Point49'])\n",
    "\n",
    "# target = data[['Point1', 'Point2', 'Point3', 'Point4', 'Point5', 'Point6', 'Point7',\n",
    "#        'Point8', 'Point9', 'Point10', 'Point11', 'Point12', 'Point13',\n",
    "#        'Point14', 'Point15', 'Point16', 'Point17', 'Point18', 'Point19',\n",
    "#        'Point20', 'Point21', 'Point22', 'Point23', 'Point24', 'Point25',\n",
    "#        'Point26', 'Point27', 'Point28', 'Point29', 'Point30', 'Point31',\n",
    "#        'Point32', 'Point33', 'Point34', 'Point35', 'Point36', 'Point37',\n",
    "#        'Point38', 'Point39', 'Point40', 'Point41', 'Point42', 'Point43',\n",
    "#        'Point44', 'Point45', 'Point46', 'Point47', 'Point48', 'Point49']]\n",
    "\n",
    "\n",
    "\n",
    "\n",
    "\n",
    "feature.columns = list(map(lambda x: \"x_\" +str(x) ,range(len(feature.columns))))\n",
    "target.columns = list(map(lambda x: \"y_\" +str(x) ,range(len(target.columns))))\n",
    "data = pd.concat([feature,target],axis=1)"
   ]
  },
  {
   "cell_type": "code",
   "execution_count": null,
   "metadata": {},
   "outputs": [],
   "source": []
  },
  {
   "cell_type": "code",
   "execution_count": 229,
   "metadata": {},
   "outputs": [
    {
     "name": "stderr",
     "output_type": "stream",
     "text": [
      "Gen. (-2.19) | Discrim. (0.14): 100%|██████████| 500/500 [01:25<00:00,  5.85it/s] \n",
      "Sampling conditions: 100%|██████████| 72800/72800 [33:43<00:00, 35.98it/s]  \n",
      "Gen. (-3.03) | Discrim. (-0.32): 100%|██████████| 500/500 [01:21<00:00,  6.13it/s]\n",
      "Sampling conditions: 100%|██████████| 72800/72800 [38:29<00:00, 31.52it/s]\n",
      "Gen. (-3.99) | Discrim. (0.00): 100%|██████████| 500/500 [01:21<00:00,  6.16it/s] \n",
      "Sampling conditions: 100%|██████████| 72800/72800 [39:23<00:00, 30.80it/s]  \n",
      "Gen. (-1.15) | Discrim. (-0.14): 100%|██████████| 500/500 [01:22<00:00,  6.10it/s]\n",
      "Sampling conditions: 100%|██████████| 72800/72800 [32:50<00:00, 36.94it/s]\n",
      "Gen. (-3.27) | Discrim. (0.18): 100%|██████████| 500/500 [01:21<00:00,  6.15it/s] \n",
      "Sampling conditions: 100%|██████████| 72800/72800 [31:13<00:00, 38.85it/s] \n",
      "Gen. (-1.94) | Discrim. (0.18): 100%|██████████| 500/500 [01:22<00:00,  6.08it/s] \n",
      "Sampling conditions: 100%|██████████| 72800/72800 [39:32<00:00, 30.68it/s]\n",
      "Gen. (-1.80) | Discrim. (-0.18): 100%|██████████| 500/500 [01:21<00:00,  6.11it/s]\n",
      "Sampling conditions: 100%|██████████| 72800/72800 [30:47<00:00, 39.41it/s]\n",
      "Gen. (-2.39) | Discrim. (-0.06): 100%|██████████| 500/500 [01:22<00:00,  6.03it/s]\n",
      "Sampling conditions: 100%|██████████| 72800/72800 [33:56<00:00, 35.74it/s]  \n",
      "Gen. (-1.47) | Discrim. (0.10): 100%|██████████| 500/500 [01:22<00:00,  6.06it/s] \n",
      "Sampling conditions: 100%|██████████| 72800/72800 [33:29<00:00, 36.23it/s] \n",
      "Gen. (-3.78) | Discrim. (0.12): 100%|██████████| 500/500 [01:21<00:00,  6.11it/s] \n",
      "Sampling conditions: 100%|██████████| 72800/72800 [34:15<00:00, 35.42it/s] \n",
      "Gen. (-2.67) | Discrim. (-0.22): 100%|██████████| 500/500 [01:22<00:00,  6.09it/s]\n",
      "Sampling conditions: 100%|██████████| 72800/72800 [31:37<00:00, 38.36it/s]\n",
      "Gen. (-2.12) | Discrim. (0.10): 100%|██████████| 500/500 [01:22<00:00,  6.07it/s] \n",
      "Sampling conditions: 100%|██████████| 72800/72800 [43:08<00:00, 28.12it/s] \n",
      "Gen. (-3.62) | Discrim. (0.18): 100%|██████████| 500/500 [01:22<00:00,  6.07it/s] \n",
      "Sampling conditions: 100%|██████████| 72800/72800 [32:56<00:00, 36.83it/s] \n",
      "Gen. (-1.96) | Discrim. (0.10): 100%|██████████| 500/500 [01:22<00:00,  6.07it/s] \n",
      "Sampling conditions: 100%|██████████| 72800/72800 [42:54<00:00, 28.27it/s]\n",
      "Gen. (-2.12) | Discrim. (0.38): 100%|██████████| 500/500 [01:22<00:00,  6.05it/s] \n",
      "Sampling conditions: 100%|██████████| 72800/72800 [37:52<00:00, 32.03it/s]\n",
      "Gen. (-1.88) | Discrim. (-0.23): 100%|██████████| 500/500 [01:22<00:00,  6.08it/s]\n",
      "Sampling conditions: 100%|██████████| 72800/72800 [34:20<00:00, 35.33it/s]\n",
      "Gen. (-1.62) | Discrim. (0.26): 100%|██████████| 500/500 [01:22<00:00,  6.06it/s] \n",
      "Sampling conditions: 100%|██████████| 72800/72800 [32:58<00:00, 36.79it/s] \n",
      "Gen. (-2.68) | Discrim. (0.11): 100%|██████████| 500/500 [01:22<00:00,  6.07it/s] \n",
      "Sampling conditions: 100%|██████████| 72800/72800 [31:35<00:00, 38.41it/s]  \n",
      "Gen. (-2.46) | Discrim. (-0.48): 100%|██████████| 500/500 [01:22<00:00,  6.07it/s]\n",
      "Sampling conditions: 100%|██████████| 72800/72800 [42:04<00:00, 28.84it/s]\n",
      "Gen. (-2.60) | Discrim. (-0.41): 100%|██████████| 500/500 [01:22<00:00,  6.05it/s]\n",
      "Sampling conditions: 100%|██████████| 72800/72800 [31:36<00:00, 38.39it/s] \n",
      "Gen. (-2.00) | Discrim. (0.55): 100%|██████████| 500/500 [01:22<00:00,  6.10it/s] \n",
      "Sampling conditions: 100%|██████████| 72800/72800 [32:59<00:00, 36.77it/s]\n",
      "Gen. (-3.84) | Discrim. (0.24): 100%|██████████| 500/500 [01:21<00:00,  6.10it/s] \n",
      "Sampling conditions: 100%|██████████| 72800/72800 [31:34<00:00, 38.43it/s]\n",
      "Gen. (-2.40) | Discrim. (0.32): 100%|██████████| 500/500 [01:22<00:00,  6.04it/s] \n",
      "Sampling conditions:   3%|▎         | 2347/72800 [02:07<32:13, 36.43it/s]  "
     ]
    }
   ],
   "source": [
    "experiment_0 =[]\n",
    "experiment_1 = []\n",
    "experiment_2 = []\n",
    "experiment_3 = []\n",
    "\n",
    "\n",
    "for i in range(100):\n",
    "    #reg = RandomForestRegressor(n_estimators=100)\n",
    "    reg = xgb.XGBRegressor(tree_method=\"hist\", multi_strategy=\"multi_output_tree\",random_state=np.random.randint(0,1000)) # one_output_per_tree\n",
    "    X_train, X_test, y_train, y_test = train_test_split(\n",
    "        feature, target, test_size=0.33,random_state=np.random.randint(0,1000))\n",
    "    reg.fit(X_train, y_train)\n",
    "    r2_score(y_test, reg.predict(X_test))\n",
    "\n",
    "\n",
    "    from sdv.metadata import SingleTableMetadata\n",
    "\n",
    "    metadata = SingleTableMetadata()\n",
    "    metadata.detect_from_dataframe(data)\n",
    "\n",
    "\n",
    "    # from sdv.single_table import GaussianCopulaSynthesizer\n",
    "    # synthesizer = GaussianCopulaSynthesizer(\n",
    "    #     metadata, # required\n",
    "    #     enforce_min_max_values=True,\n",
    "    #     enforce_rounding=False,\n",
    "    #     #numerical_distributions={\n",
    "    #         #'x_0': 'norm',\n",
    "    #         #'x_1': 'beta',\n",
    "    #         #'x_2': 'truncnorm',\n",
    "    #         #'x_3': 'uniform',\n",
    "    #         #'x_4': 'gamma',\n",
    "    #         #'x_5': 'gaussian_kde'\n",
    "    #     #},\n",
    "    #     default_distribution='norm'\n",
    "    # )\n",
    "    from sdv.single_table import CTGANSynthesizer\n",
    "\n",
    "    synthesizer = CTGANSynthesizer(\n",
    "        metadata, # required\n",
    "        enforce_rounding=False,\n",
    "        epochs=500,\n",
    "        verbose=True\n",
    "    )\n",
    "\n",
    "\n",
    "    \n",
    "    synthesizer.fit(data)\n",
    "\n",
    "    #synthetic_data = synthesizer.sample(num_rows=10)\n",
    "\n",
    "\n",
    "\n",
    "    from sdv.sampling import Condition\n",
    "    # condition_list = []\n",
    "    # for y in data[\"y_0\"].to_list():\n",
    "    #     c = Condition(\n",
    "    #         column_values={\"y_0\":y},\n",
    "    #         num_rows=10\n",
    "    #         )\n",
    "    #     condition_list.append(c)\n",
    "    condition_list = []\n",
    "    for _, row in data.iterrows():\n",
    "        y_values = {f\"y_{i}\": row[f\"y_{i}\"] for i in range(len(target.columns))}  # Adjust the range if you have more y columns\n",
    "        c = Condition(column_values=y_values, num_rows=100)\n",
    "        condition_list.append(c)\n",
    "\n",
    "\n",
    "    synthetic_data = synthesizer.sample_from_conditions(\n",
    "        conditions=condition_list,batch_size=50,max_tries_per_batch=500\n",
    "    )\n",
    "\n",
    "\n",
    "    X_unlabeled = synthetic_data.drop(columns=[f\"y_{i}\" for i in range(len(target.columns))]).to_numpy()\n",
    "    y_unlabeled = synthetic_data[[f\"y_{i}\" for i in range(len(target.columns))]].to_numpy()\n",
    "    \n",
    "    ###\n",
    "    X_test = X_test.to_numpy()\n",
    "    y_test = y_test.to_numpy()\n",
    "    initial_r2 = reg.score(X_test,y_test)\n",
    "\n",
    "\n",
    "\n",
    "    #improvement_threshold = 0.01  # 設定提升R²的閾值\n",
    "    selected_feature = np.empty((0, X_test.shape[1]))\n",
    "    selected_target = np.empty((0, y_test.shape[1]))\n",
    "    for i in range(len(X_unlabeled)):\n",
    "        # 評估添加每個樣本後的R²變化\n",
    "        candidate_feature = X_unlabeled[i].reshape(1, -1)\n",
    "        candidate_target = y_unlabeled[i].reshape(1, -1)\n",
    "\n",
    "        # 暫時增加樣本\n",
    "        if selected_feature.size != 0 and selected_target.size != 0:\n",
    "        #learner.teach(candidate_sample, candidate_label)\n",
    "            X_new = np.vstack((X_test, candidate_feature,selected_feature))\n",
    "            y_new = np.vstack((y_test, candidate_target,selected_target))\n",
    "        else:\n",
    "            X_new = np.vstack((X_test, candidate_feature))\n",
    "            y_new = np.vstack((y_test, candidate_target))\n",
    "        new_r2 = reg.score(X_new, y_new)\n",
    "        # 檢查R²是否顯著提升\n",
    "        if new_r2 > initial_r2:\n",
    "            selected_feature = np.vstack((selected_feature, candidate_feature)) #np.append(selected_feature,candidate_feature).reshape(1, -1)\n",
    "            selected_target  = np.vstack((selected_target, candidate_target)) #np.append(selected_target,candidate_target).reshape(1, -1)\n",
    "            initial_r2 = new_r2  # 更新R²基準\n",
    "            #print(initial_r2)\n",
    "            \n",
    "        # else:\n",
    "        #     # #print(\"HHHHH\",selected_samples)\n",
    "        #     # # 如果沒有顯著提升，回退模型\n",
    "        #     # learner = ActiveLearner(\n",
    "        #     #     estimator=RandomForestRegressor(n_estimators=100),\n",
    "        #     #     X_training=np.vstack((X_train.to_numpy(), X_unlabeled[selected_samples])),\n",
    "        #     #     y_training=np.vstack((y_train.to_numpy(), y_unlabeled[selected_samples].reshape(-1,1)))\n",
    "        #     # )\n",
    "\n",
    "        # # 打印當前模型性能\n",
    "        #print(f'Iteration {i+1}, New R²: {new_r2:.4f}')\n",
    "\n",
    "    # 打印選擇的樣本索引\n",
    "    #print(\"Selected samples that significantly improve R²:\")\n",
    "    #print(selected_samples)\n",
    "\n",
    "\n",
    "    # 實驗 1\n",
    "    fixed_model_origin_score = reg.score(X_test,y_test)\n",
    "    fixed_model_selected_generative_data_score = reg.score(selected_feature,selected_target)\n",
    "\n",
    "    \n",
    "\n",
    "    experiment_0.append(fixed_model_origin_score)\n",
    "    experiment_1.append(fixed_model_selected_generative_data_score)\n",
    "\n",
    "\n",
    "    # 實驗 2\n",
    "    X_train = X_train.to_numpy()\n",
    "    y_train = y_train.to_numpy()\n",
    "    X_train_new = np.vstack((X_train,selected_feature))#.shape\n",
    "    y_train_new = np.vstack((y_train,selected_target))\n",
    "    reg2 = xgb.XGBRegressor(tree_method=\"hist\", multi_strategy=\"multi_output_tree\",random_state=np.random.randint(0,1000))\n",
    "    reg2.fit(X_train_new, y_train_new)\n",
    "    retrain_by_generative_data_without_test = reg2.score(X_test,y_test)\n",
    "    experiment_2.append(retrain_by_generative_data_without_test)\n",
    "\n",
    "\n",
    "\n",
    "\n",
    "\n",
    "    # 實驗3\n",
    "    origin_X_train, origin_X_test, origin_y_train, origin_y_test = train_test_split(\n",
    "        feature.to_numpy(), target.to_numpy(), test_size=0.33, random_state=np.random.randint(0,1000))\n",
    "    generative_X_train, generative_X_test, generative_y_train, generative_y_test = train_test_split(\n",
    "        selected_feature, selected_target, test_size=0.33, random_state=np.random.randint(0,1000))\n",
    "\n",
    "    X_train = np.vstack((origin_X_train,generative_X_train))#.shape\n",
    "    y_train = np.vstack((origin_y_train,generative_y_train))\n",
    "\n",
    "    X_test = np.vstack((origin_X_test,generative_X_test))#.shape\n",
    "    y_test = np.vstack((origin_y_test,generative_y_test))\n",
    "\n",
    "    reg3 = xgb.XGBRegressor(tree_method=\"hist\", multi_strategy=\"multi_output_tree\",random_state=np.random.randint(0,1000))\n",
    "\n",
    "    reg3.fit(X_train, y_train)\n",
    "    retrain_resample_by_generative_data_all = reg3.score(X_test,y_test)\n",
    "    retrain_resample_by_generative_data_IncludeOrigin = reg3.score(origin_X_test,origin_y_test)\n",
    "    retrain_resample_by_generative_data_ExcludeOrigin = reg3.score(generative_X_test,generative_y_test)\n",
    "    \n",
    "    experiment_3.append([retrain_resample_by_generative_data_all,retrain_resample_by_generative_data_IncludeOrigin,retrain_resample_by_generative_data_ExcludeOrigin])\n",
    "\n",
    "    #print(fixed_model_origin_score,fixed_model_selected_generative_data_score,retrain_by_generative_data_without_test,retrain_resample_by_generative_data)\n"
   ]
  },
  {
   "cell_type": "code",
   "execution_count": 133,
   "metadata": {},
   "outputs": [],
   "source": [
    "info = \"&&&[model train by parts of real data]\"\n",
    "experiment_0_df = pd.DataFrame(experiment_0,columns=[f\"origin_test_score{info}\"]) # model train by train_data(real) vs test_data(real)"
   ]
  },
  {
   "cell_type": "code",
   "execution_count": null,
   "metadata": {},
   "outputs": [],
   "source": []
  },
  {
   "cell_type": "code",
   "execution_count": 134,
   "metadata": {},
   "outputs": [],
   "source": [
    "info = \"&&&[model train by parts of real data]\"\n",
    "experiment_1_df = pd.DataFrame(experiment_1,columns=[f\"generative_data_score{info}\"]) # model train by train_data(real) vs test_data(generative data)"
   ]
  },
  {
   "cell_type": "code",
   "execution_count": 135,
   "metadata": {},
   "outputs": [],
   "source": [
    "info = \"&&&[model train by parts of real data but all generative data)]\"\n",
    "experiment_2_df = pd.DataFrame(experiment_2,columns=[f\"origin_test_score{info}\"]) # model train by train_data(real data + all generative data) vs test_data(real)"
   ]
  },
  {
   "cell_type": "code",
   "execution_count": null,
   "metadata": {},
   "outputs": [],
   "source": []
  },
  {
   "cell_type": "code",
   "execution_count": 136,
   "metadata": {},
   "outputs": [],
   "source": [
    "info = \"&&&[model train ny parts of real data and parts of generative data)]\"\n",
    "experiment_3_df = pd.DataFrame(experiment_3,columns=[f\"origin_test&generative_data_score{info}\",f\"origin_test_score{info}\",f\"generative_data_score{info}\"]) \n",
    "# model train_data(real data + generative data) vs test_data(real data + generative data), test_data(real data), test_data(generative data)"
   ]
  },
  {
   "cell_type": "code",
   "execution_count": 137,
   "metadata": {},
   "outputs": [],
   "source": [
    "experiment_data = pd.concat([experiment_0_df,experiment_1_df,experiment_2_df,experiment_3_df],axis=1)\n",
    "#experiment_data_info = experiment_data[\"variable\"].str.split(\"&&&\",expand=True).rename(columns={0:\"score\",1:\"training_info\"})"
   ]
  },
  {
   "cell_type": "code",
   "execution_count": 138,
   "metadata": {},
   "outputs": [],
   "source": [
    "experiment_data = pd.melt(experiment_data)"
   ]
  },
  {
   "cell_type": "code",
   "execution_count": 139,
   "metadata": {},
   "outputs": [],
   "source": [
    "experiment_data_info = experiment_data[\"variable\"].str.split(\"&&&\",expand=True).rename(columns={0:\"score\",1:\"training_info\"})"
   ]
  },
  {
   "cell_type": "code",
   "execution_count": 140,
   "metadata": {},
   "outputs": [
    {
     "data": {
      "text/html": [
       "<div>\n",
       "<style scoped>\n",
       "    .dataframe tbody tr th:only-of-type {\n",
       "        vertical-align: middle;\n",
       "    }\n",
       "\n",
       "    .dataframe tbody tr th {\n",
       "        vertical-align: top;\n",
       "    }\n",
       "\n",
       "    .dataframe thead th {\n",
       "        text-align: right;\n",
       "    }\n",
       "</style>\n",
       "<table border=\"1\" class=\"dataframe\">\n",
       "  <thead>\n",
       "    <tr style=\"text-align: right;\">\n",
       "      <th></th>\n",
       "      <th>score</th>\n",
       "      <th>training_info</th>\n",
       "    </tr>\n",
       "  </thead>\n",
       "  <tbody>\n",
       "    <tr>\n",
       "      <th>0</th>\n",
       "      <td>origin_test_score</td>\n",
       "      <td>[model train by parts of real data]</td>\n",
       "    </tr>\n",
       "    <tr>\n",
       "      <th>1</th>\n",
       "      <td>origin_test_score</td>\n",
       "      <td>[model train by parts of real data]</td>\n",
       "    </tr>\n",
       "    <tr>\n",
       "      <th>2</th>\n",
       "      <td>origin_test_score</td>\n",
       "      <td>[model train by parts of real data]</td>\n",
       "    </tr>\n",
       "    <tr>\n",
       "      <th>3</th>\n",
       "      <td>origin_test_score</td>\n",
       "      <td>[model train by parts of real data]</td>\n",
       "    </tr>\n",
       "    <tr>\n",
       "      <th>4</th>\n",
       "      <td>origin_test_score</td>\n",
       "      <td>[model train by parts of real data]</td>\n",
       "    </tr>\n",
       "    <tr>\n",
       "      <th>...</th>\n",
       "      <td>...</td>\n",
       "      <td>...</td>\n",
       "    </tr>\n",
       "    <tr>\n",
       "      <th>595</th>\n",
       "      <td>generative_data_score</td>\n",
       "      <td>[model train ny parts of real data and parts o...</td>\n",
       "    </tr>\n",
       "    <tr>\n",
       "      <th>596</th>\n",
       "      <td>generative_data_score</td>\n",
       "      <td>[model train ny parts of real data and parts o...</td>\n",
       "    </tr>\n",
       "    <tr>\n",
       "      <th>597</th>\n",
       "      <td>generative_data_score</td>\n",
       "      <td>[model train ny parts of real data and parts o...</td>\n",
       "    </tr>\n",
       "    <tr>\n",
       "      <th>598</th>\n",
       "      <td>generative_data_score</td>\n",
       "      <td>[model train ny parts of real data and parts o...</td>\n",
       "    </tr>\n",
       "    <tr>\n",
       "      <th>599</th>\n",
       "      <td>generative_data_score</td>\n",
       "      <td>[model train ny parts of real data and parts o...</td>\n",
       "    </tr>\n",
       "  </tbody>\n",
       "</table>\n",
       "<p>600 rows × 2 columns</p>\n",
       "</div>"
      ],
      "text/plain": [
       "                     score                                      training_info\n",
       "0        origin_test_score                [model train by parts of real data]\n",
       "1        origin_test_score                [model train by parts of real data]\n",
       "2        origin_test_score                [model train by parts of real data]\n",
       "3        origin_test_score                [model train by parts of real data]\n",
       "4        origin_test_score                [model train by parts of real data]\n",
       "..                     ...                                                ...\n",
       "595  generative_data_score  [model train ny parts of real data and parts o...\n",
       "596  generative_data_score  [model train ny parts of real data and parts o...\n",
       "597  generative_data_score  [model train ny parts of real data and parts o...\n",
       "598  generative_data_score  [model train ny parts of real data and parts o...\n",
       "599  generative_data_score  [model train ny parts of real data and parts o...\n",
       "\n",
       "[600 rows x 2 columns]"
      ]
     },
     "execution_count": 140,
     "metadata": {},
     "output_type": "execute_result"
    }
   ],
   "source": [
    "experiment_data_info"
   ]
  },
  {
   "cell_type": "code",
   "execution_count": 141,
   "metadata": {},
   "outputs": [],
   "source": [
    "experiment_result = pd.concat([experiment_data,experiment_data_info],axis=1)"
   ]
  },
  {
   "cell_type": "code",
   "execution_count": 199,
   "metadata": {},
   "outputs": [],
   "source": [
    "labels = ['[model train by parts of real data]',\n",
    "'[model train by parts of real data but all generative data)]',\n",
    " '[model train ny parts of real data and parts of generative data)]']"
   ]
  },
  {
   "cell_type": "code",
   "execution_count": 222,
   "metadata": {},
   "outputs": [
    {
     "data": {
      "image/png": "[encoded data removed]",
      "text/plain": [
       "<Figure size 640x480 with 1 Axes>"
      ]
     },
     "metadata": {},
     "output_type": "display_data"
    }
   ],
   "source": [
    "#experiment_result= pd.read_csv(\"C:/Users/foresight_User/Data/測試資料/VISERA_170_gerative_results.csv\",sep=\"\\t\")\n",
    "experiment_result= pd.read_csv(\"C:/Users/foresight_User/Desktop/公司文件/4.CIT季賽/測試資料/wb_gerative_results.csv\",sep=\"\\t\")\n",
    "import seaborn as sns\n",
    "ax = sns.boxplot(data=experiment_result, x=\"training_info\", y=\"value\", hue=\"score\")\n",
    "sns.move_legend(ax, \"upper left\", bbox_to_anchor=(1, 1))\n",
    "ax.tick_params(axis='x', rotation=45)\n"
   ]
  },
  {
   "cell_type": "code",
   "execution_count": 95,
   "metadata": {},
   "outputs": [],
   "source": [
    "#experiment_result.to_csv(\"C:/Users/foresight_User/Data/測試資料/VISERA_170_gerative_results.csv\",sep=\"\\t\",index=False)"
   ]
  },
  {
   "cell_type": "code",
   "execution_count": 143,
   "metadata": {},
   "outputs": [],
   "source": [
    "#experiment_result.to_csv(\"C:/Users/foresight_User/Desktop/公司文件/4.CIT季賽/測試資料/wb_gerative_results.csv\",sep=\"\\t\",index=False)"
   ]
  },
  {
   "cell_type": "code",
   "execution_count": 144,
   "metadata": {},
   "outputs": [],
   "source": [
    "#experiment_result.to_csv(\"C:/Users/foresight_User/Desktop/公司文件/4.CIT季賽/測試資料/Model_TJN808XK_SAMP75_gerative_results.csv\",sep=\"\\t\",index=False)"
   ]
  },
  {
   "cell_type": "code",
   "execution_count": 215,
   "metadata": {},
   "outputs": [
    {
     "data": {
      "text/plain": [
       "{'generative_data_score',\n",
       " 'origin_test&generative_data_score',\n",
       " 'origin_test_score'}"
      ]
     },
     "execution_count": 215,
     "metadata": {},
     "output_type": "execute_result"
    }
   ],
   "source": [
    "set(experiment_result.score)"
   ]
  },
  {
   "cell_type": "code",
   "execution_count": null,
   "metadata": {},
   "outputs": [],
   "source": [
    "# training_info\n",
    "{'[model train by parts of real data but all generative data)]',\n",
    " '[model train by parts of real data]',\n",
    " '[model train ny parts of real data and parts of generative data)]'}\n",
    "\n",
    "{'generative_data_score',\n",
    " 'origin_test&generative_data_score',\n",
    " 'origin_test_score'}\n",
    "\n",
    " \n",
    "{'generative_data_score&&&[model train by parts of real data]',\n",
    " 'generative_data_score&&&[model train ny parts of real data and parts of generative data)]',\n",
    " 'origin_test&generative_data_score&&&[model train ny parts of real data and parts of generative data)]',\n",
    " 'origin_test_score&&&[model train by parts of real data but all generative data)]',\n",
    " 'origin_test_score&&&[model train by parts of real data]',\n",
    " 'origin_test_score&&&[model train ny parts of real data and parts of generative data)]'}"
   ]
  },
  {
   "cell_type": "code",
   "execution_count": 223,
   "metadata": {},
   "outputs": [
    {
     "data": {
      "text/html": [
       "<div>\n",
       "<style scoped>\n",
       "    .dataframe tbody tr th:only-of-type {\n",
       "        vertical-align: middle;\n",
       "    }\n",
       "\n",
       "    .dataframe tbody tr th {\n",
       "        vertical-align: top;\n",
       "    }\n",
       "\n",
       "    .dataframe thead th {\n",
       "        text-align: right;\n",
       "    }\n",
       "</style>\n",
       "<table border=\"1\" class=\"dataframe\">\n",
       "  <thead>\n",
       "    <tr style=\"text-align: right;\">\n",
       "      <th></th>\n",
       "      <th></th>\n",
       "      <th></th>\n",
       "      <th>value</th>\n",
       "    </tr>\n",
       "    <tr>\n",
       "      <th>variable</th>\n",
       "      <th>score</th>\n",
       "      <th>training_info</th>\n",
       "      <th></th>\n",
       "    </tr>\n",
       "  </thead>\n",
       "  <tbody>\n",
       "    <tr>\n",
       "      <th>generative_data_score&amp;&amp;&amp;[model train by parts of real data]</th>\n",
       "      <th>generative_data_score</th>\n",
       "      <th>[model train by parts of real data]</th>\n",
       "      <td>0.991830</td>\n",
       "    </tr>\n",
       "    <tr>\n",
       "      <th>generative_data_score&amp;&amp;&amp;[model train ny parts of real data and parts of generative data)]</th>\n",
       "      <th>generative_data_score</th>\n",
       "      <th>[model train ny parts of real data and parts of generative data)]</th>\n",
       "      <td>0.976308</td>\n",
       "    </tr>\n",
       "    <tr>\n",
       "      <th>origin_test&amp;generative_data_score&amp;&amp;&amp;[model train ny parts of real data and parts of generative data)]</th>\n",
       "      <th>origin_test&amp;generative_data_score</th>\n",
       "      <th>[model train ny parts of real data and parts of generative data)]</th>\n",
       "      <td>0.971832</td>\n",
       "    </tr>\n",
       "    <tr>\n",
       "      <th>origin_test_score&amp;&amp;&amp;[model train by parts of real data but all generative data)]</th>\n",
       "      <th>origin_test_score</th>\n",
       "      <th>[model train by parts of real data but all generative data)]</th>\n",
       "      <td>0.903953</td>\n",
       "    </tr>\n",
       "    <tr>\n",
       "      <th>origin_test_score&amp;&amp;&amp;[model train by parts of real data]</th>\n",
       "      <th>origin_test_score</th>\n",
       "      <th>[model train by parts of real data]</th>\n",
       "      <td>0.890256</td>\n",
       "    </tr>\n",
       "    <tr>\n",
       "      <th>origin_test_score&amp;&amp;&amp;[model train ny parts of real data and parts of generative data)]</th>\n",
       "      <th>origin_test_score</th>\n",
       "      <th>[model train ny parts of real data and parts of generative data)]</th>\n",
       "      <td>0.917300</td>\n",
       "    </tr>\n",
       "  </tbody>\n",
       "</table>\n",
       "</div>"
      ],
      "text/plain": [
       "                                                                                                                                            value\n",
       "variable                                           score                             training_info                                               \n",
       "generative_data_score&&&[model train by parts o... generative_data_score             [model train by parts of real data]                 0.991830\n",
       "generative_data_score&&&[model train ny parts o... generative_data_score             [model train ny parts of real data and parts of...  0.976308\n",
       "origin_test&generative_data_score&&&[model trai... origin_test&generative_data_score [model train ny parts of real data and parts of...  0.971832\n",
       "origin_test_score&&&[model train by parts of re... origin_test_score                 [model train by parts of real data but all gene...  0.903953\n",
       "origin_test_score&&&[model train by parts of re... origin_test_score                 [model train by parts of real data]                 0.890256\n",
       "origin_test_score&&&[model train ny parts of re... origin_test_score                 [model train ny parts of real data and parts of...  0.917300"
      ]
     },
     "execution_count": 223,
     "metadata": {},
     "output_type": "execute_result"
    }
   ],
   "source": [
    "\n",
    "pd.DataFrame(experiment_result.groupby(['variable','score','training_info'])[\"value\"].median())"
   ]
  },
  {
   "cell_type": "code",
   "execution_count": 178,
   "metadata": {},
   "outputs": [],
   "source": [
    "from scipy.stats import ranksums\n",
    "\n",
    "training_condition1 = (experiment_result.training_info == \"[model train by parts of real data]\")\n",
    "training_condition2 = (experiment_result.training_info == \"[model train by parts of real data but all generative data)]\")\n",
    "training_condition3 = (experiment_result.training_info == \"[model train ny parts of real data and parts of generative data)]\")\n",
    "\n",
    "# training_condition1 = (experiment_result.training_info == \"origin_test_score&&&[model train by parts of real data]\")\n",
    "# training_condition2 = (experiment_result.training_info == \"[model train by parts of real data but all generative data)]\")\n",
    "# training_condition3 = (experiment_result.training_info == \"[model train by parts of real data but all generative data)]\")\n",
    "\n",
    "\n",
    "\n",
    "score_condition = (experiment_result.score == \"origin_test_score\")\n",
    "\n"
   ]
  },
  {
   "cell_type": "code",
   "execution_count": null,
   "metadata": {},
   "outputs": [],
   "source": []
  },
  {
   "cell_type": "code",
   "execution_count": 179,
   "metadata": {},
   "outputs": [
    {
     "data": {
      "text/plain": [
       "400    0.054835\n",
       "401    0.401097\n",
       "402    0.351176\n",
       "403   -0.301456\n",
       "404    0.230266\n",
       "         ...   \n",
       "495    0.334662\n",
       "496    0.012634\n",
       "497    0.457470\n",
       "498   -0.148225\n",
       "499    0.239366\n",
       "Name: value, Length: 100, dtype: float64"
      ]
     },
     "execution_count": 179,
     "metadata": {},
     "output_type": "execute_result"
    }
   ],
   "source": [
    "experiment_result[training_condition3 & score_condition][\"value\"]"
   ]
  },
  {
   "cell_type": "code",
   "execution_count": 224,
   "metadata": {},
   "outputs": [],
   "source": [
    "group1 = experiment_result[training_condition1 & score_condition][\"value\"]\n",
    "group2 = experiment_result[training_condition2 & score_condition][\"value\"]\n",
    "group3 = experiment_result[training_condition3 & score_condition][\"value\"]"
   ]
  },
  {
   "cell_type": "code",
   "execution_count": 225,
   "metadata": {},
   "outputs": [
    {
     "data": {
      "text/plain": [
       "6.554285325488133e-13"
      ]
     },
     "execution_count": 225,
     "metadata": {},
     "output_type": "execute_result"
    }
   ],
   "source": [
    "stat, p_value = ranksums(group2,group1, alternative='greater')\n",
    "p_value"
   ]
  },
  {
   "cell_type": "code",
   "execution_count": 226,
   "metadata": {},
   "outputs": [
    {
     "data": {
      "text/plain": [
       "4.909012910117164e-31"
      ]
     },
     "execution_count": 226,
     "metadata": {},
     "output_type": "execute_result"
    }
   ],
   "source": [
    "stat, p_value = ranksums(group3,group1, alternative='greater')\n",
    "p_value"
   ]
  },
  {
   "cell_type": "code",
   "execution_count": 227,
   "metadata": {},
   "outputs": [
    {
     "data": {
      "text/plain": [
       "6.09363431038222e-20"
      ]
     },
     "execution_count": 227,
     "metadata": {},
     "output_type": "execute_result"
    }
   ],
   "source": [
    "stat, p_value = ranksums(group3,group2, alternative='greater')\n",
    "p_value"
   ]
  },
  {
   "cell_type": "code",
   "execution_count": null,
   "metadata": {},
   "outputs": [],
   "source": []
  },
  {
   "cell_type": "code",
   "execution_count": null,
   "metadata": {},
   "outputs": [],
   "source": []
  },
  {
   "cell_type": "code",
   "execution_count": null,
   "metadata": {},
   "outputs": [],
   "source": []
  }
 ],
 "metadata": {
  "kernelspec": {
   "display_name": "Python3.9.13",
   "language": "python",
   "name": "python3"
  },
  "language_info": {
   "codemirror_mode": {
    "name": "ipython",
    "version": 3
   },
   "file_extension": ".py",
   "mimetype": "text/x-python",
   "name": "python",
   "nbconvert_exporter": "python",
   "pygments_lexer": "ipython3",
   "version": "3.9.13"
  }
 },
 "nbformat": 4,
 "nbformat_minor": 2
}
